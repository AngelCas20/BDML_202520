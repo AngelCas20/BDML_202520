{
 "cells": [
  {
   "cell_type": "markdown",
   "id": "340f63f6-93da-4633-9f43-43927ea8d65c",
   "metadata": {},
   "source": [
    "<div >\n",
    "<img src = \"../banner.jpg\" />\n",
    "</div>"
   ]
  },
  {
   "cell_type": "markdown",
   "id": "7c622016",
   "metadata": {},
   "source": [
    "### LDA"
   ]
  },
  {
   "cell_type": "markdown",
   "id": "c9be5aea",
   "metadata": {},
   "source": [
    "\n",
    "\\begin{align}\n",
    "p (Y=1|X)=\\frac{f(X|Y=1)p(Y=1)}{m(X)}\n",
    "\\end{align}\n",
    "\n",
    "\n",
    "with $m(X)$ is the marginal distribution of $X$, i.e.\n",
    "\n",
    "\\begin{align}\n",
    "m(X)=\\int f(X|Y=y)p(Y=y)dy\n",
    "\\end{align}\n",
    "\n",
    "Recall that there are two states of nature $y \\rightarrow i\\in\\{0,1\\}$\n",
    "\n",
    "\n",
    "\\begin{align}\n",
    "m(X) &= f(X|Y=1)p(Y=1) + f(X|Y=0)p(Y=0) \n",
    "\\end{align}\n",
    "\n",
    "\n",
    "\\begin{align}\n",
    "m(X)     &= f(X|Y=1)p(Y=1) + f(X|Y=0)(1-p(Y=1))\n",
    "\\end{align}"
   ]
  },
  {
   "cell_type": "markdown",
   "id": "21a7d206",
   "metadata": {},
   "source": [
    "We need to estimate $f(X|Y=1)$,  $f(X|Y=0)$ and $p(Y=1)$ \n"
   ]
  },
  {
   "cell_type": "markdown",
   "id": "cbf29ed1",
   "metadata": {},
   "source": [
    "#### By Hand\n",
    "\n",
    "Let's apply it in our unemployment problem. Unemployment prediction is a classic problem of classification and remains one of the key application areas for machine learning: we use previous employment results (employed versus unemployed) to train a model that can predict the employment status of individuals in new cases.\n",
    "\n",
    "\\begin{align}\n",
    "Unemployment = f(x) + u\n",
    "\\end{align}\n",
    "\n",
    "where $Unemployment = I(Unemployment=1)$\n"
   ]
  },
  {
   "cell_type": "code",
   "execution_count": 1,
   "id": "81efa696",
   "metadata": {
    "vscode": {
     "languageId": "r"
    }
   },
   "outputs": [
    {
     "name": "stderr",
     "output_type": "stream",
     "text": [
      "Loading required package: pacman\n",
      "\n"
     ]
    }
   ],
   "source": [
    "#Cargar librerías \n",
    "require(\"pacman\")\n",
    "p_load(tidyverse)\n",
    "set.seed(1011)"
   ]
  },
  {
   "cell_type": "code",
   "execution_count": 2,
   "id": "363f512b",
   "metadata": {
    "vscode": {
     "languageId": "r"
    }
   },
   "outputs": [
    {
     "data": {
      "text/html": [
       "<table class=\"dataframe\">\n",
       "<caption>A tibble: 6 x 13</caption>\n",
       "<thead>\n",
       "\t<tr><th scope=col>desempleado</th><th scope=col>edad</th><th scope=col>mujer</th><th scope=col>parentesco</th><th scope=col>nivel_ed</th><th scope=col>estado_civil</th><th scope=col>total_miembros_hogar</th><th scope=col>miembros_hogar_menores10</th><th scope=col>ing_tot_fam</th><th scope=col>tipo_vivienda</th><th scope=col>ciudad</th><th scope=col>trimestre</th><th scope=col>id_hogar</th></tr>\n",
       "\t<tr><th scope=col>&lt;dbl&gt;</th><th scope=col>&lt;dbl&gt;</th><th scope=col>&lt;dbl&gt;</th><th scope=col>&lt;fct&gt;</th><th scope=col>&lt;fct&gt;</th><th scope=col>&lt;fct&gt;</th><th scope=col>&lt;dbl&gt;</th><th scope=col>&lt;dbl&gt;</th><th scope=col>&lt;dbl&gt;</th><th scope=col>&lt;fct&gt;</th><th scope=col>&lt;fct&gt;</th><th scope=col>&lt;dbl&gt;</th><th scope=col>&lt;chr&gt;</th></tr>\n",
       "</thead>\n",
       "<tbody>\n",
       "\t<tr><td>0</td><td>49</td><td>0</td><td>Hijo/a - Hijastro/a</td><td>Superior Universitaria Incompleta</td><td>Soltero/a</td><td>2</td><td>0</td><td>4200</td><td>Casa        </td><td>Gran Rosario    </td><td>1</td><td>  1250021</td></tr>\n",
       "\t<tr><td>0</td><td>56</td><td>1</td><td>Jefe/a             </td><td>Primaria Completa                </td><td>Viudo/a  </td><td>1</td><td>0</td><td>1380</td><td>Departamento</td><td>Rio Cuarto      </td><td>1</td><td>  1250241</td></tr>\n",
       "\t<tr><td>0</td><td>31</td><td>0</td><td>Jefe/a             </td><td>Superior Universitaria Incompleta</td><td>Unido/a  </td><td>3</td><td>1</td><td>8400</td><td>Casa        </td><td>Partidos del GBA</td><td>1</td><td>  1251051</td></tr>\n",
       "\t<tr><td>0</td><td>33</td><td>1</td><td>Conyuge/Pareja     </td><td>Superior Universitaria Completa  </td><td>Unido/a  </td><td>3</td><td>1</td><td>8400</td><td>Casa        </td><td>Partidos del GBA</td><td>1</td><td>  1251051</td></tr>\n",
       "\t<tr><td>0</td><td>40</td><td>1</td><td>Hijo/a - Hijastro/a</td><td>Secundaria Completa              </td><td>Unido/a  </td><td>5</td><td>2</td><td>8800</td><td>Casa        </td><td>Gran Cordoba    </td><td>1</td><td>  1251161</td></tr>\n",
       "\t<tr><td>0</td><td>49</td><td>0</td><td>Yerno/Nuera        </td><td>Secundaria Completa              </td><td>Unido/a  </td><td>5</td><td>2</td><td>8800</td><td>Casa        </td><td>Gran Cordoba    </td><td>1</td><td>  1251161</td></tr>\n",
       "</tbody>\n",
       "</table>\n"
      ],
      "text/latex": [
       "A tibble: 6 x 13\n",
       "\\begin{tabular}{lllllllllllll}\n",
       " desempleado & edad & mujer & parentesco & nivel\\_ed & estado\\_civil & total\\_miembros\\_hogar & miembros\\_hogar\\_menores10 & ing\\_tot\\_fam & tipo\\_vivienda & ciudad & trimestre & id\\_hogar\\\\\n",
       " <dbl> & <dbl> & <dbl> & <fct> & <fct> & <fct> & <dbl> & <dbl> & <dbl> & <fct> & <fct> & <dbl> & <chr>\\\\\n",
       "\\hline\n",
       "\t 0 & 49 & 0 & Hijo/a - Hijastro/a & Superior Universitaria Incompleta & Soltero/a & 2 & 0 & 4200 & Casa         & Gran Rosario     & 1 &   1250021\\\\\n",
       "\t 0 & 56 & 1 & Jefe/a              & Primaria Completa                 & Viudo/a   & 1 & 0 & 1380 & Departamento & Rio Cuarto       & 1 &   1250241\\\\\n",
       "\t 0 & 31 & 0 & Jefe/a              & Superior Universitaria Incompleta & Unido/a   & 3 & 1 & 8400 & Casa         & Partidos del GBA & 1 &   1251051\\\\\n",
       "\t 0 & 33 & 1 & Conyuge/Pareja      & Superior Universitaria Completa   & Unido/a   & 3 & 1 & 8400 & Casa         & Partidos del GBA & 1 &   1251051\\\\\n",
       "\t 0 & 40 & 1 & Hijo/a - Hijastro/a & Secundaria Completa               & Unido/a   & 5 & 2 & 8800 & Casa         & Gran Cordoba     & 1 &   1251161\\\\\n",
       "\t 0 & 49 & 0 & Yerno/Nuera         & Secundaria Completa               & Unido/a   & 5 & 2 & 8800 & Casa         & Gran Cordoba     & 1 &   1251161\\\\\n",
       "\\end{tabular}\n"
      ],
      "text/markdown": [
       "\n",
       "A tibble: 6 x 13\n",
       "\n",
       "| desempleado &lt;dbl&gt; | edad &lt;dbl&gt; | mujer &lt;dbl&gt; | parentesco &lt;fct&gt; | nivel_ed &lt;fct&gt; | estado_civil &lt;fct&gt; | total_miembros_hogar &lt;dbl&gt; | miembros_hogar_menores10 &lt;dbl&gt; | ing_tot_fam &lt;dbl&gt; | tipo_vivienda &lt;fct&gt; | ciudad &lt;fct&gt; | trimestre &lt;dbl&gt; | id_hogar &lt;chr&gt; |\n",
       "|---|---|---|---|---|---|---|---|---|---|---|---|---|\n",
       "| 0 | 49 | 0 | Hijo/a - Hijastro/a | Superior Universitaria Incompleta | Soltero/a | 2 | 0 | 4200 | Casa         | Gran Rosario     | 1 |   1250021 |\n",
       "| 0 | 56 | 1 | Jefe/a              | Primaria Completa                 | Viudo/a   | 1 | 0 | 1380 | Departamento | Rio Cuarto       | 1 |   1250241 |\n",
       "| 0 | 31 | 0 | Jefe/a              | Superior Universitaria Incompleta | Unido/a   | 3 | 1 | 8400 | Casa         | Partidos del GBA | 1 |   1251051 |\n",
       "| 0 | 33 | 1 | Conyuge/Pareja      | Superior Universitaria Completa   | Unido/a   | 3 | 1 | 8400 | Casa         | Partidos del GBA | 1 |   1251051 |\n",
       "| 0 | 40 | 1 | Hijo/a - Hijastro/a | Secundaria Completa               | Unido/a   | 5 | 2 | 8800 | Casa         | Gran Cordoba     | 1 |   1251161 |\n",
       "| 0 | 49 | 0 | Yerno/Nuera         | Secundaria Completa               | Unido/a   | 5 | 2 | 8800 | Casa         | Gran Cordoba     | 1 |   1251161 |\n",
       "\n"
      ],
      "text/plain": [
       "  desempleado edad mujer parentesco          nivel_ed                         \n",
       "1 0           49   0     Hijo/a - Hijastro/a Superior Universitaria Incompleta\n",
       "2 0           56   1     Jefe/a              Primaria Completa                \n",
       "3 0           31   0     Jefe/a              Superior Universitaria Incompleta\n",
       "4 0           33   1     Conyuge/Pareja      Superior Universitaria Completa  \n",
       "5 0           40   1     Hijo/a - Hijastro/a Secundaria Completa              \n",
       "6 0           49   0     Yerno/Nuera         Secundaria Completa              \n",
       "  estado_civil total_miembros_hogar miembros_hogar_menores10 ing_tot_fam\n",
       "1 Soltero/a    2                    0                        4200       \n",
       "2 Viudo/a      1                    0                        1380       \n",
       "3 Unido/a      3                    1                        8400       \n",
       "4 Unido/a      3                    1                        8400       \n",
       "5 Unido/a      5                    2                        8800       \n",
       "6 Unido/a      5                    2                        8800       \n",
       "  tipo_vivienda ciudad           trimestre id_hogar \n",
       "1 Casa          Gran Rosario     1           1250021\n",
       "2 Departamento  Rio Cuarto       1           1250241\n",
       "3 Casa          Partidos del GBA 1           1251051\n",
       "4 Casa          Partidos del GBA 1           1251051\n",
       "5 Casa          Gran Cordoba     1           1251161\n",
       "6 Casa          Gran Cordoba     1           1251161"
      ]
     },
     "metadata": {},
     "output_type": "display_data"
    }
   ],
   "source": [
    "#Leer los datos \n",
    "db <- readRDS(url(\"https://github.com/ignaciomsarmiento/datasets/blob/main/desempelo_arg_2010.Rds?raw=true\"))\n",
    "head(db)"
   ]
  },
  {
   "cell_type": "markdown",
   "id": "b8351e87",
   "metadata": {},
   "source": [
    "\n",
    "- Let's start by estimating $p(Y=1)$. We've done this before\n",
    "\n",
    "    \\begin{align}\n",
    "    p(Y=1) = \\frac{\\sum_{i=1}^n 1[Y_i=1]}{N}\n",
    "    \\end{align}\n"
   ]
  },
  {
   "cell_type": "code",
   "execution_count": 5,
   "id": "88a90182",
   "metadata": {
    "vscode": {
     "languageId": "r"
    }
   },
   "outputs": [
    {
     "data": {
      "text/html": [
       "0.0726069627355631"
      ],
      "text/latex": [
       "0.0726069627355631"
      ],
      "text/markdown": [
       "0.0726069627355631"
      ],
      "text/plain": [
       "[1] 0.07260696"
      ]
     },
     "metadata": {},
     "output_type": "display_data"
    }
   ],
   "source": [
    "p1<-sum(db$desempleado)/dim(db)[1]\n",
    "p1"
   ]
  },
  {
   "cell_type": "markdown",
   "id": "c386b685",
   "metadata": {},
   "source": [
    "\n",
    "- Next $f(X|Y=j)$ with $j=0,1$. \n",
    "\n",
    "    - If we assume one predictor and $X|Y\\sim N(\\mu_j,\\sigma_j)$, the problem boils down to estimating $\\mu_j,\\sigma_j$\n",
    "\n",
    "    - LDA makes it simpler, assumes $\\sigma_j=\\sigma$ $\\forall j$\n",
    "\n",
    "To do this partition the sample in two $Y=0$ and $Y=1$, estimate the moments and get $\\hat{f}(X|Y=j)$"
   ]
  },
  {
   "cell_type": "markdown",
   "id": "30b5e9e2",
   "metadata": {},
   "source": [
    "**Means**\n",
    "\n",
    "\\begin{align}\n",
    "\\hat{\\mu}_k=\\frac{1}{n_k}\\sum_{i:y_i=k}x_i\n",
    "\\end{align}"
   ]
  },
  {
   "cell_type": "code",
   "execution_count": 7,
   "id": "1bd0581f",
   "metadata": {
    "vscode": {
     "languageId": "r"
    }
   },
   "outputs": [
    {
     "data": {
      "text/html": [
       "31.1923965180316"
      ],
      "text/latex": [
       "31.1923965180316"
      ],
      "text/markdown": [
       "31.1923965180316"
      ],
      "text/plain": [
       "[1] 31.1924"
      ]
     },
     "metadata": {},
     "output_type": "display_data"
    }
   ],
   "source": [
    "#Means\n",
    "mu1<-mean(db$edad[db$desempleado==1])\n",
    "mu1"
   ]
  },
  {
   "cell_type": "code",
   "execution_count": 8,
   "id": "f374ea75",
   "metadata": {
    "vscode": {
     "languageId": "r"
    }
   },
   "outputs": [
    {
     "data": {
      "text/html": [
       "38.6424796239117"
      ],
      "text/latex": [
       "38.6424796239117"
      ],
      "text/markdown": [
       "38.6424796239117"
      ],
      "text/plain": [
       "[1] 38.64248"
      ]
     },
     "metadata": {},
     "output_type": "display_data"
    }
   ],
   "source": [
    "mu0<-mean(db$edad[db$desempleado==0])\n",
    "mu0"
   ]
  },
  {
   "cell_type": "markdown",
   "id": "d952467b",
   "metadata": {},
   "source": [
    "**Variance**\n",
    "\n",
    "\\begin{align}\n",
    "\\hat{\\sigma}^2 = \\frac{1}{N-K} \\sum_{k=1}^K \\sum_{i:y_i=k} (x_i -\\hat{\\mu}_k)^2\n",
    "\\end{align}"
   ]
  },
  {
   "cell_type": "code",
   "execution_count": 9,
   "id": "ce086086",
   "metadata": {
    "vscode": {
     "languageId": "r"
    }
   },
   "outputs": [
    {
     "data": {
      "text/html": [
       "12.2391422102192"
      ],
      "text/latex": [
       "12.2391422102192"
      ],
      "text/markdown": [
       "12.2391422102192"
      ],
      "text/plain": [
       "[1] 12.23914"
      ]
     },
     "metadata": {},
     "output_type": "display_data"
    }
   ],
   "source": [
    "#Variance\n",
    "g1<-sum((db$edad[db$desempleado==1]-mu1)^2)\n",
    "g0<-sum((db$edad[db$desempleado==0]-mu0)^2)\n",
    "\n",
    "\n",
    "sigma<-sqrt((g1+g0)/(dim(db)[1]-2))\n",
    "sigma"
   ]
  },
  {
   "cell_type": "markdown",
   "id": "f9979fe3",
   "metadata": {},
   "source": [
    "With the moments, now we can obtain $f(X|Y=j)$ with $j=0,1$. "
   ]
  },
  {
   "cell_type": "code",
   "execution_count": 10,
   "id": "51594bea",
   "metadata": {
    "vscode": {
     "languageId": "r"
    }
   },
   "outputs": [],
   "source": [
    "f1<-dnorm(db$edad,mean=mu1,sd=sigma)\n",
    "f0<-dnorm(db$edad,mean=mu0,sd=sigma)"
   ]
  },
  {
   "cell_type": "markdown",
   "id": "8e306d54",
   "metadata": {},
   "source": [
    "- Finally plug everything into the Bayes Rule and we are done:\n",
    "\\begin{align}\n",
    "p (Y=1|X)=\\frac{f(X|Y=1)p(Y=1)}{f(X|Y=1)p(Y=1) + f(X|Y=0)(1-p(Y=1))}\n",
    "\\end{align}\n"
   ]
  },
  {
   "cell_type": "code",
   "execution_count": 11,
   "id": "55ea9ad0",
   "metadata": {
    "vscode": {
     "languageId": "r"
    }
   },
   "outputs": [
    {
     "data": {
      "text/html": [
       "<style>\n",
       ".list-inline {list-style: none; margin:0; padding: 0}\n",
       ".list-inline>li {display: inline-block}\n",
       ".list-inline>li:not(:last-child)::after {content: \"\\00b7\"; padding: 0 .5ex}\n",
       "</style>\n",
       "<ol class=list-inline><li>0.0374093318597253</li><li>0.0267046286503136</li><li>0.0868685182384018</li><li>0.079295810056364</li><li>0.0573189813238287</li><li>0.0374093318597253</li></ol>\n"
      ],
      "text/latex": [
       "\\begin{enumerate*}\n",
       "\\item 0.0374093318597253\n",
       "\\item 0.0267046286503136\n",
       "\\item 0.0868685182384018\n",
       "\\item 0.079295810056364\n",
       "\\item 0.0573189813238287\n",
       "\\item 0.0374093318597253\n",
       "\\end{enumerate*}\n"
      ],
      "text/markdown": [
       "1. 0.0374093318597253\n",
       "2. 0.0267046286503136\n",
       "3. 0.0868685182384018\n",
       "4. 0.079295810056364\n",
       "5. 0.0573189813238287\n",
       "6. 0.0374093318597253\n",
       "\n",
       "\n"
      ],
      "text/plain": [
       "[1] 0.03740933 0.02670463 0.08686852 0.07929581 0.05731898 0.03740933"
      ]
     },
     "metadata": {},
     "output_type": "display_data"
    }
   ],
   "source": [
    "post_hand<-f1*p1/(f1*p1+f0*(1-p1))\n",
    "head(post_hand)"
   ]
  },
  {
   "cell_type": "code",
   "execution_count": 12,
   "id": "0578eb0c",
   "metadata": {
    "vscode": {
     "languageId": "r"
    }
   },
   "outputs": [
    {
     "data": {
      "text/html": [
       "<style>\n",
       ".list-inline {list-style: none; margin:0; padding: 0}\n",
       ".list-inline>li {display: inline-block}\n",
       ".list-inline>li:not(:last-child)::after {content: \"\\00b7\"; padding: 0 .5ex}\n",
       "</style>\n",
       "<ol class=list-inline><li>'class'</li><li>'posterior'</li><li>'x'</li></ol>\n"
      ],
      "text/latex": [
       "\\begin{enumerate*}\n",
       "\\item 'class'\n",
       "\\item 'posterior'\n",
       "\\item 'x'\n",
       "\\end{enumerate*}\n"
      ],
      "text/markdown": [
       "1. 'class'\n",
       "2. 'posterior'\n",
       "3. 'x'\n",
       "\n",
       "\n"
      ],
      "text/plain": [
       "[1] \"class\"     \"posterior\" \"x\"        "
      ]
     },
     "metadata": {},
     "output_type": "display_data"
    }
   ],
   "source": [
    "p_load(\"MASS\")     # LDA\n",
    "lda_simple <- lda(desempleado~edad, data = db)\n",
    "lda_simple_pred<-predict(lda_simple,db)\n",
    "names(lda_simple_pred)\n"
   ]
  },
  {
   "cell_type": "code",
   "execution_count": 13,
   "id": "aaffea03",
   "metadata": {
    "vscode": {
     "languageId": "r"
    }
   },
   "outputs": [
    {
     "data": {
      "text/html": [
       "<table class=\"dataframe\">\n",
       "<caption>A data.frame: 6 x 3</caption>\n",
       "<thead>\n",
       "\t<tr><th></th><th scope=col>X0</th><th scope=col>X1</th><th scope=col>hand</th></tr>\n",
       "\t<tr><th></th><th scope=col>&lt;dbl&gt;</th><th scope=col>&lt;dbl&gt;</th><th scope=col>&lt;dbl&gt;</th></tr>\n",
       "</thead>\n",
       "<tbody>\n",
       "\t<tr><th scope=row>1</th><td>0.9625907</td><td>0.03740933</td><td>0.03740933</td></tr>\n",
       "\t<tr><th scope=row>2</th><td>0.9732954</td><td>0.02670463</td><td>0.02670463</td></tr>\n",
       "\t<tr><th scope=row>3</th><td>0.9131315</td><td>0.08686852</td><td>0.08686852</td></tr>\n",
       "\t<tr><th scope=row>4</th><td>0.9207042</td><td>0.07929581</td><td>0.07929581</td></tr>\n",
       "\t<tr><th scope=row>5</th><td>0.9426810</td><td>0.05731898</td><td>0.05731898</td></tr>\n",
       "\t<tr><th scope=row>6</th><td>0.9625907</td><td>0.03740933</td><td>0.03740933</td></tr>\n",
       "</tbody>\n",
       "</table>\n"
      ],
      "text/latex": [
       "A data.frame: 6 x 3\n",
       "\\begin{tabular}{r|lll}\n",
       "  & X0 & X1 & hand\\\\\n",
       "  & <dbl> & <dbl> & <dbl>\\\\\n",
       "\\hline\n",
       "\t1 & 0.9625907 & 0.03740933 & 0.03740933\\\\\n",
       "\t2 & 0.9732954 & 0.02670463 & 0.02670463\\\\\n",
       "\t3 & 0.9131315 & 0.08686852 & 0.08686852\\\\\n",
       "\t4 & 0.9207042 & 0.07929581 & 0.07929581\\\\\n",
       "\t5 & 0.9426810 & 0.05731898 & 0.05731898\\\\\n",
       "\t6 & 0.9625907 & 0.03740933 & 0.03740933\\\\\n",
       "\\end{tabular}\n"
      ],
      "text/markdown": [
       "\n",
       "A data.frame: 6 x 3\n",
       "\n",
       "| <!--/--> | X0 &lt;dbl&gt; | X1 &lt;dbl&gt; | hand &lt;dbl&gt; |\n",
       "|---|---|---|---|\n",
       "| 1 | 0.9625907 | 0.03740933 | 0.03740933 |\n",
       "| 2 | 0.9732954 | 0.02670463 | 0.02670463 |\n",
       "| 3 | 0.9131315 | 0.08686852 | 0.08686852 |\n",
       "| 4 | 0.9207042 | 0.07929581 | 0.07929581 |\n",
       "| 5 | 0.9426810 | 0.05731898 | 0.05731898 |\n",
       "| 6 | 0.9625907 | 0.03740933 | 0.03740933 |\n",
       "\n"
      ],
      "text/plain": [
       "  X0        X1         hand      \n",
       "1 0.9625907 0.03740933 0.03740933\n",
       "2 0.9732954 0.02670463 0.02670463\n",
       "3 0.9131315 0.08686852 0.08686852\n",
       "4 0.9207042 0.07929581 0.07929581\n",
       "5 0.9426810 0.05731898 0.05731898\n",
       "6 0.9625907 0.03740933 0.03740933"
      ]
     },
     "metadata": {},
     "output_type": "display_data"
    }
   ],
   "source": [
    "posteriors<-data.frame(lda_simple_pred$posterior)\n",
    "posteriors$hand<-post_hand\n",
    "\n",
    "head(posteriors)"
   ]
  },
  {
   "cell_type": "markdown",
   "id": "4cd103b9",
   "metadata": {},
   "source": [
    "\n"
   ]
  }
 ],
 "metadata": {
  "jupytext": {
   "cell_metadata_filter": "tags,name,-all",
   "main_language": "R",
   "notebook_metadata_filter": "-all"
  },
  "kernelspec": {
   "display_name": "R",
   "language": "R",
   "name": "ir"
  },
  "language_info": {
   "codemirror_mode": "r",
   "file_extension": ".r",
   "mimetype": "text/x-r-source",
   "name": "R",
   "pygments_lexer": "r",
   "version": "4.4.3"
  },
  "toc": {
   "base_numbering": 1,
   "nav_menu": {},
   "number_sections": true,
   "sideBar": true,
   "skip_h1_title": false,
   "title_cell": "Table of Contents",
   "title_sidebar": "Contents",
   "toc_cell": false,
   "toc_position": {
    "height": "calc(100% - 180px)",
    "left": "10px",
    "top": "150px",
    "width": "344.4px"
   },
   "toc_section_display": true,
   "toc_window_display": false
  }
 },
 "nbformat": 4,
 "nbformat_minor": 5
}
