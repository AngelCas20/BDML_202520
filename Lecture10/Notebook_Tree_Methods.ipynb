{
 "cells": [
  {
   "cell_type": "markdown",
   "id": "a952ad54-2218-4382-b2eb-d401d349f764",
   "metadata": {},
   "source": [
    "<div >\n",
    "<img src = \"../banner.jpg\" />\n",
    "</div>"
   ]
  },
  {
   "cell_type": "markdown",
   "id": "5d7eee45",
   "metadata": {},
   "source": [
    "<a target=\"_blank\" href=\"https://colab.research.google.com/github/ignaciomsarmiento/BDML_202520/blob/main/Lecture10/Notebook_Tree_Methods.ipynb\">\n",
    "  <img src=\"https://colab.research.google.com/assets/colab-badge.svg\" alt=\"Open In Colab\"/>\n",
    "</a>\n",
    "\n"
   ]
  },
  {
   "cell_type": "markdown",
   "id": "f7e57de4",
   "metadata": {},
   "source": [
    "# Tree-Based Methods"
   ]
  },
  {
   "cell_type": "markdown",
   "id": "303a3dcd",
   "metadata": {},
   "source": [
    "## Motivación: Prediciendo Precios de propiedades\n",
    "\n",
    "\n",
    "$$\n",
    "Precio=f(X)\n",
    "$$\n",
    "\n"
   ]
  },
  {
   "cell_type": "markdown",
   "id": "b9183a2e",
   "metadata": {},
   "source": [
    "## CARTs"
   ]
  },
  {
   "cell_type": "markdown",
   "id": "2fdab5a6",
   "metadata": {},
   "source": [
    "Cargamos los paquetes"
   ]
  },
  {
   "cell_type": "code",
   "execution_count": 1,
   "id": "dce4bb18",
   "metadata": {
    "vscode": {
     "languageId": "r"
    }
   },
   "outputs": [],
   "source": [
    "# install.packages(\"pacman\") #run this line if you use Google Colab"
   ]
  },
  {
   "cell_type": "code",
   "execution_count": 2,
   "id": "3e94ec2b-ab94-4ec8-8512-e370d2f22a56",
   "metadata": {
    "tags": [
     "remove_cell"
    ],
    "vscode": {
     "languageId": "r"
    }
   },
   "outputs": [
    {
     "name": "stderr",
     "output_type": "stream",
     "text": [
      "Loading required package: pacman\n",
      "\n"
     ]
    }
   ],
   "source": [
    "#packages\n",
    "require(\"pacman\")\n",
    "p_load(\"tidyverse\",\"rpart\",\"ggplot2\")"
   ]
  },
  {
   "cell_type": "markdown",
   "id": "5f08f3fa",
   "metadata": {},
   "source": [
    "### Ames Data Set\n",
    "\n",
    "Este conjunto de datos contiene información detallada sobre las características de viviendas en Ames, Iowa, y su precio de venta. Incluye más de 80 variables que describen aspectos físicos, de ubicación y de calidad de las propiedades, como el tamaño habitable, el tipo de edificio, el año de construcción, el número de baños, y si tiene garaje o cercado, entre otros.\n",
    "\n",
    "Es ampliamente utilizado en ciencia de datos y machine learning como un caso realista para problemas de regresión.  \n",
    "La descripción completa de las variables puede consultarse aquí:  \n",
    "https://jse.amstat.org/v19n3/decock/DataDocumentation.txt\n",
    "\n"
   ]
  },
  {
   "cell_type": "code",
   "execution_count": 3,
   "id": "647d6dcf",
   "metadata": {
    "vscode": {
     "languageId": "r"
    }
   },
   "outputs": [],
   "source": [
    "p_load(\"modeldata\")\n",
    "\n",
    "data(\"ames\", package = \"modeldata\")"
   ]
  },
  {
   "cell_type": "code",
   "execution_count": 4,
   "id": "68a3997a",
   "metadata": {
    "vscode": {
     "languageId": "r"
    }
   },
   "outputs": [
    {
     "data": {
      "text/html": [
       "<style>\n",
       ".list-inline {list-style: none; margin:0; padding: 0}\n",
       ".list-inline>li {display: inline-block}\n",
       ".list-inline>li:not(:last-child)::after {content: \"\\00b7\"; padding: 0 .5ex}\n",
       "</style>\n",
       "<ol class=list-inline><li>2930</li><li>74</li></ol>\n"
      ],
      "text/latex": [
       "\\begin{enumerate*}\n",
       "\\item 2930\n",
       "\\item 74\n",
       "\\end{enumerate*}\n"
      ],
      "text/markdown": [
       "1. 2930\n",
       "2. 74\n",
       "\n",
       "\n"
      ],
      "text/plain": [
       "[1] 2930   74"
      ]
     },
     "metadata": {},
     "output_type": "display_data"
    }
   ],
   "source": [
    "dim(ames)"
   ]
  },
  {
   "cell_type": "code",
   "execution_count": 5,
   "id": "f5b90bab",
   "metadata": {
    "vscode": {
     "languageId": "r"
    }
   },
   "outputs": [
    {
     "data": {
      "text/html": [
       "<table class=\"dataframe\">\n",
       "<caption>A tibble: 6 × 74</caption>\n",
       "<thead>\n",
       "\t<tr><th scope=col>MS_SubClass</th><th scope=col>MS_Zoning</th><th scope=col>Lot_Frontage</th><th scope=col>Lot_Area</th><th scope=col>Street</th><th scope=col>Alley</th><th scope=col>Lot_Shape</th><th scope=col>Land_Contour</th><th scope=col>Utilities</th><th scope=col>Lot_Config</th><th scope=col>⋯</th><th scope=col>Fence</th><th scope=col>Misc_Feature</th><th scope=col>Misc_Val</th><th scope=col>Mo_Sold</th><th scope=col>Year_Sold</th><th scope=col>Sale_Type</th><th scope=col>Sale_Condition</th><th scope=col>Sale_Price</th><th scope=col>Longitude</th><th scope=col>Latitude</th></tr>\n",
       "\t<tr><th scope=col>&lt;fct&gt;</th><th scope=col>&lt;fct&gt;</th><th scope=col>&lt;dbl&gt;</th><th scope=col>&lt;int&gt;</th><th scope=col>&lt;fct&gt;</th><th scope=col>&lt;fct&gt;</th><th scope=col>&lt;fct&gt;</th><th scope=col>&lt;fct&gt;</th><th scope=col>&lt;fct&gt;</th><th scope=col>&lt;fct&gt;</th><th scope=col>⋯</th><th scope=col>&lt;fct&gt;</th><th scope=col>&lt;fct&gt;</th><th scope=col>&lt;int&gt;</th><th scope=col>&lt;int&gt;</th><th scope=col>&lt;int&gt;</th><th scope=col>&lt;fct&gt;</th><th scope=col>&lt;fct&gt;</th><th scope=col>&lt;int&gt;</th><th scope=col>&lt;dbl&gt;</th><th scope=col>&lt;dbl&gt;</th></tr>\n",
       "</thead>\n",
       "<tbody>\n",
       "\t<tr><td>One_Story_1946_and_Newer_All_Styles</td><td>Residential_Low_Density </td><td>141</td><td>31770</td><td>Pave</td><td>No_Alley_Access</td><td>Slightly_Irregular</td><td>Lvl</td><td>AllPub</td><td>Corner</td><td>⋯</td><td>No_Fence       </td><td>None</td><td>    0</td><td>5</td><td>2010</td><td>WD </td><td>Normal</td><td>215000</td><td>-93.61975</td><td>42.05403</td></tr>\n",
       "\t<tr><td>One_Story_1946_and_Newer_All_Styles</td><td>Residential_High_Density</td><td> 80</td><td>11622</td><td>Pave</td><td>No_Alley_Access</td><td>Regular           </td><td>Lvl</td><td>AllPub</td><td>Inside</td><td>⋯</td><td>Minimum_Privacy</td><td>None</td><td>    0</td><td>6</td><td>2010</td><td>WD </td><td>Normal</td><td>105000</td><td>-93.61976</td><td>42.05301</td></tr>\n",
       "\t<tr><td>One_Story_1946_and_Newer_All_Styles</td><td>Residential_Low_Density </td><td> 81</td><td>14267</td><td>Pave</td><td>No_Alley_Access</td><td>Slightly_Irregular</td><td>Lvl</td><td>AllPub</td><td>Corner</td><td>⋯</td><td>No_Fence       </td><td>Gar2</td><td>12500</td><td>6</td><td>2010</td><td>WD </td><td>Normal</td><td>172000</td><td>-93.61939</td><td>42.05266</td></tr>\n",
       "\t<tr><td>One_Story_1946_and_Newer_All_Styles</td><td>Residential_Low_Density </td><td> 93</td><td>11160</td><td>Pave</td><td>No_Alley_Access</td><td>Regular           </td><td>Lvl</td><td>AllPub</td><td>Corner</td><td>⋯</td><td>No_Fence       </td><td>None</td><td>    0</td><td>4</td><td>2010</td><td>WD </td><td>Normal</td><td>244000</td><td>-93.61732</td><td>42.05125</td></tr>\n",
       "\t<tr><td>Two_Story_1946_and_Newer           </td><td>Residential_Low_Density </td><td> 74</td><td>13830</td><td>Pave</td><td>No_Alley_Access</td><td>Slightly_Irregular</td><td>Lvl</td><td>AllPub</td><td>Inside</td><td>⋯</td><td>Minimum_Privacy</td><td>None</td><td>    0</td><td>3</td><td>2010</td><td>WD </td><td>Normal</td><td>189900</td><td>-93.63893</td><td>42.06090</td></tr>\n",
       "\t<tr><td>Two_Story_1946_and_Newer           </td><td>Residential_Low_Density </td><td> 78</td><td> 9978</td><td>Pave</td><td>No_Alley_Access</td><td>Slightly_Irregular</td><td>Lvl</td><td>AllPub</td><td>Inside</td><td>⋯</td><td>No_Fence       </td><td>None</td><td>    0</td><td>6</td><td>2010</td><td>WD </td><td>Normal</td><td>195500</td><td>-93.63893</td><td>42.06078</td></tr>\n",
       "</tbody>\n",
       "</table>\n"
      ],
      "text/latex": [
       "A tibble: 6 × 74\n",
       "\\begin{tabular}{lllllllllllllllllllll}\n",
       " MS\\_SubClass & MS\\_Zoning & Lot\\_Frontage & Lot\\_Area & Street & Alley & Lot\\_Shape & Land\\_Contour & Utilities & Lot\\_Config & ⋯ & Fence & Misc\\_Feature & Misc\\_Val & Mo\\_Sold & Year\\_Sold & Sale\\_Type & Sale\\_Condition & Sale\\_Price & Longitude & Latitude\\\\\n",
       " <fct> & <fct> & <dbl> & <int> & <fct> & <fct> & <fct> & <fct> & <fct> & <fct> & ⋯ & <fct> & <fct> & <int> & <int> & <int> & <fct> & <fct> & <int> & <dbl> & <dbl>\\\\\n",
       "\\hline\n",
       "\t One\\_Story\\_1946\\_and\\_Newer\\_All\\_Styles & Residential\\_Low\\_Density  & 141 & 31770 & Pave & No\\_Alley\\_Access & Slightly\\_Irregular & Lvl & AllPub & Corner & ⋯ & No\\_Fence        & None &     0 & 5 & 2010 & WD  & Normal & 215000 & -93.61975 & 42.05403\\\\\n",
       "\t One\\_Story\\_1946\\_and\\_Newer\\_All\\_Styles & Residential\\_High\\_Density &  80 & 11622 & Pave & No\\_Alley\\_Access & Regular            & Lvl & AllPub & Inside & ⋯ & Minimum\\_Privacy & None &     0 & 6 & 2010 & WD  & Normal & 105000 & -93.61976 & 42.05301\\\\\n",
       "\t One\\_Story\\_1946\\_and\\_Newer\\_All\\_Styles & Residential\\_Low\\_Density  &  81 & 14267 & Pave & No\\_Alley\\_Access & Slightly\\_Irregular & Lvl & AllPub & Corner & ⋯ & No\\_Fence        & Gar2 & 12500 & 6 & 2010 & WD  & Normal & 172000 & -93.61939 & 42.05266\\\\\n",
       "\t One\\_Story\\_1946\\_and\\_Newer\\_All\\_Styles & Residential\\_Low\\_Density  &  93 & 11160 & Pave & No\\_Alley\\_Access & Regular            & Lvl & AllPub & Corner & ⋯ & No\\_Fence        & None &     0 & 4 & 2010 & WD  & Normal & 244000 & -93.61732 & 42.05125\\\\\n",
       "\t Two\\_Story\\_1946\\_and\\_Newer            & Residential\\_Low\\_Density  &  74 & 13830 & Pave & No\\_Alley\\_Access & Slightly\\_Irregular & Lvl & AllPub & Inside & ⋯ & Minimum\\_Privacy & None &     0 & 3 & 2010 & WD  & Normal & 189900 & -93.63893 & 42.06090\\\\\n",
       "\t Two\\_Story\\_1946\\_and\\_Newer            & Residential\\_Low\\_Density  &  78 &  9978 & Pave & No\\_Alley\\_Access & Slightly\\_Irregular & Lvl & AllPub & Inside & ⋯ & No\\_Fence        & None &     0 & 6 & 2010 & WD  & Normal & 195500 & -93.63893 & 42.06078\\\\\n",
       "\\end{tabular}\n"
      ],
      "text/markdown": [
       "\n",
       "A tibble: 6 × 74\n",
       "\n",
       "| MS_SubClass &lt;fct&gt; | MS_Zoning &lt;fct&gt; | Lot_Frontage &lt;dbl&gt; | Lot_Area &lt;int&gt; | Street &lt;fct&gt; | Alley &lt;fct&gt; | Lot_Shape &lt;fct&gt; | Land_Contour &lt;fct&gt; | Utilities &lt;fct&gt; | Lot_Config &lt;fct&gt; | ⋯ ⋯ | Fence &lt;fct&gt; | Misc_Feature &lt;fct&gt; | Misc_Val &lt;int&gt; | Mo_Sold &lt;int&gt; | Year_Sold &lt;int&gt; | Sale_Type &lt;fct&gt; | Sale_Condition &lt;fct&gt; | Sale_Price &lt;int&gt; | Longitude &lt;dbl&gt; | Latitude &lt;dbl&gt; |\n",
       "|---|---|---|---|---|---|---|---|---|---|---|---|---|---|---|---|---|---|---|---|---|\n",
       "| One_Story_1946_and_Newer_All_Styles | Residential_Low_Density  | 141 | 31770 | Pave | No_Alley_Access | Slightly_Irregular | Lvl | AllPub | Corner | ⋯ | No_Fence        | None |     0 | 5 | 2010 | WD  | Normal | 215000 | -93.61975 | 42.05403 |\n",
       "| One_Story_1946_and_Newer_All_Styles | Residential_High_Density |  80 | 11622 | Pave | No_Alley_Access | Regular            | Lvl | AllPub | Inside | ⋯ | Minimum_Privacy | None |     0 | 6 | 2010 | WD  | Normal | 105000 | -93.61976 | 42.05301 |\n",
       "| One_Story_1946_and_Newer_All_Styles | Residential_Low_Density  |  81 | 14267 | Pave | No_Alley_Access | Slightly_Irregular | Lvl | AllPub | Corner | ⋯ | No_Fence        | Gar2 | 12500 | 6 | 2010 | WD  | Normal | 172000 | -93.61939 | 42.05266 |\n",
       "| One_Story_1946_and_Newer_All_Styles | Residential_Low_Density  |  93 | 11160 | Pave | No_Alley_Access | Regular            | Lvl | AllPub | Corner | ⋯ | No_Fence        | None |     0 | 4 | 2010 | WD  | Normal | 244000 | -93.61732 | 42.05125 |\n",
       "| Two_Story_1946_and_Newer            | Residential_Low_Density  |  74 | 13830 | Pave | No_Alley_Access | Slightly_Irregular | Lvl | AllPub | Inside | ⋯ | Minimum_Privacy | None |     0 | 3 | 2010 | WD  | Normal | 189900 | -93.63893 | 42.06090 |\n",
       "| Two_Story_1946_and_Newer            | Residential_Low_Density  |  78 |  9978 | Pave | No_Alley_Access | Slightly_Irregular | Lvl | AllPub | Inside | ⋯ | No_Fence        | None |     0 | 6 | 2010 | WD  | Normal | 195500 | -93.63893 | 42.06078 |\n",
       "\n"
      ],
      "text/plain": [
       "  MS_SubClass                         MS_Zoning                Lot_Frontage\n",
       "1 One_Story_1946_and_Newer_All_Styles Residential_Low_Density  141         \n",
       "2 One_Story_1946_and_Newer_All_Styles Residential_High_Density  80         \n",
       "3 One_Story_1946_and_Newer_All_Styles Residential_Low_Density   81         \n",
       "4 One_Story_1946_and_Newer_All_Styles Residential_Low_Density   93         \n",
       "5 Two_Story_1946_and_Newer            Residential_Low_Density   74         \n",
       "6 Two_Story_1946_and_Newer            Residential_Low_Density   78         \n",
       "  Lot_Area Street Alley           Lot_Shape          Land_Contour Utilities\n",
       "1 31770    Pave   No_Alley_Access Slightly_Irregular Lvl          AllPub   \n",
       "2 11622    Pave   No_Alley_Access Regular            Lvl          AllPub   \n",
       "3 14267    Pave   No_Alley_Access Slightly_Irregular Lvl          AllPub   \n",
       "4 11160    Pave   No_Alley_Access Regular            Lvl          AllPub   \n",
       "5 13830    Pave   No_Alley_Access Slightly_Irregular Lvl          AllPub   \n",
       "6  9978    Pave   No_Alley_Access Slightly_Irregular Lvl          AllPub   \n",
       "  Lot_Config ⋯ Fence           Misc_Feature Misc_Val Mo_Sold Year_Sold\n",
       "1 Corner     ⋯ No_Fence        None             0    5       2010     \n",
       "2 Inside     ⋯ Minimum_Privacy None             0    6       2010     \n",
       "3 Corner     ⋯ No_Fence        Gar2         12500    6       2010     \n",
       "4 Corner     ⋯ No_Fence        None             0    4       2010     \n",
       "5 Inside     ⋯ Minimum_Privacy None             0    3       2010     \n",
       "6 Inside     ⋯ No_Fence        None             0    6       2010     \n",
       "  Sale_Type Sale_Condition Sale_Price Longitude Latitude\n",
       "1 WD        Normal         215000     -93.61975 42.05403\n",
       "2 WD        Normal         105000     -93.61976 42.05301\n",
       "3 WD        Normal         172000     -93.61939 42.05266\n",
       "4 WD        Normal         244000     -93.61732 42.05125\n",
       "5 WD        Normal         189900     -93.63893 42.06090\n",
       "6 WD        Normal         195500     -93.63893 42.06078"
      ]
     },
     "metadata": {},
     "output_type": "display_data"
    }
   ],
   "source": [
    "head(ames)"
   ]
  },
  {
   "cell_type": "code",
   "execution_count": 6,
   "id": "ca09a27a",
   "metadata": {
    "vscode": {
     "languageId": "r"
    }
   },
   "outputs": [],
   "source": [
    "amestree <- rpart(log(Sale_Price) ~  Gr_Liv_Area  + Bldg_Type + Fence + Lot_Area,data=ames, control = list(maxdepth =2 ))\n"
   ]
  },
  {
   "cell_type": "code",
   "execution_count": 7,
   "id": "1e1c1469-4bb1-4561-9d99-f0c09d9034ae",
   "metadata": {
    "vscode": {
     "languageId": "r"
    }
   },
   "outputs": [
    {
     "data": {
      "image/png": "[encoded data removed]",
      "text/plain": [
       "plot without title"
      ]
     },
     "metadata": {
      "image/png": {
       "height": 420,
       "width": 420
      }
     },
     "output_type": "display_data"
    }
   ],
   "source": [
    "\n",
    "p_load(\"rpart.plot\")\n",
    "prp(amestree, under = TRUE, branch.lty = 2, yesno = 2, faclen = 0, varlen=15,tweak=1.2,clip.facs= TRUE,box.palette = \"Greens\",compress=FALSE,ycompress = FALSE,node.fun=function(x, labs, digits, varlen) paste(\"Precio \\n\", format(round(exp(amestree$frame$yval), 0), nsmall=0, big.mark=\",\")))"
   ]
  },
  {
   "cell_type": "markdown",
   "id": "de10c96b",
   "metadata": {},
   "source": [
    "### Sobreajuste"
   ]
  },
  {
   "cell_type": "markdown",
   "id": "9bac01b4",
   "metadata": {},
   "source": [
    "<div >\n",
    "<img src = \"figures/tree_uba.png\" width=\"300\"/>\n",
    "</div>"
   ]
  },
  {
   "cell_type": "markdown",
   "id": "9dddbde6",
   "metadata": {},
   "source": [
    "\n",
    "- Fijar la profundidad del árbol. (implementado en Caret `method=rpart2`)\n",
    "\n",
    "- Fijar la mínima cantidad de datos que están contenidos dentro de cada hoja. \n",
    "\n",
    "- Cost complexity pruning (implementado en Caret con `method=rpart`)\n",
    "\n",
    "- `tidymodels` implementa todos"
   ]
  },
  {
   "cell_type": "markdown",
   "id": "6e92e07f",
   "metadata": {},
   "source": [
    "##### Implementación con Caret"
   ]
  },
  {
   "cell_type": "code",
   "execution_count": 8,
   "id": "ecfc1c57",
   "metadata": {
    "vscode": {
     "languageId": "r"
    }
   },
   "outputs": [],
   "source": [
    "p_load(\"caret\")"
   ]
  },
  {
   "cell_type": "code",
   "execution_count": 9,
   "id": "318c6c70",
   "metadata": {
    "vscode": {
     "languageId": "r"
    }
   },
   "outputs": [],
   "source": [
    "fitControl<-trainControl(method =\"cv\",\n",
    "                         number=5)"
   ]
  },
  {
   "cell_type": "markdown",
   "id": "b3c8e9ce",
   "metadata": {},
   "source": [
    "#####  `method=rpart2`  allows to tune Max Tree Depth"
   ]
  },
  {
   "cell_type": "code",
   "execution_count": 10,
   "id": "a5df693c",
   "metadata": {
    "vscode": {
     "languageId": "r"
    }
   },
   "outputs": [],
   "source": [
    "set.seed(123)\n",
    "tree_rpart2 <- train(\n",
    "    log(Sale_Price) ~ Gr_Liv_Area  + Bldg_Type + Fence + Lot_Area,\n",
    "    data=ames,\n",
    "    method = \"rpart2\",\n",
    "    trControl = fitControl,\n",
    "    tuneGrid = expand.grid(maxdepth = seq(1,8,1))\n",
    ")"
   ]
  },
  {
   "cell_type": "code",
   "execution_count": 11,
   "id": "ffaf5931",
   "metadata": {
    "vscode": {
     "languageId": "r"
    }
   },
   "outputs": [
    {
     "data": {
      "text/plain": [
       "CART \n",
       "\n",
       "2930 samples\n",
       "   4 predictor\n",
       "\n",
       "No pre-processing\n",
       "Resampling: Cross-Validated (5 fold) \n",
       "Summary of sample sizes: 2344, 2345, 2344, 2343, 2344 \n",
       "Resampling results across tuning parameters:\n",
       "\n",
       "  maxdepth  RMSE       Rsquared   MAE      \n",
       "  1         0.3307490  0.3412068  0.2506236\n",
       "  2         0.3129377  0.4108913  0.2357003\n",
       "  3         0.3012935  0.4554833  0.2280263\n",
       "  4         0.2969431  0.4715011  0.2243649\n",
       "  5         0.2940238  0.4816534  0.2225891\n",
       "  6         0.2893923  0.4977432  0.2187853\n",
       "  7         0.2848199  0.5137234  0.2150838\n",
       "  8         0.2836619  0.5176284  0.2141427\n",
       "\n",
       "RMSE was used to select the optimal model using the smallest value.\n",
       "The final value used for the model was maxdepth = 8."
      ]
     },
     "metadata": {},
     "output_type": "display_data"
    }
   ],
   "source": [
    "tree_rpart2"
   ]
  },
  {
   "cell_type": "code",
   "execution_count": 12,
   "id": "e9627361",
   "metadata": {
    "vscode": {
     "languageId": "r"
    }
   },
   "outputs": [
    {
     "data": {
      "image/png": "[encoded data removed]",
      "text/plain": [
       "plot without title"
      ]
     },
     "metadata": {
      "image/png": {
       "height": 420,
       "width": 420
      }
     },
     "output_type": "display_data"
    }
   ],
   "source": [
    "prp(tree_rpart2$finalModel, under = TRUE, branch.lty = 2, yesno = 2, faclen = 0, varlen=15,tweak=1.2,clip.facs= TRUE,box.palette = \"Greens\",compress=FALSE,ycompress = FALSE,node.fun=function(x, labs, digits, varlen) paste(\"Precio \\n\", format(round(exp(tree_rpart2$finalModel$frame$yval), 0), nsmall=0, big.mark=\",\")))"
   ]
  },
  {
   "cell_type": "markdown",
   "id": "135403a9",
   "metadata": {},
   "source": [
    "#### Cost complexity Prunning\n",
    "\n",
    "\n",
    "Cost complexity del árbol  $T$ con $[T]$ nodos terminales del árbol \n",
    "\\begin{align}\n",
    "  C_{\\alpha}(T)= \\sum_{m=1}^{[T]}  \\sum_{x_i\\in R_m} (y_i-\\hat{y}_m)^2 + \\alpha [T]\n",
    "\\end{align}\n",
    "\n",
    "\n",
    "Objetivo: para un dado $\\alpha$, encontrar el pruning óptimo que minimice  $C_{\\alpha}(T)$\n",
    "\n",
    "Se logra eliminando sucesivamente las ramas que producen un aumento mínimo en $\\sum_{x_i\\in R_m} (y_i-\\hat{y}_m)^2 $\n",
    "\n",
    "\n",
    "##### Algoritmo completo\n",
    "\n",
    "  - Hacemos crecer el árbol\n",
    "\n",
    "  - Para un dado $\\alpha$, aplicamos  *cost complexity pruning* \n",
    "    \n",
    "  - Utilizamos K-fold cross-validation para elegir $\\alpha$. \n",
    "\n",
    "  \n",
    "Tenemos entonces una secuencia de subarboles para distintos valores de $\\alpha$ \n",
    "\n",
    "Elegimos el $\\alpha$ y el subárbol que tienen el menor error de predicción."
   ]
  },
  {
   "cell_type": "markdown",
   "id": "bfd6d093",
   "metadata": {},
   "source": [
    "#####  `method=rpart`  only allows to tune Complexity Parameter\n",
    "\n",
    "- Can change the length\n"
   ]
  },
  {
   "cell_type": "code",
   "execution_count": 13,
   "id": "c93df854",
   "metadata": {
    "vscode": {
     "languageId": "r"
    }
   },
   "outputs": [
    {
     "name": "stderr",
     "output_type": "stream",
     "text": [
      "Warning message in nominalTrainWorkflow(x = x, y = y, wts = weights, info = trainInfo, :\n",
      "“There were missing values in resampled performance measures.”\n"
     ]
    }
   ],
   "source": [
    "set.seed(123)\n",
    "tree_lenght <- train(\n",
    "    log(Sale_Price) ~ Gr_Liv_Area  + Bldg_Type + Fence + Lot_Area,\n",
    "    data=ames,\n",
    "    method = \"rpart\",\n",
    "    trControl = fitControl,\n",
    "    tuneLength=20\n",
    ")"
   ]
  },
  {
   "cell_type": "code",
   "execution_count": 14,
   "id": "b1c61d27",
   "metadata": {
    "vscode": {
     "languageId": "r"
    }
   },
   "outputs": [
    {
     "data": {
      "text/plain": [
       "CART \n",
       "\n",
       "2930 samples\n",
       "   4 predictor\n",
       "\n",
       "No pre-processing\n",
       "Resampling: Cross-Validated (5 fold) \n",
       "Summary of sample sizes: 2344, 2345, 2344, 2343, 2344 \n",
       "Resampling results across tuning parameters:\n",
       "\n",
       "  cp           RMSE       Rsquared   MAE      \n",
       "  0.002663317  0.2638306  0.5833696  0.1951839\n",
       "  0.002928339  0.2639011  0.5830236  0.1952403\n",
       "  0.003041636  0.2649449  0.5798166  0.1959880\n",
       "  0.003465082  0.2659967  0.5766074  0.1974884\n",
       "  0.003602553  0.2663203  0.5754987  0.1979051\n",
       "  0.004342771  0.2706438  0.5615014  0.2015746\n",
       "  0.004494195  0.2710421  0.5602756  0.2019178\n",
       "  0.005388410  0.2760364  0.5438482  0.2065736\n",
       "  0.005580504  0.2760364  0.5438482  0.2065736\n",
       "  0.006812401  0.2788874  0.5339517  0.2098885\n",
       "  0.008018890  0.2806451  0.5278070  0.2114909\n",
       "  0.009010266  0.2832222  0.5189590  0.2138051\n",
       "  0.009277384  0.2832222  0.5189590  0.2138051\n",
       "  0.012132238  0.2874601  0.5046112  0.2169528\n",
       "  0.014271840  0.2903955  0.4943203  0.2198354\n",
       "  0.018477494  0.2970067  0.4712615  0.2249536\n",
       "  0.025812026  0.3009023  0.4576481  0.2273963\n",
       "  0.047689335  0.3044870  0.4440791  0.2298005\n",
       "  0.072733736  0.3307490  0.3412068  0.2506236\n",
       "  0.348134350  0.3771923  0.3250124  0.2885068\n",
       "\n",
       "RMSE was used to select the optimal model using the smallest value.\n",
       "The final value used for the model was cp = 0.002663317."
      ]
     },
     "metadata": {},
     "output_type": "display_data"
    }
   ],
   "source": [
    "tree_lenght"
   ]
  },
  {
   "cell_type": "code",
   "execution_count": 15,
   "id": "962e34fa",
   "metadata": {
    "vscode": {
     "languageId": "r"
    }
   },
   "outputs": [
    {
     "data": {
      "image/png": "[encoded data removed]",
      "text/plain": [
       "plot without title"
      ]
     },
     "metadata": {
      "image/png": {
       "height": 420,
       "width": 420
      }
     },
     "output_type": "display_data"
    }
   ],
   "source": [
    "prp(tree_lenght$finalModel, under = TRUE, branch.lty = 2, yesno = 2, faclen = 0, varlen=15,tweak=1.2,clip.facs= TRUE,box.palette = \"Greens\",compress=FALSE,ycompress = FALSE,node.fun=function(x, labs, digits, varlen) paste(\"Precio \\n\", format(round(exp(tree_lenght$finalModel$frame$yval), 0), nsmall=0, big.mark=\",\")))"
   ]
  },
  {
   "cell_type": "markdown",
   "id": "82c16df7",
   "metadata": {},
   "source": [
    "- Or the grid"
   ]
  },
  {
   "cell_type": "code",
   "execution_count": 16,
   "id": "d5bda02f",
   "metadata": {
    "vscode": {
     "languageId": "r"
    }
   },
   "outputs": [],
   "source": [
    "set.seed(123)\n",
    "tree_grid <- train(\n",
    "    log(Sale_Price) ~ Gr_Liv_Area  + Bldg_Type + Fence + Lot_Area,\n",
    "    data=ames,\n",
    "    method = \"rpart\",\n",
    "    trControl = fitControl,\n",
    "    tuneGrid = expand.grid(cp = seq(0.001707763, 0.001707765, length.out = 100))\n",
    ")\n"
   ]
  },
  {
   "cell_type": "code",
   "execution_count": 17,
   "id": "9169c095",
   "metadata": {
    "vscode": {
     "languageId": "r"
    }
   },
   "outputs": [
    {
     "data": {
      "text/plain": [
       "CART \n",
       "\n",
       "2930 samples\n",
       "   4 predictor\n",
       "\n",
       "No pre-processing\n",
       "Resampling: Cross-Validated (5 fold) \n",
       "Summary of sample sizes: 2344, 2345, 2344, 2343, 2344 \n",
       "Resampling results across tuning parameters:\n",
       "\n",
       "  cp           RMSE       Rsquared   MAE      \n",
       "  0.001707763  0.2604854  0.5943749  0.1916694\n",
       "  0.001707763  0.2604854  0.5943749  0.1916694\n",
       "  0.001707763  0.2604854  0.5943749  0.1916694\n",
       "  0.001707763  0.2604854  0.5943749  0.1916694\n",
       "  0.001707763  0.2604854  0.5943749  0.1916694\n",
       "  0.001707763  0.2604854  0.5943749  0.1916694\n",
       "  0.001707763  0.2604854  0.5943749  0.1916694\n",
       "  0.001707763  0.2604854  0.5943749  0.1916694\n",
       "  0.001707763  0.2604854  0.5943749  0.1916694\n",
       "  0.001707763  0.2604854  0.5943749  0.1916694\n",
       "  0.001707763  0.2604854  0.5943749  0.1916694\n",
       "  0.001707763  0.2604854  0.5943749  0.1916694\n",
       "  0.001707763  0.2604854  0.5943749  0.1916694\n",
       "  0.001707763  0.2604854  0.5943749  0.1916694\n",
       "  0.001707763  0.2604854  0.5943749  0.1916694\n",
       "  0.001707763  0.2604854  0.5943749  0.1916694\n",
       "  0.001707763  0.2604854  0.5943749  0.1916694\n",
       "  0.001707763  0.2604854  0.5943749  0.1916694\n",
       "  0.001707763  0.2604854  0.5943749  0.1916694\n",
       "  0.001707763  0.2604854  0.5943749  0.1916694\n",
       "  0.001707763  0.2604854  0.5943749  0.1916694\n",
       "  0.001707763  0.2604854  0.5943749  0.1916694\n",
       "  0.001707763  0.2604854  0.5943749  0.1916694\n",
       "  0.001707763  0.2604854  0.5943749  0.1916694\n",
       "  0.001707763  0.2604854  0.5943749  0.1916694\n",
       "  0.001707764  0.2604854  0.5943749  0.1916694\n",
       "  0.001707764  0.2604854  0.5943749  0.1916694\n",
       "  0.001707764  0.2604854  0.5943749  0.1916694\n",
       "  0.001707764  0.2604854  0.5943749  0.1916694\n",
       "  0.001707764  0.2604854  0.5943749  0.1916694\n",
       "  0.001707764  0.2604854  0.5943749  0.1916694\n",
       "  0.001707764  0.2604854  0.5943749  0.1916694\n",
       "  0.001707764  0.2604854  0.5943749  0.1916694\n",
       "  0.001707764  0.2604854  0.5943749  0.1916694\n",
       "  0.001707764  0.2604854  0.5943749  0.1916694\n",
       "  0.001707764  0.2604854  0.5943749  0.1916694\n",
       "  0.001707764  0.2604854  0.5943749  0.1916694\n",
       "  0.001707764  0.2604854  0.5943749  0.1916694\n",
       "  0.001707764  0.2604854  0.5943749  0.1916694\n",
       "  0.001707764  0.2604854  0.5943749  0.1916694\n",
       "  0.001707764  0.2604854  0.5943749  0.1916694\n",
       "  0.001707764  0.2604854  0.5943749  0.1916694\n",
       "  0.001707764  0.2604854  0.5943749  0.1916694\n",
       "  0.001707764  0.2604854  0.5943749  0.1916694\n",
       "  0.001707764  0.2604854  0.5943749  0.1916694\n",
       "  0.001707764  0.2604854  0.5943749  0.1916694\n",
       "  0.001707764  0.2604854  0.5943749  0.1916694\n",
       "  0.001707764  0.2604854  0.5943749  0.1916694\n",
       "  0.001707764  0.2604854  0.5943749  0.1916694\n",
       "  0.001707764  0.2604854  0.5943749  0.1916694\n",
       "  0.001707764  0.2604854  0.5943749  0.1916694\n",
       "  0.001707764  0.2604854  0.5943749  0.1916694\n",
       "  0.001707764  0.2604854  0.5943749  0.1916694\n",
       "  0.001707764  0.2604854  0.5943749  0.1916694\n",
       "  0.001707764  0.2604854  0.5943749  0.1916694\n",
       "  0.001707764  0.2604854  0.5943749  0.1916694\n",
       "  0.001707764  0.2604854  0.5943749  0.1916694\n",
       "  0.001707764  0.2604854  0.5943749  0.1916694\n",
       "  0.001707764  0.2604854  0.5943749  0.1916694\n",
       "  0.001707764  0.2604854  0.5943749  0.1916694\n",
       "  0.001707764  0.2604854  0.5943749  0.1916694\n",
       "  0.001707764  0.2604854  0.5943749  0.1916694\n",
       "  0.001707764  0.2604854  0.5943749  0.1916694\n",
       "  0.001707764  0.2604854  0.5943749  0.1916694\n",
       "  0.001707764  0.2604854  0.5943749  0.1916694\n",
       "  0.001707764  0.2604854  0.5943749  0.1916694\n",
       "  0.001707764  0.2604854  0.5943749  0.1916694\n",
       "  0.001707764  0.2604854  0.5943749  0.1916694\n",
       "  0.001707764  0.2604854  0.5943749  0.1916694\n",
       "  0.001707764  0.2604854  0.5943749  0.1916694\n",
       "  0.001707764  0.2604854  0.5943749  0.1916694\n",
       "  0.001707764  0.2604854  0.5943749  0.1916694\n",
       "  0.001707764  0.2604854  0.5943749  0.1916694\n",
       "  0.001707764  0.2604854  0.5943749  0.1916694\n",
       "  0.001707764  0.2604854  0.5943749  0.1916694\n",
       "  0.001707765  0.2604854  0.5943749  0.1916694\n",
       "  0.001707765  0.2604854  0.5943749  0.1916694\n",
       "  0.001707765  0.2604854  0.5943749  0.1916694\n",
       "  0.001707765  0.2604854  0.5943749  0.1916694\n",
       "  0.001707765  0.2604854  0.5943749  0.1916694\n",
       "  0.001707765  0.2604854  0.5943749  0.1916694\n",
       "  0.001707765  0.2604854  0.5943749  0.1916694\n",
       "  0.001707765  0.2604854  0.5943749  0.1916694\n",
       "  0.001707765  0.2604854  0.5943749  0.1916694\n",
       "  0.001707765  0.2604854  0.5943749  0.1916694\n",
       "  0.001707765  0.2604854  0.5943749  0.1916694\n",
       "  0.001707765  0.2604854  0.5943749  0.1916694\n",
       "  0.001707765  0.2604854  0.5943749  0.1916694\n",
       "  0.001707765  0.2604854  0.5943749  0.1916694\n",
       "  0.001707765  0.2604854  0.5943749  0.1916694\n",
       "  0.001707765  0.2604854  0.5943749  0.1916694\n",
       "  0.001707765  0.2604854  0.5943749  0.1916694\n",
       "  0.001707765  0.2604854  0.5943749  0.1916694\n",
       "  0.001707765  0.2604854  0.5943749  0.1916694\n",
       "  0.001707765  0.2604854  0.5943749  0.1916694\n",
       "  0.001707765  0.2604854  0.5943749  0.1916694\n",
       "  0.001707765  0.2604854  0.5943749  0.1916694\n",
       "  0.001707765  0.2604854  0.5943749  0.1916694\n",
       "  0.001707765  0.2604854  0.5943749  0.1916694\n",
       "  0.001707765  0.2604854  0.5943749  0.1916694\n",
       "\n",
       "RMSE was used to select the optimal model using the smallest value.\n",
       "The final value used for the model was cp = 0.001707765."
      ]
     },
     "metadata": {},
     "output_type": "display_data"
    }
   ],
   "source": [
    "tree_grid"
   ]
  },
  {
   "cell_type": "markdown",
   "id": "e563acfa",
   "metadata": {},
   "source": [
    "More details here: https://topepo.github.io/caret/train-models-by-tag.html#tree-based-model"
   ]
  },
  {
   "cell_type": "markdown",
   "id": "906ba4df",
   "metadata": {},
   "source": [
    "### Comentarios sobre Árboles\n",
    "\n",
    "\n",
    "#### Pros: \n",
    "  \n",
    "    - Los árboles son muy fáciles de explicar a las personas (probablemente incluso más fáciles que la regresión lineal)\n",
    "\n",
    "    - Los árboles se pueden trazar gráficamente y son fácilmente interpretados incluso por no expertos. Variables más importantes en la parte superior\n",
    "\n",
    "\n",
    "\n",
    "#### Cons:\n",
    "    \n",
    "    - Si la estructura es lineal, CART no funciona bien\n",
    "    \n",
    "<div >\n",
    "<img src = \"figures/tree_vs_reg.png\" />\n",
    "</div>\n",
    "\n",
    "\n",
    "    - Los árboles no son muy robustos \n",
    "    "
   ]
  },
  {
   "cell_type": "markdown",
   "id": "a2e1a513",
   "metadata": {},
   "source": [
    "## Bagging and Random Forests"
   ]
  },
  {
   "cell_type": "markdown",
   "id": "9892820e-2695-4b38-bab7-c5743fd314c3",
   "metadata": {},
   "source": [
    "### Intuición con código\n",
    "\n",
    "\n",
    "Una forma de mejorar la estabilidad y precisión de los árboles de decisión es a través del bagging (bootstrap aggregating). La idea central es entrenar múltiples árboles sobre distintas muestras del conjunto de datos —obtenidas con reemplazo (bootstrap)— y luego combinar sus predicciones. Esto reduce la varianza del modelo y mejora su capacidad de generalización.\n",
    "\n",
    "En este ejemplo, generamos una única muestra bootstrap del dataset original y entrenamos un árbol simple sobre esa muestra:"
   ]
  },
  {
   "cell_type": "code",
   "execution_count": 18,
   "id": "dcaeb7fd-ad15-4b3d-b296-d385f806024d",
   "metadata": {
    "vscode": {
     "languageId": "r"
    }
   },
   "outputs": [],
   "source": [
    "set.seed(101010)\n",
    "sample_ames2 <- sample_frac(ames, size = 1, replace = TRUE) "
   ]
  },
  {
   "cell_type": "markdown",
   "id": "b55edcca-353a-4c16-bbd9-05d6ffe772e9",
   "metadata": {},
   "source": [
    "Entrenamos un árbol poco profundo (maxdepth = 2) para facilitar la visualización y destacar cómo el modelo aprende patrones sobre una muestra específica del conjunto. "
   ]
  },
  {
   "cell_type": "code",
   "execution_count": 19,
   "id": "6643443e-f697-4930-a5dd-17c0dbdb4ced",
   "metadata": {
    "vscode": {
     "languageId": "r"
    }
   },
   "outputs": [],
   "source": [
    "amestree2 <- rpart(log(Sale_Price) ~ Gr_Liv_Area + Bldg_Type + Fence + Lot_Area,\n",
    "                   data = sample_ames2,\n",
    "                   control = list(maxdepth = 2))"
   ]
  },
  {
   "cell_type": "markdown",
   "id": "63455d30-55ed-411d-8b40-d6d45284fa3a",
   "metadata": {},
   "source": [
    "Luego, visualizamos el árbol con `prp()` personalizando las etiquetas de los nodos para mostrar el precio estimado en escala original (deshaciendo el log):"
   ]
  },
  {
   "cell_type": "code",
   "execution_count": 20,
   "id": "70e3e44f-d3a4-4087-9d41-e8e30debc128",
   "metadata": {
    "vscode": {
     "languageId": "r"
    }
   },
   "outputs": [
    {
     "data": {
      "image/png": "[encoded data removed]",
      "text/plain": [
       "plot without title"
      ]
     },
     "metadata": {
      "image/png": {
       "height": 420,
       "width": 420
      }
     },
     "output_type": "display_data"
    }
   ],
   "source": [
    "prp(amestree2, \n",
    "    under = TRUE, branch.lty = 2, yesno = 2, faclen = 0, varlen = 15, tweak = 1.2,\n",
    "    clip.facs = TRUE, box.palette = \"Greens\", compress = FALSE, ycompress = FALSE,\n",
    "    node.fun = function(x, labs, digits, varlen) \n",
    "      paste(\"Precio \\n\", format(round(exp(amestree2$frame$yval), 0), nsmall = 0, big.mark = \",\"))\n",
    ")\n"
   ]
  },
  {
   "cell_type": "markdown",
   "id": "2d7c2ecb-f745-4aa6-9f70-2b2653c5e86c",
   "metadata": {},
   "source": [
    "Comparamos el árbol ajustado sobre la muestra bootstrap (`amestree2`) con el árbol original (`amestree`), entrenado sobre el conjunto de datos original. Esta comparación nos permite visualizar cómo el muestreo con reemplazo introduce variabilidad en la estructura del árbol —una idea clave detrás del bagging."
   ]
  },
  {
   "cell_type": "code",
   "execution_count": 21,
   "id": "ec4ceeff-1479-4835-bb29-25a8d8b48c30",
   "metadata": {
    "vscode": {
     "languageId": "r"
    }
   },
   "outputs": [
    {
     "data": {
      "image/png": "[encoded data removed]",
      "text/plain": [
       "plot without title"
      ]
     },
     "metadata": {
      "image/png": {
       "height": 420,
       "width": 420
      }
     },
     "output_type": "display_data"
    }
   ],
   "source": [
    "prp(amestree, under = TRUE, branch.lty = 2, yesno = 2, faclen = 0, varlen=15,tweak=1.2,clip.facs= TRUE,box.palette = \"Greens\",compress=FALSE,ycompress = FALSE,node.fun=function(x, labs, digits, varlen) paste(\"Precio \\n\", format(round(exp(amestree$frame$yval), 0), nsmall=0, big.mark=\",\")))"
   ]
  },
  {
   "cell_type": "markdown",
   "id": "0c2239c2-df00-41be-b57d-1d6f04909aa1",
   "metadata": {},
   "source": [
    "Como vemos formalmente las predicciones de Bagging?\n",
    "\n",
    "Formalmente, si denotamos los árboles como funciones:\n",
    "\n",
    "$$\n",
    "T_{\\text{1}}(x) = \\sum_{j=1}^{J_1} \\gamma_{j}^{(1)} \\cdot \\mathbf{1}(x \\in R_j^{(1)}), \\quad\n",
    "T_{\\text{2}}(x) = \\sum_{k=1}^{J_2} \\gamma_{k}^{(2)} \\cdot \\mathbf{1}(x \\in R_k^{(2)})\n",
    "$$\n",
    "\n",
    "donde cada $ R_j^{(1)} $ y $ R_k^{(2)} $ es una región terminal (una hoja) del árbol correspondiente, y $ \\gamma 4 es la predicción constante en esa región.\n",
    "\n",
    "Entonces, si quisiéramos combinar estos dos árboles, la predicción combinada sería simplemente el promedio:\n",
    "\n",
    "$\n",
    "\\hat{f}(x) = \\frac{1}{2} \\left( T_{\\text{1}}(x) + T_{\\text{2}}(x) \\right)\n",
    "$\n",
    "\n",
    "En términos prácticos, para cualquier observación \\( x \\), cada árbol le asigna un valor predicho dependiendo de la región hoja en la que cae, y el modelo final sería el promedio de ambos.\n"
   ]
  },
  {
   "cell_type": "markdown",
   "id": "23baef3a-65ab-40ff-ad7e-6a8ec4bfa828",
   "metadata": {},
   "source": [
    "### Con `caret` y `ranger`\n",
    "\n",
    "Podemos entrenar estos modelos  utilizando el paquete `ranger` en combinación con `caret`, lo cual nos permite buscar automáticamente la mejor combinación de hiperparámetros mediante validación cruzada.\n"
   ]
  },
  {
   "cell_type": "code",
   "execution_count": 22,
   "id": "34e99d21-bc30-4a50-8a7d-c272a30ea8f8",
   "metadata": {
    "vscode": {
     "languageId": "r"
    }
   },
   "outputs": [],
   "source": [
    "p_load(\"ranger\")\n",
    "p_load(\"caret\")"
   ]
  },
  {
   "cell_type": "markdown",
   "id": "4727e165-e5d6-4cc8-9c9a-1f6c82f3f024",
   "metadata": {},
   "source": [
    "\n",
    "`Caret` nos permite ajustar facilmente los siguientes hiperparámetros\n",
    "\n",
    "- `mtry`: número de predictores seleccionados aleatoriamente en cada división.\n",
    "- `splitrule`: criterio de división (en regresión, típicamente `\"variance\"`).\n",
    "- `min.node.size`: número mínimo de observaciones en un nodo terminal.\n",
    "- Falta alguno importante?"
   ]
  },
  {
   "cell_type": "code",
   "execution_count": 23,
   "id": "6e876df0",
   "metadata": {
    "vscode": {
     "languageId": "r"
    }
   },
   "outputs": [],
   "source": [
    "set.seed(123)  # Fijamos semilla para reproducibilidad\n",
    "\n",
    "tree_ranger_grid <- train(\n",
    "    log(Sale_Price) ~ Gr_Liv_Area + Bldg_Type + Fence,  # Fórmula del modelo\n",
    "    data = ames,  # Dataset de entrenamiento\n",
    "    method = \"ranger\",  # Usamos el motor ranger para Random Forests\n",
    "    trControl = fitControl,  # Especificamos los controles de validación cruzada definidos antes\n",
    "    tuneGrid = expand.grid(   # Definimos la grilla de hiperparámetros a explorar\n",
    "        mtry = c(1, 2, 3),  # Número de predictores seleccionados al azar en cada división\n",
    "        splitrule = \"variance\",  # Regla de partición basada en la reducción de varianza (regresión)\n",
    "        min.node.size = c(1, 3, 5)  # Tamaño mínimo de nodos terminales\n",
    "    ),\n",
    "    importance = \"permutation\"  # Calculamos la importancia de variables por permutación\n",
    ")\n"
   ]
  },
  {
   "cell_type": "code",
   "execution_count": 24,
   "id": "30258a75",
   "metadata": {
    "vscode": {
     "languageId": "r"
    }
   },
   "outputs": [
    {
     "data": {
      "text/plain": [
       "Random Forest \n",
       "\n",
       "2930 samples\n",
       "   3 predictor\n",
       "\n",
       "No pre-processing\n",
       "Resampling: Cross-Validated (5 fold) \n",
       "Summary of sample sizes: 2344, 2345, 2344, 2343, 2344 \n",
       "Resampling results across tuning parameters:\n",
       "\n",
       "  mtry  min.node.size  RMSE       Rsquared   MAE      \n",
       "  1     1              0.3468688  0.4652012  0.2565061\n",
       "  1     3              0.3451265  0.4674624  0.2549682\n",
       "  1     5              0.3444146  0.4687882  0.2544363\n",
       "  2     1              0.2952702  0.5536234  0.2152427\n",
       "  2     3              0.2956889  0.5538360  0.2154844\n",
       "  2     5              0.2949705  0.5523762  0.2147375\n",
       "  3     1              0.2671978  0.5928475  0.1949658\n",
       "  3     3              0.2686117  0.5911269  0.1957694\n",
       "  3     5              0.2681990  0.5921731  0.1954628\n",
       "\n",
       "Tuning parameter 'splitrule' was held constant at a value of variance\n",
       "RMSE was used to select the optimal model using the smallest value.\n",
       "The final values used for the model were mtry = 3, splitrule = variance\n",
       " and min.node.size = 1."
      ]
     },
     "metadata": {},
     "output_type": "display_data"
    }
   ],
   "source": [
    "tree_ranger_grid"
   ]
  },
  {
   "cell_type": "markdown",
   "id": "7ccadb0f",
   "metadata": {},
   "source": [
    "Una vez entrenado el modelo, podemos examinar qué tan importantes fueron las variables explicativas en las decisiones del Random Forest. Esto nos da una idea de qué características influyen más en la predicción del precio de las viviendas.\n",
    "\n",
    "\n",
    "NOTA sobre Variable Importance con CV:\n",
    "El CV solo se usa para encontrar los mejores hiperparámetros. La importancia por permutación se calcula UNA VEZ en el modelo FINAL (re-entrenado con todos los datos), usando predicciones OOB de ranger. NO es un promedio de las importancias de los 5 folds del CV.\n"
   ]
  },
  {
   "cell_type": "code",
   "execution_count": 25,
   "id": "f55fa8bd",
   "metadata": {
    "vscode": {
     "languageId": "r"
    }
   },
   "outputs": [
    {
     "data": {
      "text/plain": [
       "ranger variable importance\n",
       "\n",
       "                        Overall\n",
       "Gr_Liv_Area            100.0000\n",
       "Bldg_TypeDuplex          4.7947\n",
       "Bldg_TypeTwoFmCon        3.2234\n",
       "FenceNo_Fence            2.8830\n",
       "Bldg_TypeTwnhsE          2.1580\n",
       "FenceMinimum_Privacy     2.1104\n",
       "Bldg_TypeTwnhs           1.2831\n",
       "FenceGood_Wood           0.3994\n",
       "FenceMinimum_Wood_Wire   0.0000"
      ]
     },
     "metadata": {},
     "output_type": "display_data"
    }
   ],
   "source": [
    "varImp(tree_ranger_grid)"
   ]
  },
  {
   "cell_type": "markdown",
   "id": "de596947",
   "metadata": {},
   "source": [
    "## Gradient Boosting Trees\n",
    "\n",
    "\\begin{align}\n",
    "\\hat{f}_{gbm}(x)=\\sum_{m=1}^{M}\\lambda \\hat{f}_{m}(x_{i})\n",
    "\\end{align}\n",
    "\n",
    "- n.trees (# Boosting Iterations) $M$\n",
    "- interaction.depth (Max Tree Depth) $J$\n",
    "- shrinkage (Shrinkage) $\\lambda$\n",
    "- n.minobsinnode (Min. Terminal Node Size) "
   ]
  },
  {
   "cell_type": "code",
   "execution_count": 26,
   "id": "2b3c0c5a",
   "metadata": {
    "vscode": {
     "languageId": "r"
    }
   },
   "outputs": [
    {
     "data": {
      "text/html": [
       "<table class=\"dataframe\">\n",
       "<caption>A data.frame: 24 × 4</caption>\n",
       "<thead>\n",
       "\t<tr><th scope=col>n.trees</th><th scope=col>interaction.depth</th><th scope=col>shrinkage</th><th scope=col>n.minobsinnode</th></tr>\n",
       "\t<tr><th scope=col>&lt;dbl&gt;</th><th scope=col>&lt;dbl&gt;</th><th scope=col>&lt;dbl&gt;</th><th scope=col>&lt;dbl&gt;</th></tr>\n",
       "</thead>\n",
       "<tbody>\n",
       "\t<tr><td>200</td><td>4</td><td>0.001</td><td>10</td></tr>\n",
       "\t<tr><td>300</td><td>4</td><td>0.001</td><td>10</td></tr>\n",
       "\t<tr><td>500</td><td>4</td><td>0.001</td><td>10</td></tr>\n",
       "\t<tr><td>200</td><td>6</td><td>0.001</td><td>10</td></tr>\n",
       "\t<tr><td>300</td><td>6</td><td>0.001</td><td>10</td></tr>\n",
       "\t<tr><td>500</td><td>6</td><td>0.001</td><td>10</td></tr>\n",
       "\t<tr><td>200</td><td>4</td><td>0.010</td><td>10</td></tr>\n",
       "\t<tr><td>300</td><td>4</td><td>0.010</td><td>10</td></tr>\n",
       "\t<tr><td>500</td><td>4</td><td>0.010</td><td>10</td></tr>\n",
       "\t<tr><td>200</td><td>6</td><td>0.010</td><td>10</td></tr>\n",
       "\t<tr><td>300</td><td>6</td><td>0.010</td><td>10</td></tr>\n",
       "\t<tr><td>500</td><td>6</td><td>0.010</td><td>10</td></tr>\n",
       "\t<tr><td>200</td><td>4</td><td>0.001</td><td>30</td></tr>\n",
       "\t<tr><td>300</td><td>4</td><td>0.001</td><td>30</td></tr>\n",
       "\t<tr><td>500</td><td>4</td><td>0.001</td><td>30</td></tr>\n",
       "\t<tr><td>200</td><td>6</td><td>0.001</td><td>30</td></tr>\n",
       "\t<tr><td>300</td><td>6</td><td>0.001</td><td>30</td></tr>\n",
       "\t<tr><td>500</td><td>6</td><td>0.001</td><td>30</td></tr>\n",
       "\t<tr><td>200</td><td>4</td><td>0.010</td><td>30</td></tr>\n",
       "\t<tr><td>300</td><td>4</td><td>0.010</td><td>30</td></tr>\n",
       "\t<tr><td>500</td><td>4</td><td>0.010</td><td>30</td></tr>\n",
       "\t<tr><td>200</td><td>6</td><td>0.010</td><td>30</td></tr>\n",
       "\t<tr><td>300</td><td>6</td><td>0.010</td><td>30</td></tr>\n",
       "\t<tr><td>500</td><td>6</td><td>0.010</td><td>30</td></tr>\n",
       "</tbody>\n",
       "</table>\n"
      ],
      "text/latex": [
       "A data.frame: 24 × 4\n",
       "\\begin{tabular}{llll}\n",
       " n.trees & interaction.depth & shrinkage & n.minobsinnode\\\\\n",
       " <dbl> & <dbl> & <dbl> & <dbl>\\\\\n",
       "\\hline\n",
       "\t 200 & 4 & 0.001 & 10\\\\\n",
       "\t 300 & 4 & 0.001 & 10\\\\\n",
       "\t 500 & 4 & 0.001 & 10\\\\\n",
       "\t 200 & 6 & 0.001 & 10\\\\\n",
       "\t 300 & 6 & 0.001 & 10\\\\\n",
       "\t 500 & 6 & 0.001 & 10\\\\\n",
       "\t 200 & 4 & 0.010 & 10\\\\\n",
       "\t 300 & 4 & 0.010 & 10\\\\\n",
       "\t 500 & 4 & 0.010 & 10\\\\\n",
       "\t 200 & 6 & 0.010 & 10\\\\\n",
       "\t 300 & 6 & 0.010 & 10\\\\\n",
       "\t 500 & 6 & 0.010 & 10\\\\\n",
       "\t 200 & 4 & 0.001 & 30\\\\\n",
       "\t 300 & 4 & 0.001 & 30\\\\\n",
       "\t 500 & 4 & 0.001 & 30\\\\\n",
       "\t 200 & 6 & 0.001 & 30\\\\\n",
       "\t 300 & 6 & 0.001 & 30\\\\\n",
       "\t 500 & 6 & 0.001 & 30\\\\\n",
       "\t 200 & 4 & 0.010 & 30\\\\\n",
       "\t 300 & 4 & 0.010 & 30\\\\\n",
       "\t 500 & 4 & 0.010 & 30\\\\\n",
       "\t 200 & 6 & 0.010 & 30\\\\\n",
       "\t 300 & 6 & 0.010 & 30\\\\\n",
       "\t 500 & 6 & 0.010 & 30\\\\\n",
       "\\end{tabular}\n"
      ],
      "text/markdown": [
       "\n",
       "A data.frame: 24 × 4\n",
       "\n",
       "| n.trees &lt;dbl&gt; | interaction.depth &lt;dbl&gt; | shrinkage &lt;dbl&gt; | n.minobsinnode &lt;dbl&gt; |\n",
       "|---|---|---|---|\n",
       "| 200 | 4 | 0.001 | 10 |\n",
       "| 300 | 4 | 0.001 | 10 |\n",
       "| 500 | 4 | 0.001 | 10 |\n",
       "| 200 | 6 | 0.001 | 10 |\n",
       "| 300 | 6 | 0.001 | 10 |\n",
       "| 500 | 6 | 0.001 | 10 |\n",
       "| 200 | 4 | 0.010 | 10 |\n",
       "| 300 | 4 | 0.010 | 10 |\n",
       "| 500 | 4 | 0.010 | 10 |\n",
       "| 200 | 6 | 0.010 | 10 |\n",
       "| 300 | 6 | 0.010 | 10 |\n",
       "| 500 | 6 | 0.010 | 10 |\n",
       "| 200 | 4 | 0.001 | 30 |\n",
       "| 300 | 4 | 0.001 | 30 |\n",
       "| 500 | 4 | 0.001 | 30 |\n",
       "| 200 | 6 | 0.001 | 30 |\n",
       "| 300 | 6 | 0.001 | 30 |\n",
       "| 500 | 6 | 0.001 | 30 |\n",
       "| 200 | 4 | 0.010 | 30 |\n",
       "| 300 | 4 | 0.010 | 30 |\n",
       "| 500 | 4 | 0.010 | 30 |\n",
       "| 200 | 6 | 0.010 | 30 |\n",
       "| 300 | 6 | 0.010 | 30 |\n",
       "| 500 | 6 | 0.010 | 30 |\n",
       "\n"
      ],
      "text/plain": [
       "   n.trees interaction.depth shrinkage n.minobsinnode\n",
       "1  200     4                 0.001     10            \n",
       "2  300     4                 0.001     10            \n",
       "3  500     4                 0.001     10            \n",
       "4  200     6                 0.001     10            \n",
       "5  300     6                 0.001     10            \n",
       "6  500     6                 0.001     10            \n",
       "7  200     4                 0.010     10            \n",
       "8  300     4                 0.010     10            \n",
       "9  500     4                 0.010     10            \n",
       "10 200     6                 0.010     10            \n",
       "11 300     6                 0.010     10            \n",
       "12 500     6                 0.010     10            \n",
       "13 200     4                 0.001     30            \n",
       "14 300     4                 0.001     30            \n",
       "15 500     4                 0.001     30            \n",
       "16 200     6                 0.001     30            \n",
       "17 300     6                 0.001     30            \n",
       "18 500     6                 0.001     30            \n",
       "19 200     4                 0.010     30            \n",
       "20 300     4                 0.010     30            \n",
       "21 500     4                 0.010     30            \n",
       "22 200     6                 0.010     30            \n",
       "23 300     6                 0.010     30            \n",
       "24 500     6                 0.010     30            "
      ]
     },
     "metadata": {},
     "output_type": "display_data"
    }
   ],
   "source": [
    "p_load('gbm')\n",
    "\n",
    "\n",
    "grid_gbm<-expand.grid(n.trees=c(200,300,500),\n",
    "                      interaction.depth=c(4,6),\n",
    "                      shrinkage=c(0.001,0.01),\n",
    "                      n.minobsinnode = c(10,30))\n",
    "\n",
    "\n",
    "grid_gbm\n"
   ]
  },
  {
   "cell_type": "code",
   "execution_count": 27,
   "id": "eb566512",
   "metadata": {
    "vscode": {
     "languageId": "r"
    }
   },
   "outputs": [
    {
     "name": "stderr",
     "output_type": "stream",
     "text": [
      "Warning message in (function (x, y, offset = NULL, misc = NULL, distribution = \"bernoulli\", :\n",
      "“variable 12: MS_SubClassOne_and_Half_Story_PUD_All_Ages has no variation.”\n",
      "Warning message in (function (x, y, offset = NULL, misc = NULL, distribution = \"bernoulli\", :\n",
      "“variable 33: UtilitiesNoSeWa has no variation.”\n",
      "Warning message in (function (x, y, offset = NULL, misc = NULL, distribution = \"bernoulli\", :\n",
      "“variable 68: NeighborhoodHayden_Lake has no variation.”\n",
      "Warning message in (function (x, y, offset = NULL, misc = NULL, distribution = \"bernoulli\", :\n",
      "“variable 103: Overall_CondVery_Excellent has no variation.”\n",
      "Warning message in (function (x, y, offset = NULL, misc = NULL, distribution = \"bernoulli\", :\n",
      "“variable 112: Roof_MatlMembran has no variation.”\n",
      "Warning message in (function (x, y, offset = NULL, misc = NULL, distribution = \"bernoulli\", :\n",
      "“variable 127: Exterior_1stPreCast has no variation.”\n",
      "Warning message in (function (x, y, offset = NULL, misc = NULL, distribution = \"bernoulli\", :\n",
      "“variable 143: Exterior_2ndPreCast has no variation.”\n",
      "Warning message in (function (x, y, offset = NULL, misc = NULL, distribution = \"bernoulli\", :\n",
      "“variable 200: ElectricalMix has no variation.”\n",
      "Warning message in (function (x, y, offset = NULL, misc = NULL, distribution = \"bernoulli\", :\n",
      "“variable 245: Pool_QCFair has no variation.”\n",
      "Warning message in (function (x, y, offset = NULL, misc = NULL, distribution = \"bernoulli\", :\n",
      "“variable 257: Misc_FeatureTenC has no variation.”\n",
      "Warning message in (function (x, y, offset = NULL, misc = NULL, distribution = \"bernoulli\", :\n",
      "“variable 12: MS_SubClassOne_and_Half_Story_PUD_All_Ages has no variation.”\n",
      "Warning message in (function (x, y, offset = NULL, misc = NULL, distribution = \"bernoulli\", :\n",
      "“variable 33: UtilitiesNoSeWa has no variation.”\n",
      "Warning message in (function (x, y, offset = NULL, misc = NULL, distribution = \"bernoulli\", :\n",
      "“variable 68: NeighborhoodHayden_Lake has no variation.”\n",
      "Warning message in (function (x, y, offset = NULL, misc = NULL, distribution = \"bernoulli\", :\n",
      "“variable 103: Overall_CondVery_Excellent has no variation.”\n",
      "Warning message in (function (x, y, offset = NULL, misc = NULL, distribution = \"bernoulli\", :\n",
      "“variable 112: Roof_MatlMembran has no variation.”\n",
      "Warning message in (function (x, y, offset = NULL, misc = NULL, distribution = \"bernoulli\", :\n",
      "“variable 127: Exterior_1stPreCast has no variation.”\n",
      "Warning message in (function (x, y, offset = NULL, misc = NULL, distribution = \"bernoulli\", :\n",
      "“variable 143: Exterior_2ndPreCast has no variation.”\n",
      "Warning message in (function (x, y, offset = NULL, misc = NULL, distribution = \"bernoulli\", :\n",
      "“variable 200: ElectricalMix has no variation.”\n",
      "Warning message in (function (x, y, offset = NULL, misc = NULL, distribution = \"bernoulli\", :\n",
      "“variable 245: Pool_QCFair has no variation.”\n",
      "Warning message in (function (x, y, offset = NULL, misc = NULL, distribution = \"bernoulli\", :\n",
      "“variable 257: Misc_FeatureTenC has no variation.”\n",
      "Warning message in (function (x, y, offset = NULL, misc = NULL, distribution = \"bernoulli\", :\n",
      "“variable 12: MS_SubClassOne_and_Half_Story_PUD_All_Ages has no variation.”\n",
      "Warning message in (function (x, y, offset = NULL, misc = NULL, distribution = \"bernoulli\", :\n",
      "“variable 33: UtilitiesNoSeWa has no variation.”\n",
      "Warning message in (function (x, y, offset = NULL, misc = NULL, distribution = \"bernoulli\", :\n",
      "“variable 68: NeighborhoodHayden_Lake has no variation.”\n",
      "Warning message in (function (x, y, offset = NULL, misc = NULL, distribution = \"bernoulli\", :\n",
      "“variable 103: Overall_CondVery_Excellent has no variation.”\n",
      "Warning message in (function (x, y, offset = NULL, misc = NULL, distribution = \"bernoulli\", :\n",
      "“variable 112: Roof_MatlMembran has no variation.”\n",
      "Warning message in (function (x, y, offset = NULL, misc = NULL, distribution = \"bernoulli\", :\n",
      "“variable 127: Exterior_1stPreCast has no variation.”\n",
      "Warning message in (function (x, y, offset = NULL, misc = NULL, distribution = \"bernoulli\", :\n",
      "“variable 143: Exterior_2ndPreCast has no variation.”\n",
      "Warning message in (function (x, y, offset = NULL, misc = NULL, distribution = \"bernoulli\", :\n",
      "“variable 200: ElectricalMix has no variation.”\n",
      "Warning message in (function (x, y, offset = NULL, misc = NULL, distribution = \"bernoulli\", :\n",
      "“variable 245: Pool_QCFair has no variation.”\n",
      "Warning message in (function (x, y, offset = NULL, misc = NULL, distribution = \"bernoulli\", :\n",
      "“variable 257: Misc_FeatureTenC has no variation.”\n",
      "Warning message in (function (x, y, offset = NULL, misc = NULL, distribution = \"bernoulli\", :\n",
      "“variable 12: MS_SubClassOne_and_Half_Story_PUD_All_Ages has no variation.”\n",
      "Warning message in (function (x, y, offset = NULL, misc = NULL, distribution = \"bernoulli\", :\n",
      "“variable 33: UtilitiesNoSeWa has no variation.”\n",
      "Warning message in (function (x, y, offset = NULL, misc = NULL, distribution = \"bernoulli\", :\n",
      "“variable 68: NeighborhoodHayden_Lake has no variation.”\n",
      "Warning message in (function (x, y, offset = NULL, misc = NULL, distribution = \"bernoulli\", :\n",
      "“variable 103: Overall_CondVery_Excellent has no variation.”\n",
      "Warning message in (function (x, y, offset = NULL, misc = NULL, distribution = \"bernoulli\", :\n",
      "“variable 112: Roof_MatlMembran has no variation.”\n",
      "Warning message in (function (x, y, offset = NULL, misc = NULL, distribution = \"bernoulli\", :\n",
      "“variable 127: Exterior_1stPreCast has no variation.”\n",
      "Warning message in (function (x, y, offset = NULL, misc = NULL, distribution = \"bernoulli\", :\n",
      "“variable 143: Exterior_2ndPreCast has no variation.”\n",
      "Warning message in (function (x, y, offset = NULL, misc = NULL, distribution = \"bernoulli\", :\n",
      "“variable 200: ElectricalMix has no variation.”\n",
      "Warning message in (function (x, y, offset = NULL, misc = NULL, distribution = \"bernoulli\", :\n",
      "“variable 245: Pool_QCFair has no variation.”\n",
      "Warning message in (function (x, y, offset = NULL, misc = NULL, distribution = \"bernoulli\", :\n",
      "“variable 257: Misc_FeatureTenC has no variation.”\n",
      "Warning message in (function (x, y, offset = NULL, misc = NULL, distribution = \"bernoulli\", :\n",
      "“variable 12: MS_SubClassOne_and_Half_Story_PUD_All_Ages has no variation.”\n",
      "Warning message in (function (x, y, offset = NULL, misc = NULL, distribution = \"bernoulli\", :\n",
      "“variable 33: UtilitiesNoSeWa has no variation.”\n",
      "Warning message in (function (x, y, offset = NULL, misc = NULL, distribution = \"bernoulli\", :\n",
      "“variable 68: NeighborhoodHayden_Lake has no variation.”\n",
      "Warning message in (function (x, y, offset = NULL, misc = NULL, distribution = \"bernoulli\", :\n",
      "“variable 103: Overall_CondVery_Excellent has no variation.”\n",
      "Warning message in (function (x, y, offset = NULL, misc = NULL, distribution = \"bernoulli\", :\n",
      "“variable 112: Roof_MatlMembran has no variation.”\n",
      "Warning message in (function (x, y, offset = NULL, misc = NULL, distribution = \"bernoulli\", :\n",
      "“variable 127: Exterior_1stPreCast has no variation.”\n",
      "Warning message in (function (x, y, offset = NULL, misc = NULL, distribution = \"bernoulli\", :\n",
      "“variable 143: Exterior_2ndPreCast has no variation.”\n",
      "Warning message in (function (x, y, offset = NULL, misc = NULL, distribution = \"bernoulli\", :\n",
      "“variable 200: ElectricalMix has no variation.”\n",
      "Warning message in (function (x, y, offset = NULL, misc = NULL, distribution = \"bernoulli\", :\n",
      "“variable 245: Pool_QCFair has no variation.”\n",
      "Warning message in (function (x, y, offset = NULL, misc = NULL, distribution = \"bernoulli\", :\n",
      "“variable 257: Misc_FeatureTenC has no variation.”\n",
      "Warning message in (function (x, y, offset = NULL, misc = NULL, distribution = \"bernoulli\", :\n",
      "“variable 12: MS_SubClassOne_and_Half_Story_PUD_All_Ages has no variation.”\n",
      "Warning message in (function (x, y, offset = NULL, misc = NULL, distribution = \"bernoulli\", :\n",
      "“variable 33: UtilitiesNoSeWa has no variation.”\n",
      "Warning message in (function (x, y, offset = NULL, misc = NULL, distribution = \"bernoulli\", :\n",
      "“variable 68: NeighborhoodHayden_Lake has no variation.”\n",
      "Warning message in (function (x, y, offset = NULL, misc = NULL, distribution = \"bernoulli\", :\n",
      "“variable 103: Overall_CondVery_Excellent has no variation.”\n",
      "Warning message in (function (x, y, offset = NULL, misc = NULL, distribution = \"bernoulli\", :\n",
      "“variable 112: Roof_MatlMembran has no variation.”\n",
      "Warning message in (function (x, y, offset = NULL, misc = NULL, distribution = \"bernoulli\", :\n",
      "“variable 127: Exterior_1stPreCast has no variation.”\n",
      "Warning message in (function (x, y, offset = NULL, misc = NULL, distribution = \"bernoulli\", :\n",
      "“variable 143: Exterior_2ndPreCast has no variation.”\n",
      "Warning message in (function (x, y, offset = NULL, misc = NULL, distribution = \"bernoulli\", :\n",
      "“variable 200: ElectricalMix has no variation.”\n",
      "Warning message in (function (x, y, offset = NULL, misc = NULL, distribution = \"bernoulli\", :\n",
      "“variable 245: Pool_QCFair has no variation.”\n",
      "Warning message in (function (x, y, offset = NULL, misc = NULL, distribution = \"bernoulli\", :\n",
      "“variable 257: Misc_FeatureTenC has no variation.”\n",
      "Warning message in (function (x, y, offset = NULL, misc = NULL, distribution = \"bernoulli\", :\n",
      "“variable 12: MS_SubClassOne_and_Half_Story_PUD_All_Ages has no variation.”\n",
      "Warning message in (function (x, y, offset = NULL, misc = NULL, distribution = \"bernoulli\", :\n",
      "“variable 33: UtilitiesNoSeWa has no variation.”\n",
      "Warning message in (function (x, y, offset = NULL, misc = NULL, distribution = \"bernoulli\", :\n",
      "“variable 68: NeighborhoodHayden_Lake has no variation.”\n",
      "Warning message in (function (x, y, offset = NULL, misc = NULL, distribution = \"bernoulli\", :\n",
      "“variable 103: Overall_CondVery_Excellent has no variation.”\n",
      "Warning message in (function (x, y, offset = NULL, misc = NULL, distribution = \"bernoulli\", :\n",
      "“variable 112: Roof_MatlMembran has no variation.”\n",
      "Warning message in (function (x, y, offset = NULL, misc = NULL, distribution = \"bernoulli\", :\n",
      "“variable 127: Exterior_1stPreCast has no variation.”\n",
      "Warning message in (function (x, y, offset = NULL, misc = NULL, distribution = \"bernoulli\", :\n",
      "“variable 143: Exterior_2ndPreCast has no variation.”\n",
      "Warning message in (function (x, y, offset = NULL, misc = NULL, distribution = \"bernoulli\", :\n",
      "“variable 200: ElectricalMix has no variation.”\n",
      "Warning message in (function (x, y, offset = NULL, misc = NULL, distribution = \"bernoulli\", :\n",
      "“variable 245: Pool_QCFair has no variation.”\n",
      "Warning message in (function (x, y, offset = NULL, misc = NULL, distribution = \"bernoulli\", :\n",
      "“variable 257: Misc_FeatureTenC has no variation.”\n",
      "Warning message in (function (x, y, offset = NULL, misc = NULL, distribution = \"bernoulli\", :\n",
      "“variable 12: MS_SubClassOne_and_Half_Story_PUD_All_Ages has no variation.”\n",
      "Warning message in (function (x, y, offset = NULL, misc = NULL, distribution = \"bernoulli\", :\n",
      "“variable 33: UtilitiesNoSeWa has no variation.”\n",
      "Warning message in (function (x, y, offset = NULL, misc = NULL, distribution = \"bernoulli\", :\n",
      "“variable 68: NeighborhoodHayden_Lake has no variation.”\n",
      "Warning message in (function (x, y, offset = NULL, misc = NULL, distribution = \"bernoulli\", :\n",
      "“variable 103: Overall_CondVery_Excellent has no variation.”\n",
      "Warning message in (function (x, y, offset = NULL, misc = NULL, distribution = \"bernoulli\", :\n",
      "“variable 112: Roof_MatlMembran has no variation.”\n",
      "Warning message in (function (x, y, offset = NULL, misc = NULL, distribution = \"bernoulli\", :\n",
      "“variable 127: Exterior_1stPreCast has no variation.”\n",
      "Warning message in (function (x, y, offset = NULL, misc = NULL, distribution = \"bernoulli\", :\n",
      "“variable 143: Exterior_2ndPreCast has no variation.”\n",
      "Warning message in (function (x, y, offset = NULL, misc = NULL, distribution = \"bernoulli\", :\n",
      "“variable 200: ElectricalMix has no variation.”\n",
      "Warning message in (function (x, y, offset = NULL, misc = NULL, distribution = \"bernoulli\", :\n",
      "“variable 245: Pool_QCFair has no variation.”\n",
      "Warning message in (function (x, y, offset = NULL, misc = NULL, distribution = \"bernoulli\", :\n",
      "“variable 257: Misc_FeatureTenC has no variation.”\n",
      "Warning message in (function (x, y, offset = NULL, misc = NULL, distribution = \"bernoulli\", :\n",
      "“variable 68: NeighborhoodHayden_Lake has no variation.”\n",
      "Warning message in (function (x, y, offset = NULL, misc = NULL, distribution = \"bernoulli\", :\n",
      "“variable 82: Condition_2RRAn has no variation.”\n",
      "Warning message in (function (x, y, offset = NULL, misc = NULL, distribution = \"bernoulli\", :\n",
      "“variable 103: Overall_CondVery_Excellent has no variation.”\n",
      "Warning message in (function (x, y, offset = NULL, misc = NULL, distribution = \"bernoulli\", :\n",
      "“variable 68: NeighborhoodHayden_Lake has no variation.”\n",
      "Warning message in (function (x, y, offset = NULL, misc = NULL, distribution = \"bernoulli\", :\n",
      "“variable 82: Condition_2RRAn has no variation.”\n",
      "Warning message in (function (x, y, offset = NULL, misc = NULL, distribution = \"bernoulli\", :\n",
      "“variable 103: Overall_CondVery_Excellent has no variation.”\n",
      "Warning message in (function (x, y, offset = NULL, misc = NULL, distribution = \"bernoulli\", :\n",
      "“variable 68: NeighborhoodHayden_Lake has no variation.”\n",
      "Warning message in (function (x, y, offset = NULL, misc = NULL, distribution = \"bernoulli\", :\n",
      "“variable 82: Condition_2RRAn has no variation.”\n",
      "Warning message in (function (x, y, offset = NULL, misc = NULL, distribution = \"bernoulli\", :\n",
      "“variable 103: Overall_CondVery_Excellent has no variation.”\n",
      "Warning message in (function (x, y, offset = NULL, misc = NULL, distribution = \"bernoulli\", :\n",
      "“variable 68: NeighborhoodHayden_Lake has no variation.”\n",
      "Warning message in (function (x, y, offset = NULL, misc = NULL, distribution = \"bernoulli\", :\n",
      "“variable 82: Condition_2RRAn has no variation.”\n",
      "Warning message in (function (x, y, offset = NULL, misc = NULL, distribution = \"bernoulli\", :\n",
      "“variable 103: Overall_CondVery_Excellent has no variation.”\n",
      "Warning message in (function (x, y, offset = NULL, misc = NULL, distribution = \"bernoulli\", :\n",
      "“variable 68: NeighborhoodHayden_Lake has no variation.”\n",
      "Warning message in (function (x, y, offset = NULL, misc = NULL, distribution = \"bernoulli\", :\n",
      "“variable 82: Condition_2RRAn has no variation.”\n",
      "Warning message in (function (x, y, offset = NULL, misc = NULL, distribution = \"bernoulli\", :\n",
      "“variable 103: Overall_CondVery_Excellent has no variation.”\n",
      "Warning message in (function (x, y, offset = NULL, misc = NULL, distribution = \"bernoulli\", :\n",
      "“variable 68: NeighborhoodHayden_Lake has no variation.”\n",
      "Warning message in (function (x, y, offset = NULL, misc = NULL, distribution = \"bernoulli\", :\n",
      "“variable 82: Condition_2RRAn has no variation.”\n",
      "Warning message in (function (x, y, offset = NULL, misc = NULL, distribution = \"bernoulli\", :\n",
      "“variable 103: Overall_CondVery_Excellent has no variation.”\n",
      "Warning message in (function (x, y, offset = NULL, misc = NULL, distribution = \"bernoulli\", :\n",
      "“variable 68: NeighborhoodHayden_Lake has no variation.”\n",
      "Warning message in (function (x, y, offset = NULL, misc = NULL, distribution = \"bernoulli\", :\n",
      "“variable 82: Condition_2RRAn has no variation.”\n",
      "Warning message in (function (x, y, offset = NULL, misc = NULL, distribution = \"bernoulli\", :\n",
      "“variable 103: Overall_CondVery_Excellent has no variation.”\n",
      "Warning message in (function (x, y, offset = NULL, misc = NULL, distribution = \"bernoulli\", :\n",
      "“variable 68: NeighborhoodHayden_Lake has no variation.”\n",
      "Warning message in (function (x, y, offset = NULL, misc = NULL, distribution = \"bernoulli\", :\n",
      "“variable 82: Condition_2RRAn has no variation.”\n",
      "Warning message in (function (x, y, offset = NULL, misc = NULL, distribution = \"bernoulli\", :\n",
      "“variable 103: Overall_CondVery_Excellent has no variation.”\n",
      "Warning message in (function (x, y, offset = NULL, misc = NULL, distribution = \"bernoulli\", :\n",
      "“variable 67: NeighborhoodLandmark has no variation.”\n",
      "Warning message in (function (x, y, offset = NULL, misc = NULL, distribution = \"bernoulli\", :\n",
      "“variable 68: NeighborhoodHayden_Lake has no variation.”\n",
      "Warning message in (function (x, y, offset = NULL, misc = NULL, distribution = \"bernoulli\", :\n",
      "“variable 81: Condition_2RRAe has no variation.”\n",
      "Warning message in (function (x, y, offset = NULL, misc = NULL, distribution = \"bernoulli\", :\n",
      "“variable 103: Overall_CondVery_Excellent has no variation.”\n",
      "Warning message in (function (x, y, offset = NULL, misc = NULL, distribution = \"bernoulli\", :\n",
      "“variable 202: ElectricalUnknown has no variation.”\n",
      "Warning message in (function (x, y, offset = NULL, misc = NULL, distribution = \"bernoulli\", :\n",
      "“variable 67: NeighborhoodLandmark has no variation.”\n",
      "Warning message in (function (x, y, offset = NULL, misc = NULL, distribution = \"bernoulli\", :\n",
      "“variable 68: NeighborhoodHayden_Lake has no variation.”\n",
      "Warning message in (function (x, y, offset = NULL, misc = NULL, distribution = \"bernoulli\", :\n",
      "“variable 81: Condition_2RRAe has no variation.”\n",
      "Warning message in (function (x, y, offset = NULL, misc = NULL, distribution = \"bernoulli\", :\n",
      "“variable 103: Overall_CondVery_Excellent has no variation.”\n",
      "Warning message in (function (x, y, offset = NULL, misc = NULL, distribution = \"bernoulli\", :\n",
      "“variable 202: ElectricalUnknown has no variation.”\n",
      "Warning message in (function (x, y, offset = NULL, misc = NULL, distribution = \"bernoulli\", :\n",
      "“variable 67: NeighborhoodLandmark has no variation.”\n",
      "Warning message in (function (x, y, offset = NULL, misc = NULL, distribution = \"bernoulli\", :\n",
      "“variable 68: NeighborhoodHayden_Lake has no variation.”\n",
      "Warning message in (function (x, y, offset = NULL, misc = NULL, distribution = \"bernoulli\", :\n",
      "“variable 81: Condition_2RRAe has no variation.”\n",
      "Warning message in (function (x, y, offset = NULL, misc = NULL, distribution = \"bernoulli\", :\n",
      "“variable 103: Overall_CondVery_Excellent has no variation.”\n",
      "Warning message in (function (x, y, offset = NULL, misc = NULL, distribution = \"bernoulli\", :\n",
      "“variable 202: ElectricalUnknown has no variation.”\n",
      "Warning message in (function (x, y, offset = NULL, misc = NULL, distribution = \"bernoulli\", :\n",
      "“variable 67: NeighborhoodLandmark has no variation.”\n",
      "Warning message in (function (x, y, offset = NULL, misc = NULL, distribution = \"bernoulli\", :\n",
      "“variable 68: NeighborhoodHayden_Lake has no variation.”\n",
      "Warning message in (function (x, y, offset = NULL, misc = NULL, distribution = \"bernoulli\", :\n",
      "“variable 81: Condition_2RRAe has no variation.”\n",
      "Warning message in (function (x, y, offset = NULL, misc = NULL, distribution = \"bernoulli\", :\n",
      "“variable 103: Overall_CondVery_Excellent has no variation.”\n",
      "Warning message in (function (x, y, offset = NULL, misc = NULL, distribution = \"bernoulli\", :\n",
      "“variable 202: ElectricalUnknown has no variation.”\n",
      "Warning message in (function (x, y, offset = NULL, misc = NULL, distribution = \"bernoulli\", :\n",
      "“variable 67: NeighborhoodLandmark has no variation.”\n",
      "Warning message in (function (x, y, offset = NULL, misc = NULL, distribution = \"bernoulli\", :\n",
      "“variable 68: NeighborhoodHayden_Lake has no variation.”\n",
      "Warning message in (function (x, y, offset = NULL, misc = NULL, distribution = \"bernoulli\", :\n",
      "“variable 81: Condition_2RRAe has no variation.”\n",
      "Warning message in (function (x, y, offset = NULL, misc = NULL, distribution = \"bernoulli\", :\n",
      "“variable 103: Overall_CondVery_Excellent has no variation.”\n",
      "Warning message in (function (x, y, offset = NULL, misc = NULL, distribution = \"bernoulli\", :\n",
      "“variable 202: ElectricalUnknown has no variation.”\n",
      "Warning message in (function (x, y, offset = NULL, misc = NULL, distribution = \"bernoulli\", :\n",
      "“variable 67: NeighborhoodLandmark has no variation.”\n",
      "Warning message in (function (x, y, offset = NULL, misc = NULL, distribution = \"bernoulli\", :\n",
      "“variable 68: NeighborhoodHayden_Lake has no variation.”\n",
      "Warning message in (function (x, y, offset = NULL, misc = NULL, distribution = \"bernoulli\", :\n",
      "“variable 81: Condition_2RRAe has no variation.”\n",
      "Warning message in (function (x, y, offset = NULL, misc = NULL, distribution = \"bernoulli\", :\n",
      "“variable 103: Overall_CondVery_Excellent has no variation.”\n",
      "Warning message in (function (x, y, offset = NULL, misc = NULL, distribution = \"bernoulli\", :\n",
      "“variable 202: ElectricalUnknown has no variation.”\n",
      "Warning message in (function (x, y, offset = NULL, misc = NULL, distribution = \"bernoulli\", :\n",
      "“variable 67: NeighborhoodLandmark has no variation.”\n",
      "Warning message in (function (x, y, offset = NULL, misc = NULL, distribution = \"bernoulli\", :\n",
      "“variable 68: NeighborhoodHayden_Lake has no variation.”\n",
      "Warning message in (function (x, y, offset = NULL, misc = NULL, distribution = \"bernoulli\", :\n",
      "“variable 81: Condition_2RRAe has no variation.”\n",
      "Warning message in (function (x, y, offset = NULL, misc = NULL, distribution = \"bernoulli\", :\n",
      "“variable 103: Overall_CondVery_Excellent has no variation.”\n",
      "Warning message in (function (x, y, offset = NULL, misc = NULL, distribution = \"bernoulli\", :\n",
      "“variable 202: ElectricalUnknown has no variation.”\n",
      "Warning message in (function (x, y, offset = NULL, misc = NULL, distribution = \"bernoulli\", :\n",
      "“variable 67: NeighborhoodLandmark has no variation.”\n",
      "Warning message in (function (x, y, offset = NULL, misc = NULL, distribution = \"bernoulli\", :\n",
      "“variable 68: NeighborhoodHayden_Lake has no variation.”\n",
      "Warning message in (function (x, y, offset = NULL, misc = NULL, distribution = \"bernoulli\", :\n",
      "“variable 81: Condition_2RRAe has no variation.”\n",
      "Warning message in (function (x, y, offset = NULL, misc = NULL, distribution = \"bernoulli\", :\n",
      "“variable 103: Overall_CondVery_Excellent has no variation.”\n",
      "Warning message in (function (x, y, offset = NULL, misc = NULL, distribution = \"bernoulli\", :\n",
      "“variable 202: ElectricalUnknown has no variation.”\n",
      "Warning message in (function (x, y, offset = NULL, misc = NULL, distribution = \"bernoulli\", :\n",
      "“variable 68: NeighborhoodHayden_Lake has no variation.”\n",
      "Warning message in (function (x, y, offset = NULL, misc = NULL, distribution = \"bernoulli\", :\n",
      "“variable 103: Overall_CondVery_Excellent has no variation.”\n",
      "Warning message in (function (x, y, offset = NULL, misc = NULL, distribution = \"bernoulli\", :\n",
      "“variable 113: Roof_MatlMetal has no variation.”\n",
      "Warning message in (function (x, y, offset = NULL, misc = NULL, distribution = \"bernoulli\", :\n",
      "“variable 124: Exterior_1stImStucc has no variation.”\n",
      "Warning message in (function (x, y, offset = NULL, misc = NULL, distribution = \"bernoulli\", :\n",
      "“variable 150: Mas_Vnr_TypeCBlock has no variation.”\n",
      "Warning message in (function (x, y, offset = NULL, misc = NULL, distribution = \"bernoulli\", :\n",
      "“variable 268: Sale_TypeVWD has no variation.”\n",
      "Warning message in (function (x, y, offset = NULL, misc = NULL, distribution = \"bernoulli\", :\n",
      "“variable 68: NeighborhoodHayden_Lake has no variation.”\n",
      "Warning message in (function (x, y, offset = NULL, misc = NULL, distribution = \"bernoulli\", :\n",
      "“variable 103: Overall_CondVery_Excellent has no variation.”\n",
      "Warning message in (function (x, y, offset = NULL, misc = NULL, distribution = \"bernoulli\", :\n",
      "“variable 113: Roof_MatlMetal has no variation.”\n",
      "Warning message in (function (x, y, offset = NULL, misc = NULL, distribution = \"bernoulli\", :\n",
      "“variable 124: Exterior_1stImStucc has no variation.”\n",
      "Warning message in (function (x, y, offset = NULL, misc = NULL, distribution = \"bernoulli\", :\n",
      "“variable 150: Mas_Vnr_TypeCBlock has no variation.”\n",
      "Warning message in (function (x, y, offset = NULL, misc = NULL, distribution = \"bernoulli\", :\n",
      "“variable 268: Sale_TypeVWD has no variation.”\n",
      "Warning message in (function (x, y, offset = NULL, misc = NULL, distribution = \"bernoulli\", :\n",
      "“variable 68: NeighborhoodHayden_Lake has no variation.”\n",
      "Warning message in (function (x, y, offset = NULL, misc = NULL, distribution = \"bernoulli\", :\n",
      "“variable 103: Overall_CondVery_Excellent has no variation.”\n",
      "Warning message in (function (x, y, offset = NULL, misc = NULL, distribution = \"bernoulli\", :\n",
      "“variable 113: Roof_MatlMetal has no variation.”\n",
      "Warning message in (function (x, y, offset = NULL, misc = NULL, distribution = \"bernoulli\", :\n",
      "“variable 124: Exterior_1stImStucc has no variation.”\n",
      "Warning message in (function (x, y, offset = NULL, misc = NULL, distribution = \"bernoulli\", :\n",
      "“variable 150: Mas_Vnr_TypeCBlock has no variation.”\n",
      "Warning message in (function (x, y, offset = NULL, misc = NULL, distribution = \"bernoulli\", :\n",
      "“variable 268: Sale_TypeVWD has no variation.”\n",
      "Warning message in (function (x, y, offset = NULL, misc = NULL, distribution = \"bernoulli\", :\n",
      "“variable 68: NeighborhoodHayden_Lake has no variation.”\n",
      "Warning message in (function (x, y, offset = NULL, misc = NULL, distribution = \"bernoulli\", :\n",
      "“variable 103: Overall_CondVery_Excellent has no variation.”\n",
      "Warning message in (function (x, y, offset = NULL, misc = NULL, distribution = \"bernoulli\", :\n",
      "“variable 113: Roof_MatlMetal has no variation.”\n",
      "Warning message in (function (x, y, offset = NULL, misc = NULL, distribution = \"bernoulli\", :\n",
      "“variable 124: Exterior_1stImStucc has no variation.”\n",
      "Warning message in (function (x, y, offset = NULL, misc = NULL, distribution = \"bernoulli\", :\n",
      "“variable 150: Mas_Vnr_TypeCBlock has no variation.”\n",
      "Warning message in (function (x, y, offset = NULL, misc = NULL, distribution = \"bernoulli\", :\n",
      "“variable 268: Sale_TypeVWD has no variation.”\n",
      "Warning message in (function (x, y, offset = NULL, misc = NULL, distribution = \"bernoulli\", :\n",
      "“variable 68: NeighborhoodHayden_Lake has no variation.”\n",
      "Warning message in (function (x, y, offset = NULL, misc = NULL, distribution = \"bernoulli\", :\n",
      "“variable 103: Overall_CondVery_Excellent has no variation.”\n",
      "Warning message in (function (x, y, offset = NULL, misc = NULL, distribution = \"bernoulli\", :\n",
      "“variable 113: Roof_MatlMetal has no variation.”\n",
      "Warning message in (function (x, y, offset = NULL, misc = NULL, distribution = \"bernoulli\", :\n",
      "“variable 124: Exterior_1stImStucc has no variation.”\n",
      "Warning message in (function (x, y, offset = NULL, misc = NULL, distribution = \"bernoulli\", :\n",
      "“variable 150: Mas_Vnr_TypeCBlock has no variation.”\n",
      "Warning message in (function (x, y, offset = NULL, misc = NULL, distribution = \"bernoulli\", :\n",
      "“variable 268: Sale_TypeVWD has no variation.”\n",
      "Warning message in (function (x, y, offset = NULL, misc = NULL, distribution = \"bernoulli\", :\n",
      "“variable 68: NeighborhoodHayden_Lake has no variation.”\n",
      "Warning message in (function (x, y, offset = NULL, misc = NULL, distribution = \"bernoulli\", :\n",
      "“variable 103: Overall_CondVery_Excellent has no variation.”\n",
      "Warning message in (function (x, y, offset = NULL, misc = NULL, distribution = \"bernoulli\", :\n",
      "“variable 113: Roof_MatlMetal has no variation.”\n",
      "Warning message in (function (x, y, offset = NULL, misc = NULL, distribution = \"bernoulli\", :\n",
      "“variable 124: Exterior_1stImStucc has no variation.”\n",
      "Warning message in (function (x, y, offset = NULL, misc = NULL, distribution = \"bernoulli\", :\n",
      "“variable 150: Mas_Vnr_TypeCBlock has no variation.”\n",
      "Warning message in (function (x, y, offset = NULL, misc = NULL, distribution = \"bernoulli\", :\n",
      "“variable 268: Sale_TypeVWD has no variation.”\n",
      "Warning message in (function (x, y, offset = NULL, misc = NULL, distribution = \"bernoulli\", :\n",
      "“variable 68: NeighborhoodHayden_Lake has no variation.”\n",
      "Warning message in (function (x, y, offset = NULL, misc = NULL, distribution = \"bernoulli\", :\n",
      "“variable 103: Overall_CondVery_Excellent has no variation.”\n",
      "Warning message in (function (x, y, offset = NULL, misc = NULL, distribution = \"bernoulli\", :\n",
      "“variable 113: Roof_MatlMetal has no variation.”\n",
      "Warning message in (function (x, y, offset = NULL, misc = NULL, distribution = \"bernoulli\", :\n",
      "“variable 124: Exterior_1stImStucc has no variation.”\n",
      "Warning message in (function (x, y, offset = NULL, misc = NULL, distribution = \"bernoulli\", :\n",
      "“variable 150: Mas_Vnr_TypeCBlock has no variation.”\n",
      "Warning message in (function (x, y, offset = NULL, misc = NULL, distribution = \"bernoulli\", :\n",
      "“variable 268: Sale_TypeVWD has no variation.”\n",
      "Warning message in (function (x, y, offset = NULL, misc = NULL, distribution = \"bernoulli\", :\n",
      "“variable 68: NeighborhoodHayden_Lake has no variation.”\n",
      "Warning message in (function (x, y, offset = NULL, misc = NULL, distribution = \"bernoulli\", :\n",
      "“variable 103: Overall_CondVery_Excellent has no variation.”\n",
      "Warning message in (function (x, y, offset = NULL, misc = NULL, distribution = \"bernoulli\", :\n",
      "“variable 113: Roof_MatlMetal has no variation.”\n",
      "Warning message in (function (x, y, offset = NULL, misc = NULL, distribution = \"bernoulli\", :\n",
      "“variable 124: Exterior_1stImStucc has no variation.”\n",
      "Warning message in (function (x, y, offset = NULL, misc = NULL, distribution = \"bernoulli\", :\n",
      "“variable 150: Mas_Vnr_TypeCBlock has no variation.”\n",
      "Warning message in (function (x, y, offset = NULL, misc = NULL, distribution = \"bernoulli\", :\n",
      "“variable 268: Sale_TypeVWD has no variation.”\n",
      "Warning message in (function (x, y, offset = NULL, misc = NULL, distribution = \"bernoulli\", :\n",
      "“variable 68: NeighborhoodHayden_Lake has no variation.”\n",
      "Warning message in (function (x, y, offset = NULL, misc = NULL, distribution = \"bernoulli\", :\n",
      "“variable 83: Condition_2RRNn has no variation.”\n",
      "Warning message in (function (x, y, offset = NULL, misc = NULL, distribution = \"bernoulli\", :\n",
      "“variable 103: Overall_CondVery_Excellent has no variation.”\n",
      "Warning message in (function (x, y, offset = NULL, misc = NULL, distribution = \"bernoulli\", :\n",
      "“variable 114: Roof_MatlRoll has no variation.”\n",
      "Warning message in (function (x, y, offset = NULL, misc = NULL, distribution = \"bernoulli\", :\n",
      "“variable 141: Exterior_2ndOther has no variation.”\n",
      "Warning message in (function (x, y, offset = NULL, misc = NULL, distribution = \"bernoulli\", :\n",
      "“variable 68: NeighborhoodHayden_Lake has no variation.”\n",
      "Warning message in (function (x, y, offset = NULL, misc = NULL, distribution = \"bernoulli\", :\n",
      "“variable 83: Condition_2RRNn has no variation.”\n",
      "Warning message in (function (x, y, offset = NULL, misc = NULL, distribution = \"bernoulli\", :\n",
      "“variable 103: Overall_CondVery_Excellent has no variation.”\n",
      "Warning message in (function (x, y, offset = NULL, misc = NULL, distribution = \"bernoulli\", :\n",
      "“variable 114: Roof_MatlRoll has no variation.”\n",
      "Warning message in (function (x, y, offset = NULL, misc = NULL, distribution = \"bernoulli\", :\n",
      "“variable 141: Exterior_2ndOther has no variation.”\n",
      "Warning message in (function (x, y, offset = NULL, misc = NULL, distribution = \"bernoulli\", :\n",
      "“variable 68: NeighborhoodHayden_Lake has no variation.”\n",
      "Warning message in (function (x, y, offset = NULL, misc = NULL, distribution = \"bernoulli\", :\n",
      "“variable 83: Condition_2RRNn has no variation.”\n",
      "Warning message in (function (x, y, offset = NULL, misc = NULL, distribution = \"bernoulli\", :\n",
      "“variable 103: Overall_CondVery_Excellent has no variation.”\n",
      "Warning message in (function (x, y, offset = NULL, misc = NULL, distribution = \"bernoulli\", :\n",
      "“variable 114: Roof_MatlRoll has no variation.”\n",
      "Warning message in (function (x, y, offset = NULL, misc = NULL, distribution = \"bernoulli\", :\n",
      "“variable 141: Exterior_2ndOther has no variation.”\n",
      "Warning message in (function (x, y, offset = NULL, misc = NULL, distribution = \"bernoulli\", :\n",
      "“variable 68: NeighborhoodHayden_Lake has no variation.”\n",
      "Warning message in (function (x, y, offset = NULL, misc = NULL, distribution = \"bernoulli\", :\n",
      "“variable 83: Condition_2RRNn has no variation.”\n",
      "Warning message in (function (x, y, offset = NULL, misc = NULL, distribution = \"bernoulli\", :\n",
      "“variable 103: Overall_CondVery_Excellent has no variation.”\n",
      "Warning message in (function (x, y, offset = NULL, misc = NULL, distribution = \"bernoulli\", :\n",
      "“variable 114: Roof_MatlRoll has no variation.”\n",
      "Warning message in (function (x, y, offset = NULL, misc = NULL, distribution = \"bernoulli\", :\n",
      "“variable 141: Exterior_2ndOther has no variation.”\n",
      "Warning message in (function (x, y, offset = NULL, misc = NULL, distribution = \"bernoulli\", :\n",
      "“variable 68: NeighborhoodHayden_Lake has no variation.”\n",
      "Warning message in (function (x, y, offset = NULL, misc = NULL, distribution = \"bernoulli\", :\n",
      "“variable 83: Condition_2RRNn has no variation.”\n",
      "Warning message in (function (x, y, offset = NULL, misc = NULL, distribution = \"bernoulli\", :\n",
      "“variable 103: Overall_CondVery_Excellent has no variation.”\n",
      "Warning message in (function (x, y, offset = NULL, misc = NULL, distribution = \"bernoulli\", :\n",
      "“variable 114: Roof_MatlRoll has no variation.”\n",
      "Warning message in (function (x, y, offset = NULL, misc = NULL, distribution = \"bernoulli\", :\n",
      "“variable 141: Exterior_2ndOther has no variation.”\n",
      "Warning message in (function (x, y, offset = NULL, misc = NULL, distribution = \"bernoulli\", :\n",
      "“variable 68: NeighborhoodHayden_Lake has no variation.”\n",
      "Warning message in (function (x, y, offset = NULL, misc = NULL, distribution = \"bernoulli\", :\n",
      "“variable 83: Condition_2RRNn has no variation.”\n",
      "Warning message in (function (x, y, offset = NULL, misc = NULL, distribution = \"bernoulli\", :\n",
      "“variable 103: Overall_CondVery_Excellent has no variation.”\n",
      "Warning message in (function (x, y, offset = NULL, misc = NULL, distribution = \"bernoulli\", :\n",
      "“variable 114: Roof_MatlRoll has no variation.”\n",
      "Warning message in (function (x, y, offset = NULL, misc = NULL, distribution = \"bernoulli\", :\n",
      "“variable 141: Exterior_2ndOther has no variation.”\n",
      "Warning message in (function (x, y, offset = NULL, misc = NULL, distribution = \"bernoulli\", :\n",
      "“variable 68: NeighborhoodHayden_Lake has no variation.”\n",
      "Warning message in (function (x, y, offset = NULL, misc = NULL, distribution = \"bernoulli\", :\n",
      "“variable 83: Condition_2RRNn has no variation.”\n",
      "Warning message in (function (x, y, offset = NULL, misc = NULL, distribution = \"bernoulli\", :\n",
      "“variable 103: Overall_CondVery_Excellent has no variation.”\n",
      "Warning message in (function (x, y, offset = NULL, misc = NULL, distribution = \"bernoulli\", :\n",
      "“variable 114: Roof_MatlRoll has no variation.”\n",
      "Warning message in (function (x, y, offset = NULL, misc = NULL, distribution = \"bernoulli\", :\n",
      "“variable 141: Exterior_2ndOther has no variation.”\n",
      "Warning message in (function (x, y, offset = NULL, misc = NULL, distribution = \"bernoulli\", :\n",
      "“variable 68: NeighborhoodHayden_Lake has no variation.”\n",
      "Warning message in (function (x, y, offset = NULL, misc = NULL, distribution = \"bernoulli\", :\n",
      "“variable 83: Condition_2RRNn has no variation.”\n",
      "Warning message in (function (x, y, offset = NULL, misc = NULL, distribution = \"bernoulli\", :\n",
      "“variable 103: Overall_CondVery_Excellent has no variation.”\n",
      "Warning message in (function (x, y, offset = NULL, misc = NULL, distribution = \"bernoulli\", :\n",
      "“variable 114: Roof_MatlRoll has no variation.”\n",
      "Warning message in (function (x, y, offset = NULL, misc = NULL, distribution = \"bernoulli\", :\n",
      "“variable 141: Exterior_2ndOther has no variation.”\n",
      "Warning message in (function (x, y, offset = NULL, misc = NULL, distribution = \"bernoulli\", :\n",
      "“variable 68: NeighborhoodHayden_Lake has no variation.”\n",
      "Warning message in (function (x, y, offset = NULL, misc = NULL, distribution = \"bernoulli\", :\n",
      "“variable 103: Overall_CondVery_Excellent has no variation.”\n"
     ]
    }
   ],
   "source": [
    "fitControl<-trainControl(method =\"cv\",\n",
    "                         number=5)\n",
    "\n",
    "set.seed(123)  # Fijamos semilla para reproducibilidad\n",
    "gbm_tree <- train( log(Sale_Price) ~ .,\n",
    "    data=ames,\n",
    "  method = \"gbm\", \n",
    "  trControl = fitControl,\n",
    "  tuneGrid=grid_gbm,\n",
    "  verbose = FALSE\n",
    ")            \n"
   ]
  },
  {
   "cell_type": "code",
   "execution_count": 28,
   "id": "973f0d8e",
   "metadata": {
    "vscode": {
     "languageId": "r"
    }
   },
   "outputs": [
    {
     "data": {
      "text/plain": [
       "Stochastic Gradient Boosting \n",
       "\n",
       "2930 samples\n",
       "  73 predictor\n",
       "\n",
       "No pre-processing\n",
       "Resampling: Cross-Validated (5 fold) \n",
       "Summary of sample sizes: 2344, 2345, 2344, 2343, 2344 \n",
       "Resampling results across tuning parameters:\n",
       "\n",
       "  shrinkage  interaction.depth  n.minobsinnode  n.trees  RMSE       Rsquared \n",
       "  0.001      4                  10              200      0.3631120  0.7189158\n",
       "  0.001      4                  10              300      0.3444244  0.7364385\n",
       "  0.001      4                  10              500      0.3121951  0.7618571\n",
       "  0.001      4                  30              200      0.3631157  0.7193431\n",
       "  0.001      4                  30              300      0.3444302  0.7376098\n",
       "  0.001      4                  30              500      0.3121817  0.7621505\n",
       "  0.001      6                  10              200      0.3591806  0.7579130\n",
       "  0.001      6                  10              300      0.3387100  0.7702871\n",
       "  0.001      6                  10              500      0.3036581  0.7892588\n",
       "  0.001      6                  30              200      0.3591921  0.7562382\n",
       "  0.001      6                  30              300      0.3387292  0.7690737\n",
       "  0.001      6                  30              500      0.3036692  0.7884318\n",
       "  0.010      4                  10              200      0.1921583  0.8321696\n",
       "  0.010      4                  10              300      0.1671030  0.8515780\n",
       "  0.010      4                  10              500      0.1475508  0.8734286\n",
       "  0.010      4                  30              200      0.1919991  0.8311673\n",
       "  0.010      4                  30              300      0.1674182  0.8496132\n",
       "  0.010      4                  30              500      0.1481816  0.8716918\n",
       "  0.010      6                  10              200      0.1812903  0.8460989\n",
       "  0.010      6                  10              300      0.1582201  0.8634700\n",
       "  0.010      6                  10              500      0.1412038  0.8830213\n",
       "  0.010      6                  30              200      0.1814959  0.8435688\n",
       "  0.010      6                  30              300      0.1587256  0.8610819\n",
       "  0.010      6                  30              500      0.1421128  0.8809095\n",
       "  MAE       \n",
       "  0.27495283\n",
       "  0.25853738\n",
       "  0.23048553\n",
       "  0.27494150\n",
       "  0.25855196\n",
       "  0.23046776\n",
       "  0.27150906\n",
       "  0.25386300\n",
       "  0.22398635\n",
       "  0.27141383\n",
       "  0.25380213\n",
       "  0.22390175\n",
       "  0.13190694\n",
       "  0.11402675\n",
       "  0.10030094\n",
       "  0.13164010\n",
       "  0.11418418\n",
       "  0.10016483\n",
       "  0.12425936\n",
       "  0.10760349\n",
       "  0.09496688\n",
       "  0.12389969\n",
       "  0.10728152\n",
       "  0.09479897\n",
       "\n",
       "RMSE was used to select the optimal model using the smallest value.\n",
       "The final values used for the model were n.trees = 500, interaction.depth =\n",
       " 6, shrinkage = 0.01 and n.minobsinnode = 10."
      ]
     },
     "metadata": {},
     "output_type": "display_data"
    }
   ],
   "source": [
    "gbm_tree"
   ]
  },
  {
   "cell_type": "code",
   "execution_count": 29,
   "id": "2d1d3a23",
   "metadata": {
    "vscode": {
     "languageId": "r"
    }
   },
   "outputs": [
    {
     "data": {
      "text/html": [
       "0.141203835901702"
      ],
      "text/latex": [
       "0.141203835901702"
      ],
      "text/markdown": [
       "0.141203835901702"
      ],
      "text/plain": [
       "[1] 0.1412038"
      ]
     },
     "metadata": {},
     "output_type": "display_data"
    }
   ],
   "source": [
    "min(gbm_tree$results$RMSE)"
   ]
  },
  {
   "cell_type": "markdown",
   "id": "e211b895-c273-4007-b929-d44f66cf2bab",
   "metadata": {
    "vscode": {
     "languageId": "r"
    }
   },
   "source": [
    "## Xgboost\n",
    "\n",
    "\n",
    "\\begin{align}\n",
    "\\mathcal{L} &= \\sum_{i=1}^N L(y_i,\\hat{y}_i) + \\sum_{k=1}^m \\Omega(f_k)\n",
    "\\end{align}\n"
   ]
  },
  {
   "cell_type": "code",
   "execution_count": 31,
   "id": "65852d7b",
   "metadata": {
    "vscode": {
     "languageId": "r"
    }
   },
   "outputs": [],
   "source": [
    "p_load('xgboost')"
   ]
  },
  {
   "cell_type": "markdown",
   "id": "f431bd86",
   "metadata": {},
   "source": [
    "Hiper parametros en `R`\n",
    "\n",
    "-  nrounds (# of trees): This parameter is similar to the random forest parameter. It determines the number of trees in the gradient-boosting forest (M). A range I often explore  100 and 1000 trees.\n",
    "\n",
    "- max_depth (Max Tree Depth): The depth of a tree corresponds to how many branches deep each tree is allowed to go (J). A larger depth corresponds to more flexible trees, which can also lead to overfitting. The default tree depth in xgboost is 6, and it is often useful to explore max_depth range of between 4 and 8.\n",
    "\n",
    "- eta (Shrinkage): The eta parameter controls how the boosted tree at a given iteration is merged with the tree in the previous iteration ($\\eta$ in the algorithm). The default value is 0.3, and evaluating a range of effects between 0.01 and 0.5 is often important.\n",
    "\n",
    "- min_child_weight (min obs per node) This parameter refers to the minimum allowable number of observations in each node. The default value is 1. However, this number is quite low, and caution is warranted here, particularly when the max_depth is large. I always set this value to at least ten and often explore ranges between 10 and 50.\n",
    "\n",
    "- gamma (Minimum Loss Reduction) The gamma parameter controls the extent to which changes in the tree structure occur based on changes in the loss function (this is the $\\gamma$ in the equation). The default gamma value is 0.  I often explore 0 and 1\n",
    "\n",
    "- lambda (regularization term on weights) is the $\\lambda$ parameter in the above equation. The default is set to 1.\n",
    "\n",
    "- colsample_bytree (Subsample Ratio of Columns)\n",
    " \n",
    "- subsample (Subsample Percentage)\n",
    "\n"
   ]
  },
  {
   "cell_type": "code",
   "execution_count": 32,
   "id": "ee2414c4",
   "metadata": {
    "vscode": {
     "languageId": "r"
    }
   },
   "outputs": [
    {
     "data": {
      "text/html": [
       "<table class=\"dataframe\">\n",
       "<caption>A data.frame: 128 × 7</caption>\n",
       "<thead>\n",
       "\t<tr><th scope=col>nrounds</th><th scope=col>max_depth</th><th scope=col>eta</th><th scope=col>gamma</th><th scope=col>min_child_weight</th><th scope=col>colsample_bytree</th><th scope=col>subsample</th></tr>\n",
       "\t<tr><th scope=col>&lt;dbl&gt;</th><th scope=col>&lt;dbl&gt;</th><th scope=col>&lt;dbl&gt;</th><th scope=col>&lt;dbl&gt;</th><th scope=col>&lt;dbl&gt;</th><th scope=col>&lt;dbl&gt;</th><th scope=col>&lt;dbl&gt;</th></tr>\n",
       "</thead>\n",
       "<tbody>\n",
       "\t<tr><td>100</td><td>2</td><td>0.01</td><td>0</td><td>10</td><td>0.33</td><td>0.4</td></tr>\n",
       "\t<tr><td>250</td><td>2</td><td>0.01</td><td>0</td><td>10</td><td>0.33</td><td>0.4</td></tr>\n",
       "\t<tr><td>100</td><td>4</td><td>0.01</td><td>0</td><td>10</td><td>0.33</td><td>0.4</td></tr>\n",
       "\t<tr><td>250</td><td>4</td><td>0.01</td><td>0</td><td>10</td><td>0.33</td><td>0.4</td></tr>\n",
       "\t<tr><td>100</td><td>2</td><td>0.05</td><td>0</td><td>10</td><td>0.33</td><td>0.4</td></tr>\n",
       "\t<tr><td>250</td><td>2</td><td>0.05</td><td>0</td><td>10</td><td>0.33</td><td>0.4</td></tr>\n",
       "\t<tr><td>100</td><td>4</td><td>0.05</td><td>0</td><td>10</td><td>0.33</td><td>0.4</td></tr>\n",
       "\t<tr><td>250</td><td>4</td><td>0.05</td><td>0</td><td>10</td><td>0.33</td><td>0.4</td></tr>\n",
       "\t<tr><td>100</td><td>2</td><td>0.01</td><td>1</td><td>10</td><td>0.33</td><td>0.4</td></tr>\n",
       "\t<tr><td>250</td><td>2</td><td>0.01</td><td>1</td><td>10</td><td>0.33</td><td>0.4</td></tr>\n",
       "\t<tr><td>100</td><td>4</td><td>0.01</td><td>1</td><td>10</td><td>0.33</td><td>0.4</td></tr>\n",
       "\t<tr><td>250</td><td>4</td><td>0.01</td><td>1</td><td>10</td><td>0.33</td><td>0.4</td></tr>\n",
       "\t<tr><td>100</td><td>2</td><td>0.05</td><td>1</td><td>10</td><td>0.33</td><td>0.4</td></tr>\n",
       "\t<tr><td>250</td><td>2</td><td>0.05</td><td>1</td><td>10</td><td>0.33</td><td>0.4</td></tr>\n",
       "\t<tr><td>100</td><td>4</td><td>0.05</td><td>1</td><td>10</td><td>0.33</td><td>0.4</td></tr>\n",
       "\t<tr><td>250</td><td>4</td><td>0.05</td><td>1</td><td>10</td><td>0.33</td><td>0.4</td></tr>\n",
       "\t<tr><td>100</td><td>2</td><td>0.01</td><td>0</td><td>25</td><td>0.33</td><td>0.4</td></tr>\n",
       "\t<tr><td>250</td><td>2</td><td>0.01</td><td>0</td><td>25</td><td>0.33</td><td>0.4</td></tr>\n",
       "\t<tr><td>100</td><td>4</td><td>0.01</td><td>0</td><td>25</td><td>0.33</td><td>0.4</td></tr>\n",
       "\t<tr><td>250</td><td>4</td><td>0.01</td><td>0</td><td>25</td><td>0.33</td><td>0.4</td></tr>\n",
       "\t<tr><td>100</td><td>2</td><td>0.05</td><td>0</td><td>25</td><td>0.33</td><td>0.4</td></tr>\n",
       "\t<tr><td>250</td><td>2</td><td>0.05</td><td>0</td><td>25</td><td>0.33</td><td>0.4</td></tr>\n",
       "\t<tr><td>100</td><td>4</td><td>0.05</td><td>0</td><td>25</td><td>0.33</td><td>0.4</td></tr>\n",
       "\t<tr><td>250</td><td>4</td><td>0.05</td><td>0</td><td>25</td><td>0.33</td><td>0.4</td></tr>\n",
       "\t<tr><td>100</td><td>2</td><td>0.01</td><td>1</td><td>25</td><td>0.33</td><td>0.4</td></tr>\n",
       "\t<tr><td>250</td><td>2</td><td>0.01</td><td>1</td><td>25</td><td>0.33</td><td>0.4</td></tr>\n",
       "\t<tr><td>100</td><td>4</td><td>0.01</td><td>1</td><td>25</td><td>0.33</td><td>0.4</td></tr>\n",
       "\t<tr><td>250</td><td>4</td><td>0.01</td><td>1</td><td>25</td><td>0.33</td><td>0.4</td></tr>\n",
       "\t<tr><td>100</td><td>2</td><td>0.05</td><td>1</td><td>25</td><td>0.33</td><td>0.4</td></tr>\n",
       "\t<tr><td>250</td><td>2</td><td>0.05</td><td>1</td><td>25</td><td>0.33</td><td>0.4</td></tr>\n",
       "\t<tr><td>⋮</td><td>⋮</td><td>⋮</td><td>⋮</td><td>⋮</td><td>⋮</td><td>⋮</td></tr>\n",
       "\t<tr><td>100</td><td>4</td><td>0.01</td><td>0</td><td>10</td><td>0.66</td><td>0.8</td></tr>\n",
       "\t<tr><td>250</td><td>4</td><td>0.01</td><td>0</td><td>10</td><td>0.66</td><td>0.8</td></tr>\n",
       "\t<tr><td>100</td><td>2</td><td>0.05</td><td>0</td><td>10</td><td>0.66</td><td>0.8</td></tr>\n",
       "\t<tr><td>250</td><td>2</td><td>0.05</td><td>0</td><td>10</td><td>0.66</td><td>0.8</td></tr>\n",
       "\t<tr><td>100</td><td>4</td><td>0.05</td><td>0</td><td>10</td><td>0.66</td><td>0.8</td></tr>\n",
       "\t<tr><td>250</td><td>4</td><td>0.05</td><td>0</td><td>10</td><td>0.66</td><td>0.8</td></tr>\n",
       "\t<tr><td>100</td><td>2</td><td>0.01</td><td>1</td><td>10</td><td>0.66</td><td>0.8</td></tr>\n",
       "\t<tr><td>250</td><td>2</td><td>0.01</td><td>1</td><td>10</td><td>0.66</td><td>0.8</td></tr>\n",
       "\t<tr><td>100</td><td>4</td><td>0.01</td><td>1</td><td>10</td><td>0.66</td><td>0.8</td></tr>\n",
       "\t<tr><td>250</td><td>4</td><td>0.01</td><td>1</td><td>10</td><td>0.66</td><td>0.8</td></tr>\n",
       "\t<tr><td>100</td><td>2</td><td>0.05</td><td>1</td><td>10</td><td>0.66</td><td>0.8</td></tr>\n",
       "\t<tr><td>250</td><td>2</td><td>0.05</td><td>1</td><td>10</td><td>0.66</td><td>0.8</td></tr>\n",
       "\t<tr><td>100</td><td>4</td><td>0.05</td><td>1</td><td>10</td><td>0.66</td><td>0.8</td></tr>\n",
       "\t<tr><td>250</td><td>4</td><td>0.05</td><td>1</td><td>10</td><td>0.66</td><td>0.8</td></tr>\n",
       "\t<tr><td>100</td><td>2</td><td>0.01</td><td>0</td><td>25</td><td>0.66</td><td>0.8</td></tr>\n",
       "\t<tr><td>250</td><td>2</td><td>0.01</td><td>0</td><td>25</td><td>0.66</td><td>0.8</td></tr>\n",
       "\t<tr><td>100</td><td>4</td><td>0.01</td><td>0</td><td>25</td><td>0.66</td><td>0.8</td></tr>\n",
       "\t<tr><td>250</td><td>4</td><td>0.01</td><td>0</td><td>25</td><td>0.66</td><td>0.8</td></tr>\n",
       "\t<tr><td>100</td><td>2</td><td>0.05</td><td>0</td><td>25</td><td>0.66</td><td>0.8</td></tr>\n",
       "\t<tr><td>250</td><td>2</td><td>0.05</td><td>0</td><td>25</td><td>0.66</td><td>0.8</td></tr>\n",
       "\t<tr><td>100</td><td>4</td><td>0.05</td><td>0</td><td>25</td><td>0.66</td><td>0.8</td></tr>\n",
       "\t<tr><td>250</td><td>4</td><td>0.05</td><td>0</td><td>25</td><td>0.66</td><td>0.8</td></tr>\n",
       "\t<tr><td>100</td><td>2</td><td>0.01</td><td>1</td><td>25</td><td>0.66</td><td>0.8</td></tr>\n",
       "\t<tr><td>250</td><td>2</td><td>0.01</td><td>1</td><td>25</td><td>0.66</td><td>0.8</td></tr>\n",
       "\t<tr><td>100</td><td>4</td><td>0.01</td><td>1</td><td>25</td><td>0.66</td><td>0.8</td></tr>\n",
       "\t<tr><td>250</td><td>4</td><td>0.01</td><td>1</td><td>25</td><td>0.66</td><td>0.8</td></tr>\n",
       "\t<tr><td>100</td><td>2</td><td>0.05</td><td>1</td><td>25</td><td>0.66</td><td>0.8</td></tr>\n",
       "\t<tr><td>250</td><td>2</td><td>0.05</td><td>1</td><td>25</td><td>0.66</td><td>0.8</td></tr>\n",
       "\t<tr><td>100</td><td>4</td><td>0.05</td><td>1</td><td>25</td><td>0.66</td><td>0.8</td></tr>\n",
       "\t<tr><td>250</td><td>4</td><td>0.05</td><td>1</td><td>25</td><td>0.66</td><td>0.8</td></tr>\n",
       "</tbody>\n",
       "</table>\n"
      ],
      "text/latex": [
       "A data.frame: 128 × 7\n",
       "\\begin{tabular}{lllllll}\n",
       " nrounds & max\\_depth & eta & gamma & min\\_child\\_weight & colsample\\_bytree & subsample\\\\\n",
       " <dbl> & <dbl> & <dbl> & <dbl> & <dbl> & <dbl> & <dbl>\\\\\n",
       "\\hline\n",
       "\t 100 & 2 & 0.01 & 0 & 10 & 0.33 & 0.4\\\\\n",
       "\t 250 & 2 & 0.01 & 0 & 10 & 0.33 & 0.4\\\\\n",
       "\t 100 & 4 & 0.01 & 0 & 10 & 0.33 & 0.4\\\\\n",
       "\t 250 & 4 & 0.01 & 0 & 10 & 0.33 & 0.4\\\\\n",
       "\t 100 & 2 & 0.05 & 0 & 10 & 0.33 & 0.4\\\\\n",
       "\t 250 & 2 & 0.05 & 0 & 10 & 0.33 & 0.4\\\\\n",
       "\t 100 & 4 & 0.05 & 0 & 10 & 0.33 & 0.4\\\\\n",
       "\t 250 & 4 & 0.05 & 0 & 10 & 0.33 & 0.4\\\\\n",
       "\t 100 & 2 & 0.01 & 1 & 10 & 0.33 & 0.4\\\\\n",
       "\t 250 & 2 & 0.01 & 1 & 10 & 0.33 & 0.4\\\\\n",
       "\t 100 & 4 & 0.01 & 1 & 10 & 0.33 & 0.4\\\\\n",
       "\t 250 & 4 & 0.01 & 1 & 10 & 0.33 & 0.4\\\\\n",
       "\t 100 & 2 & 0.05 & 1 & 10 & 0.33 & 0.4\\\\\n",
       "\t 250 & 2 & 0.05 & 1 & 10 & 0.33 & 0.4\\\\\n",
       "\t 100 & 4 & 0.05 & 1 & 10 & 0.33 & 0.4\\\\\n",
       "\t 250 & 4 & 0.05 & 1 & 10 & 0.33 & 0.4\\\\\n",
       "\t 100 & 2 & 0.01 & 0 & 25 & 0.33 & 0.4\\\\\n",
       "\t 250 & 2 & 0.01 & 0 & 25 & 0.33 & 0.4\\\\\n",
       "\t 100 & 4 & 0.01 & 0 & 25 & 0.33 & 0.4\\\\\n",
       "\t 250 & 4 & 0.01 & 0 & 25 & 0.33 & 0.4\\\\\n",
       "\t 100 & 2 & 0.05 & 0 & 25 & 0.33 & 0.4\\\\\n",
       "\t 250 & 2 & 0.05 & 0 & 25 & 0.33 & 0.4\\\\\n",
       "\t 100 & 4 & 0.05 & 0 & 25 & 0.33 & 0.4\\\\\n",
       "\t 250 & 4 & 0.05 & 0 & 25 & 0.33 & 0.4\\\\\n",
       "\t 100 & 2 & 0.01 & 1 & 25 & 0.33 & 0.4\\\\\n",
       "\t 250 & 2 & 0.01 & 1 & 25 & 0.33 & 0.4\\\\\n",
       "\t 100 & 4 & 0.01 & 1 & 25 & 0.33 & 0.4\\\\\n",
       "\t 250 & 4 & 0.01 & 1 & 25 & 0.33 & 0.4\\\\\n",
       "\t 100 & 2 & 0.05 & 1 & 25 & 0.33 & 0.4\\\\\n",
       "\t 250 & 2 & 0.05 & 1 & 25 & 0.33 & 0.4\\\\\n",
       "\t ⋮ & ⋮ & ⋮ & ⋮ & ⋮ & ⋮ & ⋮\\\\\n",
       "\t 100 & 4 & 0.01 & 0 & 10 & 0.66 & 0.8\\\\\n",
       "\t 250 & 4 & 0.01 & 0 & 10 & 0.66 & 0.8\\\\\n",
       "\t 100 & 2 & 0.05 & 0 & 10 & 0.66 & 0.8\\\\\n",
       "\t 250 & 2 & 0.05 & 0 & 10 & 0.66 & 0.8\\\\\n",
       "\t 100 & 4 & 0.05 & 0 & 10 & 0.66 & 0.8\\\\\n",
       "\t 250 & 4 & 0.05 & 0 & 10 & 0.66 & 0.8\\\\\n",
       "\t 100 & 2 & 0.01 & 1 & 10 & 0.66 & 0.8\\\\\n",
       "\t 250 & 2 & 0.01 & 1 & 10 & 0.66 & 0.8\\\\\n",
       "\t 100 & 4 & 0.01 & 1 & 10 & 0.66 & 0.8\\\\\n",
       "\t 250 & 4 & 0.01 & 1 & 10 & 0.66 & 0.8\\\\\n",
       "\t 100 & 2 & 0.05 & 1 & 10 & 0.66 & 0.8\\\\\n",
       "\t 250 & 2 & 0.05 & 1 & 10 & 0.66 & 0.8\\\\\n",
       "\t 100 & 4 & 0.05 & 1 & 10 & 0.66 & 0.8\\\\\n",
       "\t 250 & 4 & 0.05 & 1 & 10 & 0.66 & 0.8\\\\\n",
       "\t 100 & 2 & 0.01 & 0 & 25 & 0.66 & 0.8\\\\\n",
       "\t 250 & 2 & 0.01 & 0 & 25 & 0.66 & 0.8\\\\\n",
       "\t 100 & 4 & 0.01 & 0 & 25 & 0.66 & 0.8\\\\\n",
       "\t 250 & 4 & 0.01 & 0 & 25 & 0.66 & 0.8\\\\\n",
       "\t 100 & 2 & 0.05 & 0 & 25 & 0.66 & 0.8\\\\\n",
       "\t 250 & 2 & 0.05 & 0 & 25 & 0.66 & 0.8\\\\\n",
       "\t 100 & 4 & 0.05 & 0 & 25 & 0.66 & 0.8\\\\\n",
       "\t 250 & 4 & 0.05 & 0 & 25 & 0.66 & 0.8\\\\\n",
       "\t 100 & 2 & 0.01 & 1 & 25 & 0.66 & 0.8\\\\\n",
       "\t 250 & 2 & 0.01 & 1 & 25 & 0.66 & 0.8\\\\\n",
       "\t 100 & 4 & 0.01 & 1 & 25 & 0.66 & 0.8\\\\\n",
       "\t 250 & 4 & 0.01 & 1 & 25 & 0.66 & 0.8\\\\\n",
       "\t 100 & 2 & 0.05 & 1 & 25 & 0.66 & 0.8\\\\\n",
       "\t 250 & 2 & 0.05 & 1 & 25 & 0.66 & 0.8\\\\\n",
       "\t 100 & 4 & 0.05 & 1 & 25 & 0.66 & 0.8\\\\\n",
       "\t 250 & 4 & 0.05 & 1 & 25 & 0.66 & 0.8\\\\\n",
       "\\end{tabular}\n"
      ],
      "text/markdown": [
       "\n",
       "A data.frame: 128 × 7\n",
       "\n",
       "| nrounds &lt;dbl&gt; | max_depth &lt;dbl&gt; | eta &lt;dbl&gt; | gamma &lt;dbl&gt; | min_child_weight &lt;dbl&gt; | colsample_bytree &lt;dbl&gt; | subsample &lt;dbl&gt; |\n",
       "|---|---|---|---|---|---|---|\n",
       "| 100 | 2 | 0.01 | 0 | 10 | 0.33 | 0.4 |\n",
       "| 250 | 2 | 0.01 | 0 | 10 | 0.33 | 0.4 |\n",
       "| 100 | 4 | 0.01 | 0 | 10 | 0.33 | 0.4 |\n",
       "| 250 | 4 | 0.01 | 0 | 10 | 0.33 | 0.4 |\n",
       "| 100 | 2 | 0.05 | 0 | 10 | 0.33 | 0.4 |\n",
       "| 250 | 2 | 0.05 | 0 | 10 | 0.33 | 0.4 |\n",
       "| 100 | 4 | 0.05 | 0 | 10 | 0.33 | 0.4 |\n",
       "| 250 | 4 | 0.05 | 0 | 10 | 0.33 | 0.4 |\n",
       "| 100 | 2 | 0.01 | 1 | 10 | 0.33 | 0.4 |\n",
       "| 250 | 2 | 0.01 | 1 | 10 | 0.33 | 0.4 |\n",
       "| 100 | 4 | 0.01 | 1 | 10 | 0.33 | 0.4 |\n",
       "| 250 | 4 | 0.01 | 1 | 10 | 0.33 | 0.4 |\n",
       "| 100 | 2 | 0.05 | 1 | 10 | 0.33 | 0.4 |\n",
       "| 250 | 2 | 0.05 | 1 | 10 | 0.33 | 0.4 |\n",
       "| 100 | 4 | 0.05 | 1 | 10 | 0.33 | 0.4 |\n",
       "| 250 | 4 | 0.05 | 1 | 10 | 0.33 | 0.4 |\n",
       "| 100 | 2 | 0.01 | 0 | 25 | 0.33 | 0.4 |\n",
       "| 250 | 2 | 0.01 | 0 | 25 | 0.33 | 0.4 |\n",
       "| 100 | 4 | 0.01 | 0 | 25 | 0.33 | 0.4 |\n",
       "| 250 | 4 | 0.01 | 0 | 25 | 0.33 | 0.4 |\n",
       "| 100 | 2 | 0.05 | 0 | 25 | 0.33 | 0.4 |\n",
       "| 250 | 2 | 0.05 | 0 | 25 | 0.33 | 0.4 |\n",
       "| 100 | 4 | 0.05 | 0 | 25 | 0.33 | 0.4 |\n",
       "| 250 | 4 | 0.05 | 0 | 25 | 0.33 | 0.4 |\n",
       "| 100 | 2 | 0.01 | 1 | 25 | 0.33 | 0.4 |\n",
       "| 250 | 2 | 0.01 | 1 | 25 | 0.33 | 0.4 |\n",
       "| 100 | 4 | 0.01 | 1 | 25 | 0.33 | 0.4 |\n",
       "| 250 | 4 | 0.01 | 1 | 25 | 0.33 | 0.4 |\n",
       "| 100 | 2 | 0.05 | 1 | 25 | 0.33 | 0.4 |\n",
       "| 250 | 2 | 0.05 | 1 | 25 | 0.33 | 0.4 |\n",
       "| ⋮ | ⋮ | ⋮ | ⋮ | ⋮ | ⋮ | ⋮ |\n",
       "| 100 | 4 | 0.01 | 0 | 10 | 0.66 | 0.8 |\n",
       "| 250 | 4 | 0.01 | 0 | 10 | 0.66 | 0.8 |\n",
       "| 100 | 2 | 0.05 | 0 | 10 | 0.66 | 0.8 |\n",
       "| 250 | 2 | 0.05 | 0 | 10 | 0.66 | 0.8 |\n",
       "| 100 | 4 | 0.05 | 0 | 10 | 0.66 | 0.8 |\n",
       "| 250 | 4 | 0.05 | 0 | 10 | 0.66 | 0.8 |\n",
       "| 100 | 2 | 0.01 | 1 | 10 | 0.66 | 0.8 |\n",
       "| 250 | 2 | 0.01 | 1 | 10 | 0.66 | 0.8 |\n",
       "| 100 | 4 | 0.01 | 1 | 10 | 0.66 | 0.8 |\n",
       "| 250 | 4 | 0.01 | 1 | 10 | 0.66 | 0.8 |\n",
       "| 100 | 2 | 0.05 | 1 | 10 | 0.66 | 0.8 |\n",
       "| 250 | 2 | 0.05 | 1 | 10 | 0.66 | 0.8 |\n",
       "| 100 | 4 | 0.05 | 1 | 10 | 0.66 | 0.8 |\n",
       "| 250 | 4 | 0.05 | 1 | 10 | 0.66 | 0.8 |\n",
       "| 100 | 2 | 0.01 | 0 | 25 | 0.66 | 0.8 |\n",
       "| 250 | 2 | 0.01 | 0 | 25 | 0.66 | 0.8 |\n",
       "| 100 | 4 | 0.01 | 0 | 25 | 0.66 | 0.8 |\n",
       "| 250 | 4 | 0.01 | 0 | 25 | 0.66 | 0.8 |\n",
       "| 100 | 2 | 0.05 | 0 | 25 | 0.66 | 0.8 |\n",
       "| 250 | 2 | 0.05 | 0 | 25 | 0.66 | 0.8 |\n",
       "| 100 | 4 | 0.05 | 0 | 25 | 0.66 | 0.8 |\n",
       "| 250 | 4 | 0.05 | 0 | 25 | 0.66 | 0.8 |\n",
       "| 100 | 2 | 0.01 | 1 | 25 | 0.66 | 0.8 |\n",
       "| 250 | 2 | 0.01 | 1 | 25 | 0.66 | 0.8 |\n",
       "| 100 | 4 | 0.01 | 1 | 25 | 0.66 | 0.8 |\n",
       "| 250 | 4 | 0.01 | 1 | 25 | 0.66 | 0.8 |\n",
       "| 100 | 2 | 0.05 | 1 | 25 | 0.66 | 0.8 |\n",
       "| 250 | 2 | 0.05 | 1 | 25 | 0.66 | 0.8 |\n",
       "| 100 | 4 | 0.05 | 1 | 25 | 0.66 | 0.8 |\n",
       "| 250 | 4 | 0.05 | 1 | 25 | 0.66 | 0.8 |\n",
       "\n"
      ],
      "text/plain": [
       "    nrounds max_depth eta  gamma min_child_weight colsample_bytree subsample\n",
       "1   100     2         0.01 0     10               0.33             0.4      \n",
       "2   250     2         0.01 0     10               0.33             0.4      \n",
       "3   100     4         0.01 0     10               0.33             0.4      \n",
       "4   250     4         0.01 0     10               0.33             0.4      \n",
       "5   100     2         0.05 0     10               0.33             0.4      \n",
       "6   250     2         0.05 0     10               0.33             0.4      \n",
       "7   100     4         0.05 0     10               0.33             0.4      \n",
       "8   250     4         0.05 0     10               0.33             0.4      \n",
       "9   100     2         0.01 1     10               0.33             0.4      \n",
       "10  250     2         0.01 1     10               0.33             0.4      \n",
       "11  100     4         0.01 1     10               0.33             0.4      \n",
       "12  250     4         0.01 1     10               0.33             0.4      \n",
       "13  100     2         0.05 1     10               0.33             0.4      \n",
       "14  250     2         0.05 1     10               0.33             0.4      \n",
       "15  100     4         0.05 1     10               0.33             0.4      \n",
       "16  250     4         0.05 1     10               0.33             0.4      \n",
       "17  100     2         0.01 0     25               0.33             0.4      \n",
       "18  250     2         0.01 0     25               0.33             0.4      \n",
       "19  100     4         0.01 0     25               0.33             0.4      \n",
       "20  250     4         0.01 0     25               0.33             0.4      \n",
       "21  100     2         0.05 0     25               0.33             0.4      \n",
       "22  250     2         0.05 0     25               0.33             0.4      \n",
       "23  100     4         0.05 0     25               0.33             0.4      \n",
       "24  250     4         0.05 0     25               0.33             0.4      \n",
       "25  100     2         0.01 1     25               0.33             0.4      \n",
       "26  250     2         0.01 1     25               0.33             0.4      \n",
       "27  100     4         0.01 1     25               0.33             0.4      \n",
       "28  250     4         0.01 1     25               0.33             0.4      \n",
       "29  100     2         0.05 1     25               0.33             0.4      \n",
       "30  250     2         0.05 1     25               0.33             0.4      \n",
       "⋮   ⋮       ⋮         ⋮    ⋮     ⋮                ⋮                ⋮        \n",
       "99  100     4         0.01 0     10               0.66             0.8      \n",
       "100 250     4         0.01 0     10               0.66             0.8      \n",
       "101 100     2         0.05 0     10               0.66             0.8      \n",
       "102 250     2         0.05 0     10               0.66             0.8      \n",
       "103 100     4         0.05 0     10               0.66             0.8      \n",
       "104 250     4         0.05 0     10               0.66             0.8      \n",
       "105 100     2         0.01 1     10               0.66             0.8      \n",
       "106 250     2         0.01 1     10               0.66             0.8      \n",
       "107 100     4         0.01 1     10               0.66             0.8      \n",
       "108 250     4         0.01 1     10               0.66             0.8      \n",
       "109 100     2         0.05 1     10               0.66             0.8      \n",
       "110 250     2         0.05 1     10               0.66             0.8      \n",
       "111 100     4         0.05 1     10               0.66             0.8      \n",
       "112 250     4         0.05 1     10               0.66             0.8      \n",
       "113 100     2         0.01 0     25               0.66             0.8      \n",
       "114 250     2         0.01 0     25               0.66             0.8      \n",
       "115 100     4         0.01 0     25               0.66             0.8      \n",
       "116 250     4         0.01 0     25               0.66             0.8      \n",
       "117 100     2         0.05 0     25               0.66             0.8      \n",
       "118 250     2         0.05 0     25               0.66             0.8      \n",
       "119 100     4         0.05 0     25               0.66             0.8      \n",
       "120 250     4         0.05 0     25               0.66             0.8      \n",
       "121 100     2         0.01 1     25               0.66             0.8      \n",
       "122 250     2         0.01 1     25               0.66             0.8      \n",
       "123 100     4         0.01 1     25               0.66             0.8      \n",
       "124 250     4         0.01 1     25               0.66             0.8      \n",
       "125 100     2         0.05 1     25               0.66             0.8      \n",
       "126 250     2         0.05 1     25               0.66             0.8      \n",
       "127 100     4         0.05 1     25               0.66             0.8      \n",
       "128 250     4         0.05 1     25               0.66             0.8      "
      ]
     },
     "metadata": {},
     "output_type": "display_data"
    }
   ],
   "source": [
    "grid_xbgoost <- expand.grid(nrounds = c(100,250),\n",
    "                            max_depth = c(2,4), \n",
    "                            eta = c(0.01,0.05), \n",
    "                            gamma = c(0,1), \n",
    "                            min_child_weight = c(10, 25),\n",
    "                            colsample_bytree = c(0.33,0.66),\n",
    "                            subsample = c(0.4,0.8))\n",
    "\n",
    "grid_xbgoost"
   ]
  },
  {
   "cell_type": "code",
   "execution_count": 33,
   "id": "9c8cb7b5",
   "metadata": {
    "vscode": {
     "languageId": "r"
    }
   },
   "outputs": [
    {
     "name": "stdout",
     "output_type": "stream",
     "text": [
      "[20:33:03] WARNING: src/c_api/c_api.cc:935: `ntree_limit` is deprecated, use `iteration_range` instead.\n",
      "[20:33:04] WARNING: src/c_api/c_api.cc:935: `ntree_limit` is deprecated, use `iteration_range` instead.\n",
      "[20:33:05] WARNING: src/c_api/c_api.cc:935: `ntree_limit` is deprecated, use `iteration_range` instead.\n",
      "[20:33:07] WARNING: src/c_api/c_api.cc:935: `ntree_limit` is deprecated, use `iteration_range` instead.\n",
      "[20:33:09] WARNING: src/c_api/c_api.cc:935: `ntree_limit` is deprecated, use `iteration_range` instead.\n",
      "[20:33:11] WARNING: src/c_api/c_api.cc:935: `ntree_limit` is deprecated, use `iteration_range` instead.\n",
      "[20:33:13] WARNING: src/c_api/c_api.cc:935: `ntree_limit` is deprecated, use `iteration_range` instead.\n",
      "[20:33:16] WARNING: src/c_api/c_api.cc:935: `ntree_limit` is deprecated, use `iteration_range` instead.\n",
      "[20:33:17] WARNING: src/c_api/c_api.cc:935: `ntree_limit` is deprecated, use `iteration_range` instead.\n",
      "[20:33:19] WARNING: src/c_api/c_api.cc:935: `ntree_limit` is deprecated, use `iteration_range` instead.\n",
      "[20:33:20] WARNING: src/c_api/c_api.cc:935: `ntree_limit` is deprecated, use `iteration_range` instead.\n",
      "[20:33:22] WARNING: src/c_api/c_api.cc:935: `ntree_limit` is deprecated, use `iteration_range` instead.\n",
      "[20:33:24] WARNING: src/c_api/c_api.cc:935: `ntree_limit` is deprecated, use `iteration_range` instead.\n",
      "[20:33:26] WARNING: src/c_api/c_api.cc:935: `ntree_limit` is deprecated, use `iteration_range` instead.\n",
      "[20:33:28] WARNING: src/c_api/c_api.cc:935: `ntree_limit` is deprecated, use `iteration_range` instead.\n",
      "[20:33:31] WARNING: src/c_api/c_api.cc:935: `ntree_limit` is deprecated, use `iteration_range` instead.\n",
      "[20:33:33] WARNING: src/c_api/c_api.cc:935: `ntree_limit` is deprecated, use `iteration_range` instead.\n",
      "[20:33:35] WARNING: src/c_api/c_api.cc:935: `ntree_limit` is deprecated, use `iteration_range` instead.\n",
      "[20:33:37] WARNING: src/c_api/c_api.cc:935: `ntree_limit` is deprecated, use `iteration_range` instead.\n",
      "[20:33:40] WARNING: src/c_api/c_api.cc:935: `ntree_limit` is deprecated, use `iteration_range` instead.\n",
      "[20:33:43] WARNING: src/c_api/c_api.cc:935: `ntree_limit` is deprecated, use `iteration_range` instead.\n",
      "[20:33:47] WARNING: src/c_api/c_api.cc:935: `ntree_limit` is deprecated, use `iteration_range` instead.\n",
      "[20:33:49] WARNING: src/c_api/c_api.cc:935: `ntree_limit` is deprecated, use `iteration_range` instead.\n",
      "[20:33:54] WARNING: src/c_api/c_api.cc:935: `ntree_limit` is deprecated, use `iteration_range` instead.\n",
      "[20:33:55] WARNING: src/c_api/c_api.cc:935: `ntree_limit` is deprecated, use `iteration_range` instead.\n",
      "[20:33:57] WARNING: src/c_api/c_api.cc:935: `ntree_limit` is deprecated, use `iteration_range` instead.\n",
      "[20:33:59] WARNING: src/c_api/c_api.cc:935: `ntree_limit` is deprecated, use `iteration_range` instead.\n",
      "[20:34:01] WARNING: src/c_api/c_api.cc:935: `ntree_limit` is deprecated, use `iteration_range` instead.\n",
      "[20:34:03] WARNING: src/c_api/c_api.cc:935: `ntree_limit` is deprecated, use `iteration_range` instead.\n",
      "[20:34:07] WARNING: src/c_api/c_api.cc:935: `ntree_limit` is deprecated, use `iteration_range` instead.\n",
      "[20:34:09] WARNING: src/c_api/c_api.cc:935: `ntree_limit` is deprecated, use `iteration_range` instead.\n",
      "[20:34:13] WARNING: src/c_api/c_api.cc:935: `ntree_limit` is deprecated, use `iteration_range` instead.\n",
      "[20:34:14] WARNING: src/c_api/c_api.cc:935: `ntree_limit` is deprecated, use `iteration_range` instead.\n",
      "[20:34:16] WARNING: src/c_api/c_api.cc:935: `ntree_limit` is deprecated, use `iteration_range` instead.\n",
      "[20:34:17] WARNING: src/c_api/c_api.cc:935: `ntree_limit` is deprecated, use `iteration_range` instead.\n",
      "[20:34:19] WARNING: src/c_api/c_api.cc:935: `ntree_limit` is deprecated, use `iteration_range` instead.\n",
      "[20:34:21] WARNING: src/c_api/c_api.cc:935: `ntree_limit` is deprecated, use `iteration_range` instead.\n",
      "[20:34:23] WARNING: src/c_api/c_api.cc:935: `ntree_limit` is deprecated, use `iteration_range` instead.\n",
      "[20:34:25] WARNING: src/c_api/c_api.cc:935: `ntree_limit` is deprecated, use `iteration_range` instead.\n",
      "[20:34:28] WARNING: src/c_api/c_api.cc:935: `ntree_limit` is deprecated, use `iteration_range` instead.\n",
      "[20:34:29] WARNING: src/c_api/c_api.cc:935: `ntree_limit` is deprecated, use `iteration_range` instead.\n",
      "[20:34:31] WARNING: src/c_api/c_api.cc:935: `ntree_limit` is deprecated, use `iteration_range` instead.\n",
      "[20:34:32] WARNING: src/c_api/c_api.cc:935: `ntree_limit` is deprecated, use `iteration_range` instead.\n",
      "[20:34:34] WARNING: src/c_api/c_api.cc:935: `ntree_limit` is deprecated, use `iteration_range` instead.\n",
      "[20:34:36] WARNING: src/c_api/c_api.cc:935: `ntree_limit` is deprecated, use `iteration_range` instead.\n",
      "[20:34:39] WARNING: src/c_api/c_api.cc:935: `ntree_limit` is deprecated, use `iteration_range` instead.\n",
      "[20:34:41] WARNING: src/c_api/c_api.cc:935: `ntree_limit` is deprecated, use `iteration_range` instead.\n",
      "[20:34:43] WARNING: src/c_api/c_api.cc:935: `ntree_limit` is deprecated, use `iteration_range` instead.\n",
      "[20:34:45] WARNING: src/c_api/c_api.cc:935: `ntree_limit` is deprecated, use `iteration_range` instead.\n",
      "[20:34:48] WARNING: src/c_api/c_api.cc:935: `ntree_limit` is deprecated, use `iteration_range` instead.\n",
      "[20:34:50] WARNING: src/c_api/c_api.cc:935: `ntree_limit` is deprecated, use `iteration_range` instead.\n",
      "[20:34:53] WARNING: src/c_api/c_api.cc:935: `ntree_limit` is deprecated, use `iteration_range` instead.\n",
      "[20:34:57] WARNING: src/c_api/c_api.cc:935: `ntree_limit` is deprecated, use `iteration_range` instead.\n",
      "[20:35:01] WARNING: src/c_api/c_api.cc:935: `ntree_limit` is deprecated, use `iteration_range` instead.\n",
      "[20:35:06] WARNING: src/c_api/c_api.cc:935: `ntree_limit` is deprecated, use `iteration_range` instead.\n",
      "[20:35:11] WARNING: src/c_api/c_api.cc:935: `ntree_limit` is deprecated, use `iteration_range` instead.\n",
      "[20:35:15] WARNING: src/c_api/c_api.cc:935: `ntree_limit` is deprecated, use `iteration_range` instead.\n",
      "[20:35:19] WARNING: src/c_api/c_api.cc:935: `ntree_limit` is deprecated, use `iteration_range` instead.\n",
      "[20:35:21] WARNING: src/c_api/c_api.cc:935: `ntree_limit` is deprecated, use `iteration_range` instead.\n",
      "[20:35:24] WARNING: src/c_api/c_api.cc:935: `ntree_limit` is deprecated, use `iteration_range` instead.\n",
      "[20:35:28] WARNING: src/c_api/c_api.cc:935: `ntree_limit` is deprecated, use `iteration_range` instead.\n",
      "[20:35:33] WARNING: src/c_api/c_api.cc:935: `ntree_limit` is deprecated, use `iteration_range` instead.\n",
      "[20:35:37] WARNING: src/c_api/c_api.cc:935: `ntree_limit` is deprecated, use `iteration_range` instead.\n",
      "[20:35:41] WARNING: src/c_api/c_api.cc:935: `ntree_limit` is deprecated, use `iteration_range` instead.\n",
      "[20:35:42] WARNING: src/c_api/c_api.cc:935: `ntree_limit` is deprecated, use `iteration_range` instead.\n",
      "[20:35:43] WARNING: src/c_api/c_api.cc:935: `ntree_limit` is deprecated, use `iteration_range` instead.\n",
      "[20:35:45] WARNING: src/c_api/c_api.cc:935: `ntree_limit` is deprecated, use `iteration_range` instead.\n",
      "[20:35:46] WARNING: src/c_api/c_api.cc:935: `ntree_limit` is deprecated, use `iteration_range` instead.\n",
      "[20:35:48] WARNING: src/c_api/c_api.cc:935: `ntree_limit` is deprecated, use `iteration_range` instead.\n",
      "[20:35:50] WARNING: src/c_api/c_api.cc:935: `ntree_limit` is deprecated, use `iteration_range` instead.\n",
      "[20:35:52] WARNING: src/c_api/c_api.cc:935: `ntree_limit` is deprecated, use `iteration_range` instead.\n",
      "[20:35:54] WARNING: src/c_api/c_api.cc:935: `ntree_limit` is deprecated, use `iteration_range` instead.\n",
      "[20:35:56] WARNING: src/c_api/c_api.cc:935: `ntree_limit` is deprecated, use `iteration_range` instead.\n",
      "[20:35:57] WARNING: src/c_api/c_api.cc:935: `ntree_limit` is deprecated, use `iteration_range` instead.\n",
      "[20:35:58] WARNING: src/c_api/c_api.cc:935: `ntree_limit` is deprecated, use `iteration_range` instead.\n",
      "[20:35:59] WARNING: src/c_api/c_api.cc:935: `ntree_limit` is deprecated, use `iteration_range` instead.\n",
      "[20:36:01] WARNING: src/c_api/c_api.cc:935: `ntree_limit` is deprecated, use `iteration_range` instead.\n",
      "[20:36:04] WARNING: src/c_api/c_api.cc:935: `ntree_limit` is deprecated, use `iteration_range` instead.\n",
      "[20:36:06] WARNING: src/c_api/c_api.cc:935: `ntree_limit` is deprecated, use `iteration_range` instead.\n",
      "[20:36:08] WARNING: src/c_api/c_api.cc:935: `ntree_limit` is deprecated, use `iteration_range` instead.\n",
      "[20:36:09] WARNING: src/c_api/c_api.cc:935: `ntree_limit` is deprecated, use `iteration_range` instead.\n",
      "[20:36:11] WARNING: src/c_api/c_api.cc:935: `ntree_limit` is deprecated, use `iteration_range` instead.\n",
      "[20:36:12] WARNING: src/c_api/c_api.cc:935: `ntree_limit` is deprecated, use `iteration_range` instead.\n",
      "[20:36:14] WARNING: src/c_api/c_api.cc:935: `ntree_limit` is deprecated, use `iteration_range` instead.\n",
      "[20:36:17] WARNING: src/c_api/c_api.cc:935: `ntree_limit` is deprecated, use `iteration_range` instead.\n",
      "[20:36:20] WARNING: src/c_api/c_api.cc:935: `ntree_limit` is deprecated, use `iteration_range` instead.\n",
      "[20:36:22] WARNING: src/c_api/c_api.cc:935: `ntree_limit` is deprecated, use `iteration_range` instead.\n",
      "[20:36:26] WARNING: src/c_api/c_api.cc:935: `ntree_limit` is deprecated, use `iteration_range` instead.\n",
      "[20:36:27] WARNING: src/c_api/c_api.cc:935: `ntree_limit` is deprecated, use `iteration_range` instead.\n",
      "[20:36:29] WARNING: src/c_api/c_api.cc:935: `ntree_limit` is deprecated, use `iteration_range` instead.\n",
      "[20:36:30] WARNING: src/c_api/c_api.cc:935: `ntree_limit` is deprecated, use `iteration_range` instead.\n",
      "[20:36:33] WARNING: src/c_api/c_api.cc:935: `ntree_limit` is deprecated, use `iteration_range` instead.\n",
      "[20:36:35] WARNING: src/c_api/c_api.cc:935: `ntree_limit` is deprecated, use `iteration_range` instead.\n",
      "[20:36:39] WARNING: src/c_api/c_api.cc:935: `ntree_limit` is deprecated, use `iteration_range` instead.\n",
      "[20:36:41] WARNING: src/c_api/c_api.cc:935: `ntree_limit` is deprecated, use `iteration_range` instead.\n",
      "[20:36:45] WARNING: src/c_api/c_api.cc:935: `ntree_limit` is deprecated, use `iteration_range` instead.\n",
      "[20:36:46] WARNING: src/c_api/c_api.cc:935: `ntree_limit` is deprecated, use `iteration_range` instead.\n",
      "[20:36:47] WARNING: src/c_api/c_api.cc:935: `ntree_limit` is deprecated, use `iteration_range` instead.\n",
      "[20:36:48] WARNING: src/c_api/c_api.cc:935: `ntree_limit` is deprecated, use `iteration_range` instead.\n",
      "[20:36:50] WARNING: src/c_api/c_api.cc:935: `ntree_limit` is deprecated, use `iteration_range` instead.\n",
      "[20:36:52] WARNING: src/c_api/c_api.cc:935: `ntree_limit` is deprecated, use `iteration_range` instead.\n",
      "[20:36:54] WARNING: src/c_api/c_api.cc:935: `ntree_limit` is deprecated, use `iteration_range` instead.\n",
      "[20:36:56] WARNING: src/c_api/c_api.cc:935: `ntree_limit` is deprecated, use `iteration_range` instead.\n",
      "[20:36:58] WARNING: src/c_api/c_api.cc:935: `ntree_limit` is deprecated, use `iteration_range` instead.\n",
      "[20:36:59] WARNING: src/c_api/c_api.cc:935: `ntree_limit` is deprecated, use `iteration_range` instead.\n",
      "[20:37:01] WARNING: src/c_api/c_api.cc:935: `ntree_limit` is deprecated, use `iteration_range` instead.\n",
      "[20:37:02] WARNING: src/c_api/c_api.cc:935: `ntree_limit` is deprecated, use `iteration_range` instead.\n",
      "[20:37:03] WARNING: src/c_api/c_api.cc:935: `ntree_limit` is deprecated, use `iteration_range` instead.\n",
      "[20:37:05] WARNING: src/c_api/c_api.cc:935: `ntree_limit` is deprecated, use `iteration_range` instead.\n",
      "[20:37:07] WARNING: src/c_api/c_api.cc:935: `ntree_limit` is deprecated, use `iteration_range` instead.\n",
      "[20:37:09] WARNING: src/c_api/c_api.cc:935: `ntree_limit` is deprecated, use `iteration_range` instead.\n",
      "[20:37:11] WARNING: src/c_api/c_api.cc:935: `ntree_limit` is deprecated, use `iteration_range` instead.\n",
      "[20:37:13] WARNING: src/c_api/c_api.cc:935: `ntree_limit` is deprecated, use `iteration_range` instead.\n",
      "[20:37:15] WARNING: src/c_api/c_api.cc:935: `ntree_limit` is deprecated, use `iteration_range` instead.\n",
      "[20:37:17] WARNING: src/c_api/c_api.cc:935: `ntree_limit` is deprecated, use `iteration_range` instead.\n",
      "[20:37:19] WARNING: src/c_api/c_api.cc:935: `ntree_limit` is deprecated, use `iteration_range` instead.\n",
      "[20:37:23] WARNING: src/c_api/c_api.cc:935: `ntree_limit` is deprecated, use `iteration_range` instead.\n",
      "[20:37:27] WARNING: src/c_api/c_api.cc:935: `ntree_limit` is deprecated, use `iteration_range` instead.\n",
      "[20:37:30] WARNING: src/c_api/c_api.cc:935: `ntree_limit` is deprecated, use `iteration_range` instead.\n",
      "[20:37:34] WARNING: src/c_api/c_api.cc:935: `ntree_limit` is deprecated, use `iteration_range` instead.\n",
      "[20:37:36] WARNING: src/c_api/c_api.cc:935: `ntree_limit` is deprecated, use `iteration_range` instead.\n",
      "[20:37:38] WARNING: src/c_api/c_api.cc:935: `ntree_limit` is deprecated, use `iteration_range` instead.\n",
      "[20:37:39] WARNING: src/c_api/c_api.cc:935: `ntree_limit` is deprecated, use `iteration_range` instead.\n",
      "[20:37:42] WARNING: src/c_api/c_api.cc:935: `ntree_limit` is deprecated, use `iteration_range` instead.\n",
      "[20:37:45] WARNING: src/c_api/c_api.cc:935: `ntree_limit` is deprecated, use `iteration_range` instead.\n",
      "[20:37:49] WARNING: src/c_api/c_api.cc:935: `ntree_limit` is deprecated, use `iteration_range` instead.\n",
      "[20:37:52] WARNING: src/c_api/c_api.cc:935: `ntree_limit` is deprecated, use `iteration_range` instead.\n",
      "[20:37:56] WARNING: src/c_api/c_api.cc:935: `ntree_limit` is deprecated, use `iteration_range` instead.\n",
      "[20:37:57] WARNING: src/c_api/c_api.cc:935: `ntree_limit` is deprecated, use `iteration_range` instead.\n",
      "[20:37:58] WARNING: src/c_api/c_api.cc:935: `ntree_limit` is deprecated, use `iteration_range` instead.\n",
      "[20:37:59] WARNING: src/c_api/c_api.cc:935: `ntree_limit` is deprecated, use `iteration_range` instead.\n",
      "[20:38:00] WARNING: src/c_api/c_api.cc:935: `ntree_limit` is deprecated, use `iteration_range` instead.\n",
      "[20:38:02] WARNING: src/c_api/c_api.cc:935: `ntree_limit` is deprecated, use `iteration_range` instead.\n",
      "[20:38:04] WARNING: src/c_api/c_api.cc:935: `ntree_limit` is deprecated, use `iteration_range` instead.\n",
      "[20:38:06] WARNING: src/c_api/c_api.cc:935: `ntree_limit` is deprecated, use `iteration_range` instead.\n",
      "[20:38:08] WARNING: src/c_api/c_api.cc:935: `ntree_limit` is deprecated, use `iteration_range` instead.\n",
      "[20:38:10] WARNING: src/c_api/c_api.cc:935: `ntree_limit` is deprecated, use `iteration_range` instead.\n",
      "[20:38:11] WARNING: src/c_api/c_api.cc:935: `ntree_limit` is deprecated, use `iteration_range` instead.\n",
      "[20:38:12] WARNING: src/c_api/c_api.cc:935: `ntree_limit` is deprecated, use `iteration_range` instead.\n",
      "[20:38:13] WARNING: src/c_api/c_api.cc:935: `ntree_limit` is deprecated, use `iteration_range` instead.\n",
      "[20:38:15] WARNING: src/c_api/c_api.cc:935: `ntree_limit` is deprecated, use `iteration_range` instead.\n",
      "[20:38:17] WARNING: src/c_api/c_api.cc:935: `ntree_limit` is deprecated, use `iteration_range` instead.\n",
      "[20:38:19] WARNING: src/c_api/c_api.cc:935: `ntree_limit` is deprecated, use `iteration_range` instead.\n",
      "[20:38:21] WARNING: src/c_api/c_api.cc:935: `ntree_limit` is deprecated, use `iteration_range` instead.\n",
      "[20:38:22] WARNING: src/c_api/c_api.cc:935: `ntree_limit` is deprecated, use `iteration_range` instead.\n",
      "[20:38:24] WARNING: src/c_api/c_api.cc:935: `ntree_limit` is deprecated, use `iteration_range` instead.\n",
      "[20:38:25] WARNING: src/c_api/c_api.cc:935: `ntree_limit` is deprecated, use `iteration_range` instead.\n",
      "[20:38:27] WARNING: src/c_api/c_api.cc:935: `ntree_limit` is deprecated, use `iteration_range` instead.\n",
      "[20:38:29] WARNING: src/c_api/c_api.cc:935: `ntree_limit` is deprecated, use `iteration_range` instead.\n",
      "[20:38:32] WARNING: src/c_api/c_api.cc:935: `ntree_limit` is deprecated, use `iteration_range` instead.\n",
      "[20:38:34] WARNING: src/c_api/c_api.cc:935: `ntree_limit` is deprecated, use `iteration_range` instead.\n",
      "[20:38:38] WARNING: src/c_api/c_api.cc:935: `ntree_limit` is deprecated, use `iteration_range` instead.\n",
      "[20:38:39] WARNING: src/c_api/c_api.cc:935: `ntree_limit` is deprecated, use `iteration_range` instead.\n",
      "[20:38:41] WARNING: src/c_api/c_api.cc:935: `ntree_limit` is deprecated, use `iteration_range` instead.\n",
      "[20:38:42] WARNING: src/c_api/c_api.cc:935: `ntree_limit` is deprecated, use `iteration_range` instead.\n",
      "[20:38:44] WARNING: src/c_api/c_api.cc:935: `ntree_limit` is deprecated, use `iteration_range` instead.\n",
      "[20:38:47] WARNING: src/c_api/c_api.cc:935: `ntree_limit` is deprecated, use `iteration_range` instead.\n",
      "[20:38:50] WARNING: src/c_api/c_api.cc:935: `ntree_limit` is deprecated, use `iteration_range` instead.\n",
      "[20:38:52] WARNING: src/c_api/c_api.cc:935: `ntree_limit` is deprecated, use `iteration_range` instead.\n",
      "[20:38:55] WARNING: src/c_api/c_api.cc:935: `ntree_limit` is deprecated, use `iteration_range` instead.\n",
      "[20:38:57] WARNING: src/c_api/c_api.cc:935: `ntree_limit` is deprecated, use `iteration_range` instead.\n",
      "[20:38:58] WARNING: src/c_api/c_api.cc:935: `ntree_limit` is deprecated, use `iteration_range` instead.\n",
      "[20:38:59] WARNING: src/c_api/c_api.cc:935: `ntree_limit` is deprecated, use `iteration_range` instead.\n",
      "[20:39:01] WARNING: src/c_api/c_api.cc:935: `ntree_limit` is deprecated, use `iteration_range` instead.\n",
      "[20:39:03] WARNING: src/c_api/c_api.cc:935: `ntree_limit` is deprecated, use `iteration_range` instead.\n",
      "[20:39:05] WARNING: src/c_api/c_api.cc:935: `ntree_limit` is deprecated, use `iteration_range` instead.\n",
      "[20:39:07] WARNING: src/c_api/c_api.cc:935: `ntree_limit` is deprecated, use `iteration_range` instead.\n",
      "[20:39:10] WARNING: src/c_api/c_api.cc:935: `ntree_limit` is deprecated, use `iteration_range` instead.\n",
      "[20:39:11] WARNING: src/c_api/c_api.cc:935: `ntree_limit` is deprecated, use `iteration_range` instead.\n",
      "[20:39:12] WARNING: src/c_api/c_api.cc:935: `ntree_limit` is deprecated, use `iteration_range` instead.\n",
      "[20:39:14] WARNING: src/c_api/c_api.cc:935: `ntree_limit` is deprecated, use `iteration_range` instead.\n",
      "[20:39:15] WARNING: src/c_api/c_api.cc:935: `ntree_limit` is deprecated, use `iteration_range` instead.\n",
      "[20:39:17] WARNING: src/c_api/c_api.cc:935: `ntree_limit` is deprecated, use `iteration_range` instead.\n",
      "[20:39:19] WARNING: src/c_api/c_api.cc:935: `ntree_limit` is deprecated, use `iteration_range` instead.\n",
      "[20:39:21] WARNING: src/c_api/c_api.cc:935: `ntree_limit` is deprecated, use `iteration_range` instead.\n",
      "[20:39:24] WARNING: src/c_api/c_api.cc:935: `ntree_limit` is deprecated, use `iteration_range` instead.\n",
      "[20:39:26] WARNING: src/c_api/c_api.cc:935: `ntree_limit` is deprecated, use `iteration_range` instead.\n",
      "[20:39:28] WARNING: src/c_api/c_api.cc:935: `ntree_limit` is deprecated, use `iteration_range` instead.\n",
      "[20:39:30] WARNING: src/c_api/c_api.cc:935: `ntree_limit` is deprecated, use `iteration_range` instead.\n",
      "[20:39:33] WARNING: src/c_api/c_api.cc:935: `ntree_limit` is deprecated, use `iteration_range` instead.\n",
      "[20:39:36] WARNING: src/c_api/c_api.cc:935: `ntree_limit` is deprecated, use `iteration_range` instead.\n",
      "[20:39:40] WARNING: src/c_api/c_api.cc:935: `ntree_limit` is deprecated, use `iteration_range` instead.\n",
      "[20:39:44] WARNING: src/c_api/c_api.cc:935: `ntree_limit` is deprecated, use `iteration_range` instead.\n",
      "[20:39:48] WARNING: src/c_api/c_api.cc:935: `ntree_limit` is deprecated, use `iteration_range` instead.\n",
      "[20:39:50] WARNING: src/c_api/c_api.cc:935: `ntree_limit` is deprecated, use `iteration_range` instead.\n",
      "[20:39:53] WARNING: src/c_api/c_api.cc:935: `ntree_limit` is deprecated, use `iteration_range` instead.\n",
      "[20:39:55] WARNING: src/c_api/c_api.cc:935: `ntree_limit` is deprecated, use `iteration_range` instead.\n",
      "[20:39:57] WARNING: src/c_api/c_api.cc:935: `ntree_limit` is deprecated, use `iteration_range` instead.\n",
      "[20:40:01] WARNING: src/c_api/c_api.cc:935: `ntree_limit` is deprecated, use `iteration_range` instead.\n",
      "[20:40:06] WARNING: src/c_api/c_api.cc:935: `ntree_limit` is deprecated, use `iteration_range` instead.\n",
      "[20:40:09] WARNING: src/c_api/c_api.cc:935: `ntree_limit` is deprecated, use `iteration_range` instead.\n",
      "[20:40:13] WARNING: src/c_api/c_api.cc:935: `ntree_limit` is deprecated, use `iteration_range` instead.\n",
      "[20:40:15] WARNING: src/c_api/c_api.cc:935: `ntree_limit` is deprecated, use `iteration_range` instead.\n",
      "[20:40:16] WARNING: src/c_api/c_api.cc:935: `ntree_limit` is deprecated, use `iteration_range` instead.\n",
      "[20:40:17] WARNING: src/c_api/c_api.cc:935: `ntree_limit` is deprecated, use `iteration_range` instead.\n",
      "[20:40:18] WARNING: src/c_api/c_api.cc:935: `ntree_limit` is deprecated, use `iteration_range` instead.\n",
      "[20:40:20] WARNING: src/c_api/c_api.cc:935: `ntree_limit` is deprecated, use `iteration_range` instead.\n",
      "[20:40:23] WARNING: src/c_api/c_api.cc:935: `ntree_limit` is deprecated, use `iteration_range` instead.\n",
      "[20:40:25] WARNING: src/c_api/c_api.cc:935: `ntree_limit` is deprecated, use `iteration_range` instead.\n",
      "[20:40:27] WARNING: src/c_api/c_api.cc:935: `ntree_limit` is deprecated, use `iteration_range` instead.\n",
      "[20:40:28] WARNING: src/c_api/c_api.cc:935: `ntree_limit` is deprecated, use `iteration_range` instead.\n",
      "[20:40:30] WARNING: src/c_api/c_api.cc:935: `ntree_limit` is deprecated, use `iteration_range` instead.\n",
      "[20:40:31] WARNING: src/c_api/c_api.cc:935: `ntree_limit` is deprecated, use `iteration_range` instead.\n",
      "[20:40:32] WARNING: src/c_api/c_api.cc:935: `ntree_limit` is deprecated, use `iteration_range` instead.\n",
      "[20:40:34] WARNING: src/c_api/c_api.cc:935: `ntree_limit` is deprecated, use `iteration_range` instead.\n",
      "[20:40:37] WARNING: src/c_api/c_api.cc:935: `ntree_limit` is deprecated, use `iteration_range` instead.\n",
      "[20:40:39] WARNING: src/c_api/c_api.cc:935: `ntree_limit` is deprecated, use `iteration_range` instead.\n",
      "[20:40:42] WARNING: src/c_api/c_api.cc:935: `ntree_limit` is deprecated, use `iteration_range` instead.\n",
      "[20:40:43] WARNING: src/c_api/c_api.cc:935: `ntree_limit` is deprecated, use `iteration_range` instead.\n",
      "[20:40:45] WARNING: src/c_api/c_api.cc:935: `ntree_limit` is deprecated, use `iteration_range` instead.\n",
      "[20:40:46] WARNING: src/c_api/c_api.cc:935: `ntree_limit` is deprecated, use `iteration_range` instead.\n",
      "[20:40:48] WARNING: src/c_api/c_api.cc:935: `ntree_limit` is deprecated, use `iteration_range` instead.\n",
      "[20:40:51] WARNING: src/c_api/c_api.cc:935: `ntree_limit` is deprecated, use `iteration_range` instead.\n",
      "[20:40:54] WARNING: src/c_api/c_api.cc:935: `ntree_limit` is deprecated, use `iteration_range` instead.\n",
      "[20:40:57] WARNING: src/c_api/c_api.cc:935: `ntree_limit` is deprecated, use `iteration_range` instead.\n",
      "[20:41:01] WARNING: src/c_api/c_api.cc:935: `ntree_limit` is deprecated, use `iteration_range` instead.\n",
      "[20:41:02] WARNING: src/c_api/c_api.cc:935: `ntree_limit` is deprecated, use `iteration_range` instead.\n",
      "[20:41:04] WARNING: src/c_api/c_api.cc:935: `ntree_limit` is deprecated, use `iteration_range` instead.\n",
      "[20:41:06] WARNING: src/c_api/c_api.cc:935: `ntree_limit` is deprecated, use `iteration_range` instead.\n",
      "[20:41:08] WARNING: src/c_api/c_api.cc:935: `ntree_limit` is deprecated, use `iteration_range` instead.\n",
      "[20:41:10] WARNING: src/c_api/c_api.cc:935: `ntree_limit` is deprecated, use `iteration_range` instead.\n",
      "[20:41:13] WARNING: src/c_api/c_api.cc:935: `ntree_limit` is deprecated, use `iteration_range` instead.\n",
      "[20:41:16] WARNING: src/c_api/c_api.cc:935: `ntree_limit` is deprecated, use `iteration_range` instead.\n",
      "[20:41:19] WARNING: src/c_api/c_api.cc:935: `ntree_limit` is deprecated, use `iteration_range` instead.\n",
      "[20:41:20] WARNING: src/c_api/c_api.cc:935: `ntree_limit` is deprecated, use `iteration_range` instead.\n",
      "[20:41:21] WARNING: src/c_api/c_api.cc:935: `ntree_limit` is deprecated, use `iteration_range` instead.\n",
      "[20:41:23] WARNING: src/c_api/c_api.cc:935: `ntree_limit` is deprecated, use `iteration_range` instead.\n",
      "[20:41:24] WARNING: src/c_api/c_api.cc:935: `ntree_limit` is deprecated, use `iteration_range` instead.\n",
      "[20:41:26] WARNING: src/c_api/c_api.cc:935: `ntree_limit` is deprecated, use `iteration_range` instead.\n",
      "[20:41:29] WARNING: src/c_api/c_api.cc:935: `ntree_limit` is deprecated, use `iteration_range` instead.\n",
      "[20:41:31] WARNING: src/c_api/c_api.cc:935: `ntree_limit` is deprecated, use `iteration_range` instead.\n",
      "[20:41:34] WARNING: src/c_api/c_api.cc:935: `ntree_limit` is deprecated, use `iteration_range` instead.\n",
      "[20:41:35] WARNING: src/c_api/c_api.cc:935: `ntree_limit` is deprecated, use `iteration_range` instead.\n",
      "[20:41:37] WARNING: src/c_api/c_api.cc:935: `ntree_limit` is deprecated, use `iteration_range` instead.\n",
      "[20:41:38] WARNING: src/c_api/c_api.cc:935: `ntree_limit` is deprecated, use `iteration_range` instead.\n",
      "[20:41:40] WARNING: src/c_api/c_api.cc:935: `ntree_limit` is deprecated, use `iteration_range` instead.\n",
      "[20:41:42] WARNING: src/c_api/c_api.cc:935: `ntree_limit` is deprecated, use `iteration_range` instead.\n",
      "[20:41:44] WARNING: src/c_api/c_api.cc:935: `ntree_limit` is deprecated, use `iteration_range` instead.\n",
      "[20:41:46] WARNING: src/c_api/c_api.cc:935: `ntree_limit` is deprecated, use `iteration_range` instead.\n",
      "[20:41:48] WARNING: src/c_api/c_api.cc:935: `ntree_limit` is deprecated, use `iteration_range` instead.\n",
      "[20:41:50] WARNING: src/c_api/c_api.cc:935: `ntree_limit` is deprecated, use `iteration_range` instead.\n",
      "[20:41:53] WARNING: src/c_api/c_api.cc:935: `ntree_limit` is deprecated, use `iteration_range` instead.\n",
      "[20:41:55] WARNING: src/c_api/c_api.cc:935: `ntree_limit` is deprecated, use `iteration_range` instead.\n",
      "[20:41:58] WARNING: src/c_api/c_api.cc:935: `ntree_limit` is deprecated, use `iteration_range` instead.\n",
      "[20:42:03] WARNING: src/c_api/c_api.cc:935: `ntree_limit` is deprecated, use `iteration_range` instead.\n",
      "[20:42:08] WARNING: src/c_api/c_api.cc:935: `ntree_limit` is deprecated, use `iteration_range` instead.\n",
      "[20:42:12] WARNING: src/c_api/c_api.cc:935: `ntree_limit` is deprecated, use `iteration_range` instead.\n",
      "[20:42:16] WARNING: src/c_api/c_api.cc:935: `ntree_limit` is deprecated, use `iteration_range` instead.\n",
      "[20:42:18] WARNING: src/c_api/c_api.cc:935: `ntree_limit` is deprecated, use `iteration_range` instead.\n",
      "[20:42:20] WARNING: src/c_api/c_api.cc:935: `ntree_limit` is deprecated, use `iteration_range` instead.\n",
      "[20:42:22] WARNING: src/c_api/c_api.cc:935: `ntree_limit` is deprecated, use `iteration_range` instead.\n",
      "[20:42:25] WARNING: src/c_api/c_api.cc:935: `ntree_limit` is deprecated, use `iteration_range` instead.\n",
      "[20:42:28] WARNING: src/c_api/c_api.cc:935: `ntree_limit` is deprecated, use `iteration_range` instead.\n",
      "[20:42:33] WARNING: src/c_api/c_api.cc:935: `ntree_limit` is deprecated, use `iteration_range` instead.\n",
      "[20:42:36] WARNING: src/c_api/c_api.cc:935: `ntree_limit` is deprecated, use `iteration_range` instead.\n",
      "[20:42:40] WARNING: src/c_api/c_api.cc:935: `ntree_limit` is deprecated, use `iteration_range` instead.\n",
      "[20:42:41] WARNING: src/c_api/c_api.cc:935: `ntree_limit` is deprecated, use `iteration_range` instead.\n",
      "[20:42:43] WARNING: src/c_api/c_api.cc:935: `ntree_limit` is deprecated, use `iteration_range` instead.\n",
      "[20:42:44] WARNING: src/c_api/c_api.cc:935: `ntree_limit` is deprecated, use `iteration_range` instead.\n",
      "[20:42:45] WARNING: src/c_api/c_api.cc:935: `ntree_limit` is deprecated, use `iteration_range` instead.\n",
      "[20:42:47] WARNING: src/c_api/c_api.cc:935: `ntree_limit` is deprecated, use `iteration_range` instead.\n",
      "[20:42:50] WARNING: src/c_api/c_api.cc:935: `ntree_limit` is deprecated, use `iteration_range` instead.\n",
      "[20:42:51] WARNING: src/c_api/c_api.cc:935: `ntree_limit` is deprecated, use `iteration_range` instead.\n",
      "[20:42:54] WARNING: src/c_api/c_api.cc:935: `ntree_limit` is deprecated, use `iteration_range` instead.\n",
      "[20:42:55] WARNING: src/c_api/c_api.cc:935: `ntree_limit` is deprecated, use `iteration_range` instead.\n",
      "[20:42:56] WARNING: src/c_api/c_api.cc:935: `ntree_limit` is deprecated, use `iteration_range` instead.\n",
      "[20:42:57] WARNING: src/c_api/c_api.cc:935: `ntree_limit` is deprecated, use `iteration_range` instead.\n",
      "[20:42:59] WARNING: src/c_api/c_api.cc:935: `ntree_limit` is deprecated, use `iteration_range` instead.\n",
      "[20:43:01] WARNING: src/c_api/c_api.cc:935: `ntree_limit` is deprecated, use `iteration_range` instead.\n",
      "[20:43:04] WARNING: src/c_api/c_api.cc:935: `ntree_limit` is deprecated, use `iteration_range` instead.\n",
      "[20:43:05] WARNING: src/c_api/c_api.cc:935: `ntree_limit` is deprecated, use `iteration_range` instead.\n",
      "[20:43:08] WARNING: src/c_api/c_api.cc:935: `ntree_limit` is deprecated, use `iteration_range` instead.\n",
      "[20:43:09] WARNING: src/c_api/c_api.cc:935: `ntree_limit` is deprecated, use `iteration_range` instead.\n",
      "[20:43:11] WARNING: src/c_api/c_api.cc:935: `ntree_limit` is deprecated, use `iteration_range` instead.\n",
      "[20:43:13] WARNING: src/c_api/c_api.cc:935: `ntree_limit` is deprecated, use `iteration_range` instead.\n",
      "[20:43:14] WARNING: src/c_api/c_api.cc:935: `ntree_limit` is deprecated, use `iteration_range` instead.\n",
      "[20:43:17] WARNING: src/c_api/c_api.cc:935: `ntree_limit` is deprecated, use `iteration_range` instead.\n",
      "[20:43:20] WARNING: src/c_api/c_api.cc:935: `ntree_limit` is deprecated, use `iteration_range` instead.\n",
      "[20:43:22] WARNING: src/c_api/c_api.cc:935: `ntree_limit` is deprecated, use `iteration_range` instead.\n",
      "[20:43:26] WARNING: src/c_api/c_api.cc:935: `ntree_limit` is deprecated, use `iteration_range` instead.\n",
      "[20:43:27] WARNING: src/c_api/c_api.cc:935: `ntree_limit` is deprecated, use `iteration_range` instead.\n",
      "[20:43:29] WARNING: src/c_api/c_api.cc:935: `ntree_limit` is deprecated, use `iteration_range` instead.\n",
      "[20:43:31] WARNING: src/c_api/c_api.cc:935: `ntree_limit` is deprecated, use `iteration_range` instead.\n",
      "[20:43:33] WARNING: src/c_api/c_api.cc:935: `ntree_limit` is deprecated, use `iteration_range` instead.\n",
      "[20:43:35] WARNING: src/c_api/c_api.cc:935: `ntree_limit` is deprecated, use `iteration_range` instead.\n",
      "[20:43:38] WARNING: src/c_api/c_api.cc:935: `ntree_limit` is deprecated, use `iteration_range` instead.\n",
      "[20:43:41] WARNING: src/c_api/c_api.cc:935: `ntree_limit` is deprecated, use `iteration_range` instead.\n",
      "[20:43:44] WARNING: src/c_api/c_api.cc:935: `ntree_limit` is deprecated, use `iteration_range` instead.\n",
      "[20:43:45] WARNING: src/c_api/c_api.cc:935: `ntree_limit` is deprecated, use `iteration_range` instead.\n",
      "[20:43:46] WARNING: src/c_api/c_api.cc:935: `ntree_limit` is deprecated, use `iteration_range` instead.\n",
      "[20:43:48] WARNING: src/c_api/c_api.cc:935: `ntree_limit` is deprecated, use `iteration_range` instead.\n",
      "[20:43:49] WARNING: src/c_api/c_api.cc:935: `ntree_limit` is deprecated, use `iteration_range` instead.\n",
      "[20:43:51] WARNING: src/c_api/c_api.cc:935: `ntree_limit` is deprecated, use `iteration_range` instead.\n",
      "[20:43:54] WARNING: src/c_api/c_api.cc:935: `ntree_limit` is deprecated, use `iteration_range` instead.\n",
      "[20:43:55] WARNING: src/c_api/c_api.cc:935: `ntree_limit` is deprecated, use `iteration_range` instead.\n",
      "[20:43:58] WARNING: src/c_api/c_api.cc:935: `ntree_limit` is deprecated, use `iteration_range` instead.\n",
      "[20:43:59] WARNING: src/c_api/c_api.cc:935: `ntree_limit` is deprecated, use `iteration_range` instead.\n",
      "[20:44:01] WARNING: src/c_api/c_api.cc:935: `ntree_limit` is deprecated, use `iteration_range` instead.\n",
      "[20:44:02] WARNING: src/c_api/c_api.cc:935: `ntree_limit` is deprecated, use `iteration_range` instead.\n",
      "[20:44:04] WARNING: src/c_api/c_api.cc:935: `ntree_limit` is deprecated, use `iteration_range` instead.\n",
      "[20:44:06] WARNING: src/c_api/c_api.cc:935: `ntree_limit` is deprecated, use `iteration_range` instead.\n",
      "[20:44:08] WARNING: src/c_api/c_api.cc:935: `ntree_limit` is deprecated, use `iteration_range` instead.\n",
      "[20:44:10] WARNING: src/c_api/c_api.cc:935: `ntree_limit` is deprecated, use `iteration_range` instead.\n",
      "[20:44:12] WARNING: src/c_api/c_api.cc:935: `ntree_limit` is deprecated, use `iteration_range` instead.\n",
      "[20:44:14] WARNING: src/c_api/c_api.cc:935: `ntree_limit` is deprecated, use `iteration_range` instead.\n",
      "[20:44:17] WARNING: src/c_api/c_api.cc:935: `ntree_limit` is deprecated, use `iteration_range` instead.\n",
      "[20:44:19] WARNING: src/c_api/c_api.cc:935: `ntree_limit` is deprecated, use `iteration_range` instead.\n",
      "[20:44:21] WARNING: src/c_api/c_api.cc:935: `ntree_limit` is deprecated, use `iteration_range` instead.\n",
      "[20:44:24] WARNING: src/c_api/c_api.cc:935: `ntree_limit` is deprecated, use `iteration_range` instead.\n",
      "[20:44:28] WARNING: src/c_api/c_api.cc:935: `ntree_limit` is deprecated, use `iteration_range` instead.\n",
      "[20:44:32] WARNING: src/c_api/c_api.cc:935: `ntree_limit` is deprecated, use `iteration_range` instead.\n",
      "[20:44:36] WARNING: src/c_api/c_api.cc:935: `ntree_limit` is deprecated, use `iteration_range` instead.\n",
      "[20:44:38] WARNING: src/c_api/c_api.cc:935: `ntree_limit` is deprecated, use `iteration_range` instead.\n",
      "[20:44:40] WARNING: src/c_api/c_api.cc:935: `ntree_limit` is deprecated, use `iteration_range` instead.\n",
      "[20:44:42] WARNING: src/c_api/c_api.cc:935: `ntree_limit` is deprecated, use `iteration_range` instead.\n",
      "[20:44:45] WARNING: src/c_api/c_api.cc:935: `ntree_limit` is deprecated, use `iteration_range` instead.\n",
      "[20:44:48] WARNING: src/c_api/c_api.cc:935: `ntree_limit` is deprecated, use `iteration_range` instead.\n",
      "[20:44:52] WARNING: src/c_api/c_api.cc:935: `ntree_limit` is deprecated, use `iteration_range` instead.\n",
      "[20:44:55] WARNING: src/c_api/c_api.cc:935: `ntree_limit` is deprecated, use `iteration_range` instead.\n",
      "[20:44:59] WARNING: src/c_api/c_api.cc:935: `ntree_limit` is deprecated, use `iteration_range` instead.\n"
     ]
    },
    {
     "data": {
      "text/plain": [
       "eXtreme Gradient Boosting \n",
       "\n",
       "2930 samples\n",
       "  73 predictor\n",
       "\n",
       "No pre-processing\n",
       "Resampling: Cross-Validated (5 fold) \n",
       "Summary of sample sizes: 2343, 2343, 2345, 2345, 2344 \n",
       "Resampling results across tuning parameters:\n",
       "\n",
       "  eta   max_depth  gamma  colsample_bytree  min_child_weight  subsample\n",
       "  0.01  2          0      0.33              10                0.4      \n",
       "  0.01  2          0      0.33              10                0.4      \n",
       "  0.01  2          0      0.33              10                0.8      \n",
       "  0.01  2          0      0.33              10                0.8      \n",
       "  0.01  2          0      0.33              25                0.4      \n",
       "  0.01  2          0      0.33              25                0.4      \n",
       "  0.01  2          0      0.33              25                0.8      \n",
       "  0.01  2          0      0.33              25                0.8      \n",
       "  0.01  2          0      0.66              10                0.4      \n",
       "  0.01  2          0      0.66              10                0.4      \n",
       "  0.01  2          0      0.66              10                0.8      \n",
       "  0.01  2          0      0.66              10                0.8      \n",
       "  0.01  2          0      0.66              25                0.4      \n",
       "  0.01  2          0      0.66              25                0.4      \n",
       "  0.01  2          0      0.66              25                0.8      \n",
       "  0.01  2          0      0.66              25                0.8      \n",
       "  0.01  2          1      0.33              10                0.4      \n",
       "  0.01  2          1      0.33              10                0.4      \n",
       "  0.01  2          1      0.33              10                0.8      \n",
       "  0.01  2          1      0.33              10                0.8      \n",
       "  0.01  2          1      0.33              25                0.4      \n",
       "  0.01  2          1      0.33              25                0.4      \n",
       "  0.01  2          1      0.33              25                0.8      \n",
       "  0.01  2          1      0.33              25                0.8      \n",
       "  0.01  2          1      0.66              10                0.4      \n",
       "  0.01  2          1      0.66              10                0.4      \n",
       "  0.01  2          1      0.66              10                0.8      \n",
       "  0.01  2          1      0.66              10                0.8      \n",
       "  0.01  2          1      0.66              25                0.4      \n",
       "  0.01  2          1      0.66              25                0.4      \n",
       "  0.01  2          1      0.66              25                0.8      \n",
       "  0.01  2          1      0.66              25                0.8      \n",
       "  0.01  4          0      0.33              10                0.4      \n",
       "  0.01  4          0      0.33              10                0.4      \n",
       "  0.01  4          0      0.33              10                0.8      \n",
       "  0.01  4          0      0.33              10                0.8      \n",
       "  0.01  4          0      0.33              25                0.4      \n",
       "  0.01  4          0      0.33              25                0.4      \n",
       "  0.01  4          0      0.33              25                0.8      \n",
       "  0.01  4          0      0.33              25                0.8      \n",
       "  0.01  4          0      0.66              10                0.4      \n",
       "  0.01  4          0      0.66              10                0.4      \n",
       "  0.01  4          0      0.66              10                0.8      \n",
       "  0.01  4          0      0.66              10                0.8      \n",
       "  0.01  4          0      0.66              25                0.4      \n",
       "  0.01  4          0      0.66              25                0.4      \n",
       "  0.01  4          0      0.66              25                0.8      \n",
       "  0.01  4          0      0.66              25                0.8      \n",
       "  0.01  4          1      0.33              10                0.4      \n",
       "  0.01  4          1      0.33              10                0.4      \n",
       "  0.01  4          1      0.33              10                0.8      \n",
       "  0.01  4          1      0.33              10                0.8      \n",
       "  0.01  4          1      0.33              25                0.4      \n",
       "  0.01  4          1      0.33              25                0.4      \n",
       "  0.01  4          1      0.33              25                0.8      \n",
       "  0.01  4          1      0.33              25                0.8      \n",
       "  0.01  4          1      0.66              10                0.4      \n",
       "  0.01  4          1      0.66              10                0.4      \n",
       "  0.01  4          1      0.66              10                0.8      \n",
       "  0.01  4          1      0.66              10                0.8      \n",
       "  0.01  4          1      0.66              25                0.4      \n",
       "  0.01  4          1      0.66              25                0.4      \n",
       "  0.01  4          1      0.66              25                0.8      \n",
       "  0.01  4          1      0.66              25                0.8      \n",
       "  0.05  2          0      0.33              10                0.4      \n",
       "  0.05  2          0      0.33              10                0.4      \n",
       "  0.05  2          0      0.33              10                0.8      \n",
       "  0.05  2          0      0.33              10                0.8      \n",
       "  0.05  2          0      0.33              25                0.4      \n",
       "  0.05  2          0      0.33              25                0.4      \n",
       "  0.05  2          0      0.33              25                0.8      \n",
       "  0.05  2          0      0.33              25                0.8      \n",
       "  0.05  2          0      0.66              10                0.4      \n",
       "  0.05  2          0      0.66              10                0.4      \n",
       "  0.05  2          0      0.66              10                0.8      \n",
       "  0.05  2          0      0.66              10                0.8      \n",
       "  0.05  2          0      0.66              25                0.4      \n",
       "  0.05  2          0      0.66              25                0.4      \n",
       "  0.05  2          0      0.66              25                0.8      \n",
       "  0.05  2          0      0.66              25                0.8      \n",
       "  0.05  2          1      0.33              10                0.4      \n",
       "  0.05  2          1      0.33              10                0.4      \n",
       "  0.05  2          1      0.33              10                0.8      \n",
       "  0.05  2          1      0.33              10                0.8      \n",
       "  0.05  2          1      0.33              25                0.4      \n",
       "  0.05  2          1      0.33              25                0.4      \n",
       "  0.05  2          1      0.33              25                0.8      \n",
       "  0.05  2          1      0.33              25                0.8      \n",
       "  0.05  2          1      0.66              10                0.4      \n",
       "  0.05  2          1      0.66              10                0.4      \n",
       "  0.05  2          1      0.66              10                0.8      \n",
       "  0.05  2          1      0.66              10                0.8      \n",
       "  0.05  2          1      0.66              25                0.4      \n",
       "  0.05  2          1      0.66              25                0.4      \n",
       "  0.05  2          1      0.66              25                0.8      \n",
       "  0.05  2          1      0.66              25                0.8      \n",
       "  0.05  4          0      0.33              10                0.4      \n",
       "  0.05  4          0      0.33              10                0.4      \n",
       "  0.05  4          0      0.33              10                0.8      \n",
       "  0.05  4          0      0.33              10                0.8      \n",
       "  0.05  4          0      0.33              25                0.4      \n",
       "  0.05  4          0      0.33              25                0.4      \n",
       "  0.05  4          0      0.33              25                0.8      \n",
       "  0.05  4          0      0.33              25                0.8      \n",
       "  0.05  4          0      0.66              10                0.4      \n",
       "  0.05  4          0      0.66              10                0.4      \n",
       "  0.05  4          0      0.66              10                0.8      \n",
       "  0.05  4          0      0.66              10                0.8      \n",
       "  0.05  4          0      0.66              25                0.4      \n",
       "  0.05  4          0      0.66              25                0.4      \n",
       "  0.05  4          0      0.66              25                0.8      \n",
       "  0.05  4          0      0.66              25                0.8      \n",
       "  0.05  4          1      0.33              10                0.4      \n",
       "  0.05  4          1      0.33              10                0.4      \n",
       "  0.05  4          1      0.33              10                0.8      \n",
       "  0.05  4          1      0.33              10                0.8      \n",
       "  0.05  4          1      0.33              25                0.4      \n",
       "  0.05  4          1      0.33              25                0.4      \n",
       "  0.05  4          1      0.33              25                0.8      \n",
       "  0.05  4          1      0.33              25                0.8      \n",
       "  0.05  4          1      0.66              10                0.4      \n",
       "  0.05  4          1      0.66              10                0.4      \n",
       "  0.05  4          1      0.66              10                0.8      \n",
       "  0.05  4          1      0.66              10                0.8      \n",
       "  0.05  4          1      0.66              25                0.4      \n",
       "  0.05  4          1      0.66              25                0.4      \n",
       "  0.05  4          1      0.66              25                0.8      \n",
       "  0.05  4          1      0.66              25                0.8      \n",
       "  nrounds  RMSE       Rsquared   MAE       \n",
       "  100      4.2378452  0.6264120  4.22355650\n",
       "  250      0.9664088  0.8066111  0.94197695\n",
       "  100      4.2331231  0.6805628  4.22125094\n",
       "  250      0.9606262  0.8116719  0.93920744\n",
       "  100      4.2382445  0.6320726  4.22403727\n",
       "  250      0.9663902  0.8024481  0.94181573\n",
       "  100      4.2332013  0.6755570  4.22133132\n",
       "  250      0.9607968  0.8130952  0.93943533\n",
       "  100      4.2374474  0.6220191  4.22362299\n",
       "  250      0.9653861  0.8096427  0.94215677\n",
       "  100      4.2331868  0.6790155  4.22174699\n",
       "  250      0.9596433  0.8162286  0.93930674\n",
       "  100      4.2381607  0.6148579  4.22426715\n",
       "  250      0.9654653  0.8061331  0.94211087\n",
       "  100      4.2332092  0.6788705  4.22171958\n",
       "  250      0.9596219  0.8160828  0.93920769\n",
       "  100      4.2380504  0.6194258  4.22371873\n",
       "  250      0.9673571  0.8006591  0.94211282\n",
       "  100      4.2335342  0.6729131  4.22159621\n",
       "  250      0.9610340  0.8086312  0.93927698\n",
       "  100      4.2386460  0.6298459  4.22428100\n",
       "  250      0.9674487  0.7975430  0.94227807\n",
       "  100      4.2330986  0.6694826  4.22119847\n",
       "  250      0.9611119  0.8096777  0.93948139\n",
       "  100      4.2382547  0.6148386  4.22433128\n",
       "  250      0.9659479  0.8048175  0.94207467\n",
       "  100      4.2331037  0.6765943  4.22154697\n",
       "  250      0.9597574  0.8152414  0.93912661\n",
       "  100      4.2385378  0.6168828  4.22457211\n",
       "  250      0.9662418  0.8034467  0.94225980\n",
       "  100      4.2331319  0.6813534  4.22159440\n",
       "  250      0.9599768  0.8141722  0.93932431\n",
       "  100      4.2389559  0.6358349  4.22459200\n",
       "  250      0.9657214  0.8160154  0.94286070\n",
       "  100      4.2334414  0.6727611  4.22150990\n",
       "  250      0.9597932  0.8258981  0.94037344\n",
       "  100      4.2378942  0.6271382  4.22366091\n",
       "  250      0.9665441  0.8096618  0.94332182\n",
       "  100      4.2332172  0.6760567  4.22125357\n",
       "  250      0.9600816  0.8239061  0.94047938\n",
       "  100      4.2382171  0.6249968  4.22435748\n",
       "  250      0.9646673  0.8194901  0.94300008\n",
       "  100      4.2329858  0.6776237  4.22148095\n",
       "  250      0.9587012  0.8299939  0.94038220\n",
       "  100      4.2379080  0.6212226  4.22402327\n",
       "  250      0.9650498  0.8131679  0.94308331\n",
       "  100      4.2331666  0.6779298  4.22171529\n",
       "  250      0.9586134  0.8279509  0.94013749\n",
       "  100      4.2386307  0.6343122  4.22426655\n",
       "  250      0.9669511  0.8007675  0.94229107\n",
       "  100      4.2336496  0.6707021  4.22162949\n",
       "  250      0.9600783  0.8168825  0.93938907\n",
       "  100      4.2386658  0.6319845  4.22437354\n",
       "  250      0.9669556  0.7980585  0.94212744\n",
       "  100      4.2334516  0.6782147  4.22148925\n",
       "  250      0.9602894  0.8158541  0.93957570\n",
       "  100      4.2383496  0.6187841  4.22445017\n",
       "  250      0.9652836  0.8076193  0.94189321\n",
       "  100      4.2330809  0.6722338  4.22151451\n",
       "  250      0.9589856  0.8217298  0.93942836\n",
       "  100      4.2382174  0.6204068  4.22430115\n",
       "  250      0.9654913  0.8047207  0.94191360\n",
       "  100      4.2332013  0.6767825  4.22163916\n",
       "  250      0.9591976  0.8194499  0.93939868\n",
       "  100      0.1790420  0.8484949  0.13049218\n",
       "  250      0.1391152  0.8837860  0.09347313\n",
       "  100      0.1768119  0.8510167  0.12978171\n",
       "  250      0.1399582  0.8825160  0.09465243\n",
       "  100      0.1799273  0.8445476  0.13124779\n",
       "  250      0.1420048  0.8787613  0.09572042\n",
       "  100      0.1773558  0.8496042  0.12959967\n",
       "  250      0.1397749  0.8827880  0.09422215\n",
       "  100      0.1765095  0.8512047  0.12907521\n",
       "  250      0.1385914  0.8843591  0.09321509\n",
       "  100      0.1745774  0.8549608  0.12837197\n",
       "  250      0.1384039  0.8853155  0.09297198\n",
       "  100      0.1773034  0.8502622  0.13061055\n",
       "  250      0.1396258  0.8827061  0.09405941\n",
       "  100      0.1746004  0.8544002  0.12838751\n",
       "  250      0.1380496  0.8857645  0.09271296\n",
       "  100      0.1836319  0.8419275  0.13343481\n",
       "  250      0.1588433  0.8543466  0.10951157\n",
       "  100      0.1779553  0.8494356  0.13055228\n",
       "  250      0.1545441  0.8613117  0.10651688\n",
       "  100      0.1847695  0.8383572  0.13515659\n",
       "  250      0.1607457  0.8501062  0.11079267\n",
       "  100      0.1794110  0.8466646  0.13170739\n",
       "  250      0.1550901  0.8600070  0.10618790\n",
       "  100      0.1798647  0.8476478  0.13167666\n",
       "  250      0.1562680  0.8585234  0.10755566\n",
       "  100      0.1758627  0.8524502  0.12932558\n",
       "  250      0.1541755  0.8616741  0.10600912\n",
       "  100      0.1821128  0.8421275  0.13340033\n",
       "  250      0.1590059  0.8531674  0.10955547\n",
       "  100      0.1747723  0.8543258  0.12837638\n",
       "  250      0.1530109  0.8640409  0.10531015\n",
       "  100      0.1654695  0.8700865  0.12042804\n",
       "  250      0.1297082  0.8987813  0.08565690\n",
       "  100      0.1625275  0.8736237  0.11934048\n",
       "  250      0.1300794  0.8982384  0.08642068\n",
       "  100      0.1687683  0.8649113  0.12367187\n",
       "  250      0.1328021  0.8936537  0.08805273\n",
       "  100      0.1640922  0.8715266  0.12035368\n",
       "  250      0.1297713  0.8985008  0.08566859\n",
       "  100      0.1613504  0.8774929  0.11940783\n",
       "  250      0.1276845  0.9019036  0.08503566\n",
       "  100      0.1597093  0.8785933  0.11816066\n",
       "  250      0.1291072  0.8999821  0.08575597\n",
       "  100      0.1656959  0.8683745  0.12194065\n",
       "  250      0.1322999  0.8943892  0.08731031\n",
       "  100      0.1613162  0.8762991  0.11896443\n",
       "  250      0.1286440  0.9004827  0.08565963\n",
       "  100      0.1816451  0.8450980  0.13280042\n",
       "  250      0.1586996  0.8545082  0.10957891\n",
       "  100      0.1738850  0.8561353  0.12706914\n",
       "  250      0.1540609  0.8625125  0.10567364\n",
       "  100      0.1836038  0.8399189  0.13359283\n",
       "  250      0.1605765  0.8502040  0.11013279\n",
       "  100      0.1747505  0.8544532  0.12839827\n",
       "  250      0.1543488  0.8614858  0.10610641\n",
       "  100      0.1787626  0.8488217  0.13108275\n",
       "  250      0.1560851  0.8591519  0.10731427\n",
       "  100      0.1713096  0.8603044  0.12632705\n",
       "  250      0.1520261  0.8658715  0.10429553\n",
       "  100      0.1802238  0.8461250  0.13177963\n",
       "  250      0.1579058  0.8552626  0.10882237\n",
       "  100      0.1720642  0.8584893  0.12658877\n",
       "  250      0.1531449  0.8637586  0.10507837\n",
       "\n",
       "RMSE was used to select the optimal model using the smallest value.\n",
       "The final values used for the model were nrounds = 250, max_depth = 4, eta\n",
       " = 0.05, gamma = 0, colsample_bytree = 0.66, min_child_weight = 10\n",
       " and subsample = 0.4."
      ]
     },
     "metadata": {},
     "output_type": "display_data"
    }
   ],
   "source": [
    "set.seed(1011)\n",
    "Xgboost_tree <- train(log(Sale_Price) ~ .,\n",
    "    data=ames,\n",
    "  method = \"xgbTree\", \n",
    "  trControl = fitControl,\n",
    "  tuneGrid=grid_xbgoost\n",
    ")        \n",
    "\n",
    "Xgboost_tree"
   ]
  },
  {
   "cell_type": "code",
   "execution_count": 34,
   "id": "9e518a6a",
   "metadata": {
    "vscode": {
     "languageId": "r"
    }
   },
   "outputs": [
    {
     "data": {
      "text/html": [
       "<table class=\"dataframe\">\n",
       "<caption>A data.frame: 1 × 7</caption>\n",
       "<thead>\n",
       "\t<tr><th></th><th scope=col>nrounds</th><th scope=col>max_depth</th><th scope=col>eta</th><th scope=col>gamma</th><th scope=col>colsample_bytree</th><th scope=col>min_child_weight</th><th scope=col>subsample</th></tr>\n",
       "\t<tr><th></th><th scope=col>&lt;dbl&gt;</th><th scope=col>&lt;dbl&gt;</th><th scope=col>&lt;dbl&gt;</th><th scope=col>&lt;dbl&gt;</th><th scope=col>&lt;dbl&gt;</th><th scope=col>&lt;dbl&gt;</th><th scope=col>&lt;dbl&gt;</th></tr>\n",
       "</thead>\n",
       "<tbody>\n",
       "\t<tr><th scope=row>106</th><td>250</td><td>4</td><td>0.05</td><td>0</td><td>0.66</td><td>10</td><td>0.4</td></tr>\n",
       "</tbody>\n",
       "</table>\n"
      ],
      "text/latex": [
       "A data.frame: 1 × 7\n",
       "\\begin{tabular}{r|lllllll}\n",
       "  & nrounds & max\\_depth & eta & gamma & colsample\\_bytree & min\\_child\\_weight & subsample\\\\\n",
       "  & <dbl> & <dbl> & <dbl> & <dbl> & <dbl> & <dbl> & <dbl>\\\\\n",
       "\\hline\n",
       "\t106 & 250 & 4 & 0.05 & 0 & 0.66 & 10 & 0.4\\\\\n",
       "\\end{tabular}\n"
      ],
      "text/markdown": [
       "\n",
       "A data.frame: 1 × 7\n",
       "\n",
       "| <!--/--> | nrounds &lt;dbl&gt; | max_depth &lt;dbl&gt; | eta &lt;dbl&gt; | gamma &lt;dbl&gt; | colsample_bytree &lt;dbl&gt; | min_child_weight &lt;dbl&gt; | subsample &lt;dbl&gt; |\n",
       "|---|---|---|---|---|---|---|---|\n",
       "| 106 | 250 | 4 | 0.05 | 0 | 0.66 | 10 | 0.4 |\n",
       "\n"
      ],
      "text/plain": [
       "    nrounds max_depth eta  gamma colsample_bytree min_child_weight subsample\n",
       "106 250     4         0.05 0     0.66             10               0.4      "
      ]
     },
     "metadata": {},
     "output_type": "display_data"
    }
   ],
   "source": [
    "Xgboost_tree$bestTune"
   ]
  },
  {
   "cell_type": "code",
   "execution_count": 35,
   "id": "3ed792fd",
   "metadata": {
    "vscode": {
     "languageId": "r"
    }
   },
   "outputs": [
    {
     "data": {
      "text/html": [
       "0.127684528772122"
      ],
      "text/latex": [
       "0.127684528772122"
      ],
      "text/markdown": [
       "0.127684528772122"
      ],
      "text/plain": [
       "[1] 0.1276845"
      ]
     },
     "metadata": {},
     "output_type": "display_data"
    }
   ],
   "source": [
    "min(Xgboost_tree$results$RMSE)"
   ]
  },
  {
   "cell_type": "markdown",
   "id": "36b103ca",
   "metadata": {},
   "source": [
    "It’s important to note that there is never a single optimal tuning parameter choice for all (or even most) settings. In fact, the choice of a given tuning parameter often has important effects on the optimal value of other tuning parameters. There are usually important tradeoffs to consider between tuning parameter values. For example, in the context of XGBoost, a high value of `min_child_weight` may require a lower `eta` or `max_depth` value. However, this is true for other types of machine learning algorithms."
   ]
  }
 ],
 "metadata": {
  "jupytext": {
   "formats": "ipynb,Rmd"
  },
  "kernelspec": {
   "display_name": "R",
   "language": "R",
   "name": "ir"
  },
  "language_info": {
   "codemirror_mode": "r",
   "file_extension": ".r",
   "mimetype": "text/x-r-source",
   "name": "R",
   "pygments_lexer": "r",
   "version": "4.5.1"
  },
  "toc": {
   "base_numbering": 1,
   "nav_menu": {},
   "number_sections": true,
   "sideBar": true,
   "skip_h1_title": false,
   "title_cell": "Table of Contents",
   "title_sidebar": "Contents",
   "toc_cell": false,
   "toc_position": {},
   "toc_section_display": true,
   "toc_window_display": false
  }
 },
 "nbformat": 4,
 "nbformat_minor": 5
}
