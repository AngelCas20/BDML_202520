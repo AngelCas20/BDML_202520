{
  "cells": [
    {
      "cell_type": "markdown",
      "metadata": {
        "id": "view-in-github",
        "colab_type": "text"
      },
      "source": [
        "<a href=\"https://colab.research.google.com/github/ignaciomsarmiento/BDML_202520/blob/main/Lecture11/Notebook_NN_example_regression.ipynb\" target=\"_parent\"><img src=\"https://colab.research.google.com/assets/colab-badge.svg\" alt=\"Open In Colab\"/></a>"
      ]
    },
    {
      "cell_type": "markdown",
      "metadata": {
        "id": "qYOTXSgfqSIp"
      },
      "source": [
        "<div >\n",
        "<img src = \"../banner.jpg\" />\n",
        "</div>"
      ]
    },
    {
      "cell_type": "markdown",
      "metadata": {
        "id": "uuqMeUlQqSIr"
      },
      "source": [
        "<a href=\"https://colab.research.google.com/github/ignaciomsarmiento/BDML_202520/blob/main/Lecture11/Notebook_NN_example_regression.ipynb\" target=\"_parent\"><img src=\"https://colab.research.google.com/assets/colab-badge.svg\" alt=\"Open In Colab\"/></a>"
      ]
    },
    {
      "cell_type": "markdown",
      "metadata": {
        "id": "41Eo_IfAqSIs"
      },
      "source": [
        "# Intro a Deep Learning"
      ]
    },
    {
      "cell_type": "markdown",
      "metadata": {
        "id": "rR7vgyD8652M"
      },
      "source": [
        "## Llamando las librerías"
      ]
    },
    {
      "cell_type": "code",
      "execution_count": 1,
      "metadata": {
        "vscode": {
          "languageId": "r"
        },
        "colab": {
          "base_uri": "https://localhost:8080/"
        },
        "id": "31-NB6lzqSIs",
        "outputId": "4f608342-0368-4a70-bdf4-8bf4dc8c9020"
      },
      "outputs": [
        {
          "output_type": "stream",
          "name": "stderr",
          "text": [
            "Installing package into ‘/usr/local/lib/R/site-library’\n",
            "(as ‘lib’ is unspecified)\n",
            "\n"
          ]
        }
      ],
      "source": [
        "install.packages(\"pacman\") #run this line if you use Google Colab"
      ]
    },
    {
      "cell_type": "code",
      "source": [
        "# Step 1: Tell reticulate NOT to create a virtual environment\n",
        "Sys.setenv(RETICULATE_PYTHON = \"/usr/bin/python3\")\n",
        "Sys.setenv(RETICULATE_PYTHON_FALLBACK = \"/usr/bin/python3\")\n",
        "\n",
        "# Step 2: Install packages\n",
        "install.packages(\"reticulate\")\n",
        "install.packages(\"keras\")\n",
        "\n",
        "# Step 3: Load reticulate\n",
        "library(reticulate)\n",
        "\n",
        "# Step 4: Use system Python (no virtual env)\n",
        "use_python(\"/usr/bin/python3\", required = TRUE)\n",
        "\n",
        "# Step 5: Install TensorFlow to system Python\n",
        "system(\"pip3 install tensorflow keras numpy\")\n",
        "\n",
        "# Step 6: Load keras\n",
        "library(keras)"
      ],
      "metadata": {
        "id": "dRB_nPeByw-x",
        "outputId": "7a3136ff-a055-412b-9746-1aa02069bb0a",
        "colab": {
          "base_uri": "https://localhost:8080/"
        }
      },
      "execution_count": 2,
      "outputs": [
        {
          "output_type": "stream",
          "name": "stderr",
          "text": [
            "Installing package into ‘/usr/local/lib/R/site-library’\n",
            "(as ‘lib’ is unspecified)\n",
            "\n",
            "Installing package into ‘/usr/local/lib/R/site-library’\n",
            "(as ‘lib’ is unspecified)\n",
            "\n",
            "The keras package is deprecated. Use the keras3 package instead.\n",
            "\n"
          ]
        }
      ]
    },
    {
      "cell_type": "code",
      "execution_count": 3,
      "metadata": {
        "colab": {
          "base_uri": "https://localhost:8080/",
          "height": 340
        },
        "id": "SDsCl59z69jP",
        "outputId": "9ba7dc2f-492b-4cb8-f084-e582e5fd5310",
        "vscode": {
          "languageId": "r"
        }
      },
      "outputs": [
        {
          "output_type": "stream",
          "name": "stderr",
          "text": [
            "Loading required package: pacman\n",
            "\n"
          ]
        },
        {
          "output_type": "display_data",
          "data": {
            "text/html": [
              "<table class=\"dataframe\">\n",
              "<caption>A tibble: 6 × 74</caption>\n",
              "<thead>\n",
              "\t<tr><th scope=col>MS_SubClass</th><th scope=col>MS_Zoning</th><th scope=col>Lot_Frontage</th><th scope=col>Lot_Area</th><th scope=col>Street</th><th scope=col>Alley</th><th scope=col>Lot_Shape</th><th scope=col>Land_Contour</th><th scope=col>Utilities</th><th scope=col>Lot_Config</th><th scope=col>⋯</th><th scope=col>Fence</th><th scope=col>Misc_Feature</th><th scope=col>Misc_Val</th><th scope=col>Mo_Sold</th><th scope=col>Year_Sold</th><th scope=col>Sale_Type</th><th scope=col>Sale_Condition</th><th scope=col>Sale_Price</th><th scope=col>Longitude</th><th scope=col>Latitude</th></tr>\n",
              "\t<tr><th scope=col>&lt;fct&gt;</th><th scope=col>&lt;fct&gt;</th><th scope=col>&lt;dbl&gt;</th><th scope=col>&lt;int&gt;</th><th scope=col>&lt;fct&gt;</th><th scope=col>&lt;fct&gt;</th><th scope=col>&lt;fct&gt;</th><th scope=col>&lt;fct&gt;</th><th scope=col>&lt;fct&gt;</th><th scope=col>&lt;fct&gt;</th><th scope=col>⋯</th><th scope=col>&lt;fct&gt;</th><th scope=col>&lt;fct&gt;</th><th scope=col>&lt;int&gt;</th><th scope=col>&lt;int&gt;</th><th scope=col>&lt;int&gt;</th><th scope=col>&lt;fct&gt;</th><th scope=col>&lt;fct&gt;</th><th scope=col>&lt;int&gt;</th><th scope=col>&lt;dbl&gt;</th><th scope=col>&lt;dbl&gt;</th></tr>\n",
              "</thead>\n",
              "<tbody>\n",
              "\t<tr><td>One_Story_1946_and_Newer_All_Styles</td><td>Residential_Low_Density </td><td>141</td><td>31770</td><td>Pave</td><td>No_Alley_Access</td><td>Slightly_Irregular</td><td>Lvl</td><td>AllPub</td><td>Corner</td><td>⋯</td><td>No_Fence       </td><td>None</td><td>    0</td><td>5</td><td>2010</td><td>WD </td><td>Normal</td><td>215000</td><td>-93.61975</td><td>42.05403</td></tr>\n",
              "\t<tr><td>One_Story_1946_and_Newer_All_Styles</td><td>Residential_High_Density</td><td> 80</td><td>11622</td><td>Pave</td><td>No_Alley_Access</td><td>Regular           </td><td>Lvl</td><td>AllPub</td><td>Inside</td><td>⋯</td><td>Minimum_Privacy</td><td>None</td><td>    0</td><td>6</td><td>2010</td><td>WD </td><td>Normal</td><td>105000</td><td>-93.61976</td><td>42.05301</td></tr>\n",
              "\t<tr><td>One_Story_1946_and_Newer_All_Styles</td><td>Residential_Low_Density </td><td> 81</td><td>14267</td><td>Pave</td><td>No_Alley_Access</td><td>Slightly_Irregular</td><td>Lvl</td><td>AllPub</td><td>Corner</td><td>⋯</td><td>No_Fence       </td><td>Gar2</td><td>12500</td><td>6</td><td>2010</td><td>WD </td><td>Normal</td><td>172000</td><td>-93.61939</td><td>42.05266</td></tr>\n",
              "\t<tr><td>One_Story_1946_and_Newer_All_Styles</td><td>Residential_Low_Density </td><td> 93</td><td>11160</td><td>Pave</td><td>No_Alley_Access</td><td>Regular           </td><td>Lvl</td><td>AllPub</td><td>Corner</td><td>⋯</td><td>No_Fence       </td><td>None</td><td>    0</td><td>4</td><td>2010</td><td>WD </td><td>Normal</td><td>244000</td><td>-93.61732</td><td>42.05125</td></tr>\n",
              "\t<tr><td>Two_Story_1946_and_Newer           </td><td>Residential_Low_Density </td><td> 74</td><td>13830</td><td>Pave</td><td>No_Alley_Access</td><td>Slightly_Irregular</td><td>Lvl</td><td>AllPub</td><td>Inside</td><td>⋯</td><td>Minimum_Privacy</td><td>None</td><td>    0</td><td>3</td><td>2010</td><td>WD </td><td>Normal</td><td>189900</td><td>-93.63893</td><td>42.06090</td></tr>\n",
              "\t<tr><td>Two_Story_1946_and_Newer           </td><td>Residential_Low_Density </td><td> 78</td><td> 9978</td><td>Pave</td><td>No_Alley_Access</td><td>Slightly_Irregular</td><td>Lvl</td><td>AllPub</td><td>Inside</td><td>⋯</td><td>No_Fence       </td><td>None</td><td>    0</td><td>6</td><td>2010</td><td>WD </td><td>Normal</td><td>195500</td><td>-93.63893</td><td>42.06078</td></tr>\n",
              "</tbody>\n",
              "</table>\n"
            ],
            "text/markdown": "\nA tibble: 6 × 74\n\n| MS_SubClass &lt;fct&gt; | MS_Zoning &lt;fct&gt; | Lot_Frontage &lt;dbl&gt; | Lot_Area &lt;int&gt; | Street &lt;fct&gt; | Alley &lt;fct&gt; | Lot_Shape &lt;fct&gt; | Land_Contour &lt;fct&gt; | Utilities &lt;fct&gt; | Lot_Config &lt;fct&gt; | ⋯ ⋯ | Fence &lt;fct&gt; | Misc_Feature &lt;fct&gt; | Misc_Val &lt;int&gt; | Mo_Sold &lt;int&gt; | Year_Sold &lt;int&gt; | Sale_Type &lt;fct&gt; | Sale_Condition &lt;fct&gt; | Sale_Price &lt;int&gt; | Longitude &lt;dbl&gt; | Latitude &lt;dbl&gt; |\n|---|---|---|---|---|---|---|---|---|---|---|---|---|---|---|---|---|---|---|---|---|\n| One_Story_1946_and_Newer_All_Styles | Residential_Low_Density  | 141 | 31770 | Pave | No_Alley_Access | Slightly_Irregular | Lvl | AllPub | Corner | ⋯ | No_Fence        | None |     0 | 5 | 2010 | WD  | Normal | 215000 | -93.61975 | 42.05403 |\n| One_Story_1946_and_Newer_All_Styles | Residential_High_Density |  80 | 11622 | Pave | No_Alley_Access | Regular            | Lvl | AllPub | Inside | ⋯ | Minimum_Privacy | None |     0 | 6 | 2010 | WD  | Normal | 105000 | -93.61976 | 42.05301 |\n| One_Story_1946_and_Newer_All_Styles | Residential_Low_Density  |  81 | 14267 | Pave | No_Alley_Access | Slightly_Irregular | Lvl | AllPub | Corner | ⋯ | No_Fence        | Gar2 | 12500 | 6 | 2010 | WD  | Normal | 172000 | -93.61939 | 42.05266 |\n| One_Story_1946_and_Newer_All_Styles | Residential_Low_Density  |  93 | 11160 | Pave | No_Alley_Access | Regular            | Lvl | AllPub | Corner | ⋯ | No_Fence        | None |     0 | 4 | 2010 | WD  | Normal | 244000 | -93.61732 | 42.05125 |\n| Two_Story_1946_and_Newer            | Residential_Low_Density  |  74 | 13830 | Pave | No_Alley_Access | Slightly_Irregular | Lvl | AllPub | Inside | ⋯ | Minimum_Privacy | None |     0 | 3 | 2010 | WD  | Normal | 189900 | -93.63893 | 42.06090 |\n| Two_Story_1946_and_Newer            | Residential_Low_Density  |  78 |  9978 | Pave | No_Alley_Access | Slightly_Irregular | Lvl | AllPub | Inside | ⋯ | No_Fence        | None |     0 | 6 | 2010 | WD  | Normal | 195500 | -93.63893 | 42.06078 |\n\n",
            "text/latex": "A tibble: 6 × 74\n\\begin{tabular}{lllllllllllllllllllll}\n MS\\_SubClass & MS\\_Zoning & Lot\\_Frontage & Lot\\_Area & Street & Alley & Lot\\_Shape & Land\\_Contour & Utilities & Lot\\_Config & ⋯ & Fence & Misc\\_Feature & Misc\\_Val & Mo\\_Sold & Year\\_Sold & Sale\\_Type & Sale\\_Condition & Sale\\_Price & Longitude & Latitude\\\\\n <fct> & <fct> & <dbl> & <int> & <fct> & <fct> & <fct> & <fct> & <fct> & <fct> & ⋯ & <fct> & <fct> & <int> & <int> & <int> & <fct> & <fct> & <int> & <dbl> & <dbl>\\\\\n\\hline\n\t One\\_Story\\_1946\\_and\\_Newer\\_All\\_Styles & Residential\\_Low\\_Density  & 141 & 31770 & Pave & No\\_Alley\\_Access & Slightly\\_Irregular & Lvl & AllPub & Corner & ⋯ & No\\_Fence        & None &     0 & 5 & 2010 & WD  & Normal & 215000 & -93.61975 & 42.05403\\\\\n\t One\\_Story\\_1946\\_and\\_Newer\\_All\\_Styles & Residential\\_High\\_Density &  80 & 11622 & Pave & No\\_Alley\\_Access & Regular            & Lvl & AllPub & Inside & ⋯ & Minimum\\_Privacy & None &     0 & 6 & 2010 & WD  & Normal & 105000 & -93.61976 & 42.05301\\\\\n\t One\\_Story\\_1946\\_and\\_Newer\\_All\\_Styles & Residential\\_Low\\_Density  &  81 & 14267 & Pave & No\\_Alley\\_Access & Slightly\\_Irregular & Lvl & AllPub & Corner & ⋯ & No\\_Fence        & Gar2 & 12500 & 6 & 2010 & WD  & Normal & 172000 & -93.61939 & 42.05266\\\\\n\t One\\_Story\\_1946\\_and\\_Newer\\_All\\_Styles & Residential\\_Low\\_Density  &  93 & 11160 & Pave & No\\_Alley\\_Access & Regular            & Lvl & AllPub & Corner & ⋯ & No\\_Fence        & None &     0 & 4 & 2010 & WD  & Normal & 244000 & -93.61732 & 42.05125\\\\\n\t Two\\_Story\\_1946\\_and\\_Newer            & Residential\\_Low\\_Density  &  74 & 13830 & Pave & No\\_Alley\\_Access & Slightly\\_Irregular & Lvl & AllPub & Inside & ⋯ & Minimum\\_Privacy & None &     0 & 3 & 2010 & WD  & Normal & 189900 & -93.63893 & 42.06090\\\\\n\t Two\\_Story\\_1946\\_and\\_Newer            & Residential\\_Low\\_Density  &  78 &  9978 & Pave & No\\_Alley\\_Access & Slightly\\_Irregular & Lvl & AllPub & Inside & ⋯ & No\\_Fence        & None &     0 & 6 & 2010 & WD  & Normal & 195500 & -93.63893 & 42.06078\\\\\n\\end{tabular}\n",
            "text/plain": [
              "  MS_SubClass                         MS_Zoning                Lot_Frontage\n",
              "1 One_Story_1946_and_Newer_All_Styles Residential_Low_Density  141         \n",
              "2 One_Story_1946_and_Newer_All_Styles Residential_High_Density  80         \n",
              "3 One_Story_1946_and_Newer_All_Styles Residential_Low_Density   81         \n",
              "4 One_Story_1946_and_Newer_All_Styles Residential_Low_Density   93         \n",
              "5 Two_Story_1946_and_Newer            Residential_Low_Density   74         \n",
              "6 Two_Story_1946_and_Newer            Residential_Low_Density   78         \n",
              "  Lot_Area Street Alley           Lot_Shape          Land_Contour Utilities\n",
              "1 31770    Pave   No_Alley_Access Slightly_Irregular Lvl          AllPub   \n",
              "2 11622    Pave   No_Alley_Access Regular            Lvl          AllPub   \n",
              "3 14267    Pave   No_Alley_Access Slightly_Irregular Lvl          AllPub   \n",
              "4 11160    Pave   No_Alley_Access Regular            Lvl          AllPub   \n",
              "5 13830    Pave   No_Alley_Access Slightly_Irregular Lvl          AllPub   \n",
              "6  9978    Pave   No_Alley_Access Slightly_Irregular Lvl          AllPub   \n",
              "  Lot_Config ⋯ Fence           Misc_Feature Misc_Val Mo_Sold Year_Sold\n",
              "1 Corner     ⋯ No_Fence        None             0    5       2010     \n",
              "2 Inside     ⋯ Minimum_Privacy None             0    6       2010     \n",
              "3 Corner     ⋯ No_Fence        Gar2         12500    6       2010     \n",
              "4 Corner     ⋯ No_Fence        None             0    4       2010     \n",
              "5 Inside     ⋯ Minimum_Privacy None             0    3       2010     \n",
              "6 Inside     ⋯ No_Fence        None             0    6       2010     \n",
              "  Sale_Type Sale_Condition Sale_Price Longitude Latitude\n",
              "1 WD        Normal         215000     -93.61975 42.05403\n",
              "2 WD        Normal         105000     -93.61976 42.05301\n",
              "3 WD        Normal         172000     -93.61939 42.05266\n",
              "4 WD        Normal         244000     -93.61732 42.05125\n",
              "5 WD        Normal         189900     -93.63893 42.06090\n",
              "6 WD        Normal         195500     -93.63893 42.06078"
            ]
          },
          "metadata": {}
        }
      ],
      "source": [
        "require(\"pacman\")\n",
        "\n",
        "p_load(\"tidyverse\",\"modeldata\")\n",
        "\n",
        "data(\"ames\", package = \"modeldata\")\n",
        "\n",
        "head(ames)"
      ]
    },
    {
      "cell_type": "markdown",
      "metadata": {
        "id": "-v4ovqxIqSIt"
      },
      "source": [
        "### ¿Qué es Keras?\n",
        "\n",
        "Keras es una biblioteca de aprendizaje profundo de código abierto escrita en Python. Keras proporciona una interfaz de alto nivel para construir y entrenar modelos de aprendizaje profundo en una variedad de plataformas. La biblioteca Keras es conocida por ser fácil de usar, modular y extensible. Permite a los usuarios crear modelos de aprendizaje profundo con pocas líneas de código y está diseñada para ser utilizada en combinación con otras bibliotecas populares de Python, como TensorFlow.\n",
        "\n",
        "Keras ofrece una amplia gama de  funciones de pérdida, optimizadores y métricas de evaluación que se pueden utilizar para entrenar y evaluar modelos.\n",
        "\n",
        "En el caso específico de `R`, la instalación de Keras puede ser  complicada si no se tienen todas las dependencias y configuraciones necesarias en su lugar. Por ejemplo, es necesario tener TensorFlow instalado correctamente antes de poder instalar y utilizar Keras en R. También puede ser necesario instalar otras dependencias adicionales, como el paquete reticulate, que se utiliza para conectar `R` con `Python`. Para saber más de cómo instalar keras localmente pueden ir [acá](https://tensorflow.rstudio.com/install/). Por ello mi recomendación es utilizar google Colab."
      ]
    },
    {
      "cell_type": "markdown",
      "metadata": {
        "id": "Cc8kF9kb7bjQ"
      },
      "source": [
        "## Entrenando una red muy simple\n"
      ]
    },
    {
      "cell_type": "code",
      "execution_count": 4,
      "metadata": {
        "colab": {
          "base_uri": "https://localhost:8080/",
          "height": 254
        },
        "id": "J0Eb61-67Zd7",
        "outputId": "c0d4d0de-fa96-4423-82f5-0a2d0382070c",
        "vscode": {
          "languageId": "r"
        }
      },
      "outputs": [
        {
          "output_type": "display_data",
          "data": {
            "text/html": [
              "<table class=\"dataframe\">\n",
              "<caption>A matrix: 6 × 2 of type int</caption>\n",
              "<thead>\n",
              "\t<tr><th scope=col>Full_Bath</th><th scope=col>Bedroom_AbvGr</th></tr>\n",
              "</thead>\n",
              "<tbody>\n",
              "\t<tr><td>1</td><td>3</td></tr>\n",
              "\t<tr><td>1</td><td>2</td></tr>\n",
              "\t<tr><td>1</td><td>3</td></tr>\n",
              "\t<tr><td>2</td><td>3</td></tr>\n",
              "\t<tr><td>2</td><td>3</td></tr>\n",
              "\t<tr><td>2</td><td>3</td></tr>\n",
              "</tbody>\n",
              "</table>\n"
            ],
            "text/markdown": "\nA matrix: 6 × 2 of type int\n\n| Full_Bath | Bedroom_AbvGr |\n|---|---|\n| 1 | 3 |\n| 1 | 2 |\n| 1 | 3 |\n| 2 | 3 |\n| 2 | 3 |\n| 2 | 3 |\n\n",
            "text/latex": "A matrix: 6 × 2 of type int\n\\begin{tabular}{ll}\n Full\\_Bath & Bedroom\\_AbvGr\\\\\n\\hline\n\t 1 & 3\\\\\n\t 1 & 2\\\\\n\t 1 & 3\\\\\n\t 2 & 3\\\\\n\t 2 & 3\\\\\n\t 2 & 3\\\\\n\\end{tabular}\n",
            "text/plain": [
              "     Full_Bath Bedroom_AbvGr\n",
              "[1,] 1         3            \n",
              "[2,] 1         2            \n",
              "[3,] 1         3            \n",
              "[4,] 2         3            \n",
              "[5,] 2         3            \n",
              "[6,] 2         3            "
            ]
          },
          "metadata": {}
        }
      ],
      "source": [
        "y<- ames$Sale_Price/1000\n",
        "X<- as.matrix(ames  %>% select(Full_Bath,Bedroom_AbvGr))\n",
        "head(X)"
      ]
    },
    {
      "cell_type": "code",
      "execution_count": 5,
      "metadata": {
        "vscode": {
          "languageId": "r"
        },
        "colab": {
          "base_uri": "https://localhost:8080/",
          "height": 34
        },
        "id": "THzZhN1OqSIu",
        "outputId": "ec92b23b-6d06-47da-96cc-99fd311ac468"
      },
      "outputs": [
        {
          "output_type": "display_data",
          "data": {
            "text/html": [
              "<style>\n",
              ".list-inline {list-style: none; margin:0; padding: 0}\n",
              ".list-inline>li {display: inline-block}\n",
              ".list-inline>li:not(:last-child)::after {content: \"\\00b7\"; padding: 0 .5ex}\n",
              "</style>\n",
              "<ol class=list-inline><li>2930</li><li>2</li></ol>\n"
            ],
            "text/markdown": "1. 2930\n2. 2\n\n\n",
            "text/latex": "\\begin{enumerate*}\n\\item 2930\n\\item 2\n\\end{enumerate*}\n",
            "text/plain": [
              "[1] 2930    2"
            ]
          },
          "metadata": {}
        }
      ],
      "source": [
        "dim(X)"
      ]
    },
    {
      "cell_type": "code",
      "execution_count": 6,
      "metadata": {
        "vscode": {
          "languageId": "r"
        },
        "colab": {
          "base_uri": "https://localhost:8080/",
          "height": 34
        },
        "id": "oj_fFn4sqSIv",
        "outputId": "4e527f89-7027-4320-9ee4-331207132e89"
      },
      "outputs": [
        {
          "output_type": "display_data",
          "data": {
            "text/html": [
              "<style>\n",
              ".list-inline {list-style: none; margin:0; padding: 0}\n",
              ".list-inline>li {display: inline-block}\n",
              ".list-inline>li:not(:last-child)::after {content: \"\\00b7\"; padding: 0 .5ex}\n",
              "</style>\n",
              "<ol class=list-inline><li>215</li><li>105</li><li>172</li><li>244</li><li>189.9</li><li>195.5</li></ol>\n"
            ],
            "text/markdown": "1. 215\n2. 105\n3. 172\n4. 244\n5. 189.9\n6. 195.5\n\n\n",
            "text/latex": "\\begin{enumerate*}\n\\item 215\n\\item 105\n\\item 172\n\\item 244\n\\item 189.9\n\\item 195.5\n\\end{enumerate*}\n",
            "text/plain": [
              "[1] 215.0 105.0 172.0 244.0 189.9 195.5"
            ]
          },
          "metadata": {}
        }
      ],
      "source": [
        "head(y)"
      ]
    },
    {
      "cell_type": "markdown",
      "metadata": {
        "vscode": {
          "languageId": "r"
        },
        "id": "wv45YmKKqSIv"
      },
      "source": [
        "<div >\n",
        " <img src = \"figs/networkexample.png\" />\n",
        "</div>"
      ]
    },
    {
      "cell_type": "code",
      "execution_count": 7,
      "metadata": {
        "vscode": {
          "languageId": "r"
        },
        "id": "MLmTXjrhqSIv"
      },
      "outputs": [],
      "source": [
        "snn <- keras_model_sequential() %>%\n",
        "  layer_dense(units = 2,\n",
        "              activation = \"sigmoid\",\n",
        "              input_shape = 2) %>%\n",
        "  layer_dense(units = 1)\n"
      ]
    },
    {
      "cell_type": "code",
      "execution_count": 8,
      "metadata": {
        "vscode": {
          "languageId": "r"
        },
        "colab": {
          "base_uri": "https://localhost:8080/"
        },
        "id": "Lf1xg9rAqSIv",
        "outputId": "7b0f5f49-8edf-44b4-be40-a1f105d0562d"
      },
      "outputs": [
        {
          "output_type": "stream",
          "name": "stdout",
          "text": [
            "Model: \"sequential\"\n",
            "________________________________________________________________________________\n",
            " Layer (type)                       Output Shape                    Param #     \n",
            "================================================================================\n",
            " dense_1 (Dense)                    (None, 2)                       6           \n",
            " dense (Dense)                      (None, 1)                       3           \n",
            "================================================================================\n",
            "Total params: 9 (36.00 Byte)\n",
            "Trainable params: 9 (36.00 Byte)\n",
            "Non-trainable params: 0 (0.00 Byte)\n",
            "________________________________________________________________________________\n"
          ]
        }
      ],
      "source": [
        "summary(snn)"
      ]
    },
    {
      "cell_type": "code",
      "execution_count": 9,
      "metadata": {
        "scrolled": true,
        "vscode": {
          "languageId": "r"
        },
        "id": "bYVUmzQvqSIv"
      },
      "outputs": [],
      "source": [
        "snn %>% compile(loss = \"mse\",\n",
        "                  optimizer = 'sgd',\n",
        "                  metrics = list(\"mean_squared_error\") # H.W. probar también mean_absolute_error\n",
        ")\n",
        "\n",
        "\n",
        "set.seed(10101)\n",
        "history <- snn %>% fit(\n",
        "  X, y,\n",
        "  epochs = 30,\n",
        "  batch_size = 2930 # todas las observaciones\n",
        ")"
      ]
    },
    {
      "cell_type": "code",
      "execution_count": 10,
      "metadata": {
        "vscode": {
          "languageId": "r"
        },
        "colab": {
          "base_uri": "https://localhost:8080/",
          "height": 86
        },
        "id": "Orc5deX-qSIv",
        "outputId": "1e86a7cb-af01-4c51-f166-4a3d352f0252"
      },
      "outputs": [
        {
          "output_type": "display_data",
          "data": {
            "text/plain": [
              "\n",
              "Final epoch (plot to see history):\n",
              "              loss: 7,374\n",
              "mean_squared_error: 7,374 "
            ]
          },
          "metadata": {}
        }
      ],
      "source": [
        "history"
      ]
    },
    {
      "cell_type": "code",
      "execution_count": 11,
      "metadata": {
        "vscode": {
          "languageId": "r"
        },
        "colab": {
          "base_uri": "https://localhost:8080/",
          "height": 524
        },
        "id": "w5mJAuT7qSIv",
        "outputId": "7aebf0f4-31f6-47d1-d77c-422ae1b1678d"
      },
      "outputs": [
        {
          "output_type": "stream",
          "name": "stderr",
          "text": [
            "Warning message:\n",
            "“\u001b[1m\u001b[22mUsing `size` aesthetic for lines was deprecated in ggplot2 3.4.0.\n",
            "\u001b[36mℹ\u001b[39m Please use `linewidth` instead.\n",
            "\u001b[36mℹ\u001b[39m The deprecated feature was likely used in the \u001b[34mkeras\u001b[39m package.\n",
            "  Please report the issue at \u001b[3m\u001b[34m<https://github.com/rstudio/keras3/issues>\u001b[39m\u001b[23m.”\n"
          ]
        },
        {
          "output_type": "display_data",
          "data": {
            "text/plain": [
              "plot without title"
            ],
            "image/png": "[encoded data removed]"
          },
          "metadata": {
            "image/png": {
              "width": 420,
              "height": 420
            }
          }
        }
      ],
      "source": [
        "plot(history,method=\"ggplot2\",theme_bw=TRUE)+scale_y_log10()"
      ]
    },
    {
      "cell_type": "code",
      "execution_count": 12,
      "metadata": {
        "vscode": {
          "languageId": "r"
        },
        "id": "Wu-ROGFDqSIv"
      },
      "outputs": [],
      "source": []
    }
  ],
  "metadata": {
    "colab": {
      "provenance": [],
      "include_colab_link": true
    },
    "kernelspec": {
      "display_name": "R",
      "name": "ir"
    },
    "language_info": {
      "codemirror_mode": "r",
      "file_extension": ".r",
      "mimetype": "text/x-r-source",
      "name": "R",
      "pygments_lexer": "r",
      "version": "4.4.3"
    },
    "toc": {
      "base_numbering": 1,
      "nav_menu": {},
      "number_sections": true,
      "sideBar": true,
      "skip_h1_title": false,
      "title_cell": "Table of Contents",
      "title_sidebar": "Contents",
      "toc_cell": false,
      "toc_position": {},
      "toc_section_display": true,
      "toc_window_display": false
    }
  },
  "nbformat": 4,
  "nbformat_minor": 0
}